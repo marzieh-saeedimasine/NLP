{
 "cells": [
  {
   "cell_type": "code",
   "execution_count": null,
   "id": "464832b4",
   "metadata": {},
   "outputs": [],
   "source": [
    "'''\n",
    " Word embedding techniques:\n",
    "-- Based on CBOW and skip gram in which ANN trained on the text and a side result you get weights as word embeding vector. It includes: Word2vec, GloVe, fastText methods\n",
    "-- Based on transformer architecture: BERT, GPT\n",
    "-- Based on LSTM: ELMo\n",
    "\n",
    "-- Word2vec: trained on words, has problem of OOV while FastText: trained on character n-GRAM, handel OOV nicely, train for your domain (custom)\n",
    "-- Gensim is a Python library and includes various models for Word2vec embeddings for generating word embeddings (vector representations of words).\n",
    "-- api.info() is showing all avialible gensim models are listed here: https://github.com/piskvorky/gensim-data\n",
    "-- Gensim API Models: word2vec-google-news\n",
    "-- GloVe (Global Vectors for Word Representation) model from standford University https://nlp.stanford.edu/projects/glove/\n",
    "-- Word2Vec embedding with SpaCy lang Model\n",
    "'''"
   ]
  },
  {
   "cell_type": "code",
   "execution_count": 13,
   "id": "a48f82fa-8846-447e-a5c8-06ea739d3333",
   "metadata": {},
   "outputs": [],
   "source": [
    "import numpy as np\n",
    "import pandas as pd\n",
    "import seaborn as sns\n",
    "import tensorflow as tf\n",
    "import spacy\n",
    "import gensim\n",
    "import gensim.downloader as api \n",
    "from gensim.models import Word2Vec\n",
    "from sklearn.preprocessing import MinMaxScaler\n",
    "from sklearn.metrics.pairwise import cosine_similarity\n",
    "from sklearn.model_selection import train_test_split\n",
    "from sklearn.metrics import confusion_matrix, classification_report\n",
    "from sklearn.ensemble import GradientBoostingClassifier\n",
    "from sklearn.neighbors import KNeighborsClassifier\n",
    "from sklearn.tree import DecisionTreeClassifier\n",
    "from sklearn.naive_bayes import MultinomialNB"
   ]
  },
  {
   "cell_type": "code",
   "execution_count": 9,
   "id": "09d4f1e8",
   "metadata": {},
   "outputs": [
    {
     "name": "stdout",
     "output_type": "stream",
     "text": [
      "Downloading data from http://snap.stanford.edu/data/amazon/productGraph/categoryFiles/reviews_Cell_Phones_and_Accessories_5.json.gz\n",
      "\u001b[1m45409631/45409631\u001b[0m \u001b[32m━━━━━━━━━━━━━━━━━━━━\u001b[0m\u001b[37m\u001b[0m \u001b[1m23s\u001b[0m 1us/step\n"
     ]
    },
    {
     "name": "stderr",
     "output_type": "stream",
     "text": [
      "/var/folders/6p/5mzp7fyd4mgchv364j3jy2jr0000gn/T/ipykernel_39711/1148234113.py:1: UserWarning: Could not extract archive.\n",
      "  tf.keras.utils.get_file(origin='http://snap.stanford.edu/data/amazon/productGraph/categoryFiles/reviews_Cell_Phones_and_Accessories_5.json.gz',\n"
     ]
    },
    {
     "data": {
      "text/html": [
       "<div>\n",
       "<style scoped>\n",
       "    .dataframe tbody tr th:only-of-type {\n",
       "        vertical-align: middle;\n",
       "    }\n",
       "\n",
       "    .dataframe tbody tr th {\n",
       "        vertical-align: top;\n",
       "    }\n",
       "\n",
       "    .dataframe thead th {\n",
       "        text-align: right;\n",
       "    }\n",
       "</style>\n",
       "<table border=\"1\" class=\"dataframe\">\n",
       "  <thead>\n",
       "    <tr style=\"text-align: right;\">\n",
       "      <th></th>\n",
       "      <th>reviewerID</th>\n",
       "      <th>asin</th>\n",
       "      <th>reviewerName</th>\n",
       "      <th>helpful</th>\n",
       "      <th>reviewText</th>\n",
       "      <th>overall</th>\n",
       "      <th>summary</th>\n",
       "      <th>unixReviewTime</th>\n",
       "      <th>reviewTime</th>\n",
       "    </tr>\n",
       "  </thead>\n",
       "  <tbody>\n",
       "    <tr>\n",
       "      <th>0</th>\n",
       "      <td>A30TL5EWN6DFXT</td>\n",
       "      <td>120401325X</td>\n",
       "      <td>christina</td>\n",
       "      <td>[0, 0]</td>\n",
       "      <td>They look good and stick good! I just don't li...</td>\n",
       "      <td>4</td>\n",
       "      <td>Looks Good</td>\n",
       "      <td>1400630400</td>\n",
       "      <td>05 21, 2014</td>\n",
       "    </tr>\n",
       "    <tr>\n",
       "      <th>1</th>\n",
       "      <td>ASY55RVNIL0UD</td>\n",
       "      <td>120401325X</td>\n",
       "      <td>emily l.</td>\n",
       "      <td>[0, 0]</td>\n",
       "      <td>These stickers work like the review says they ...</td>\n",
       "      <td>5</td>\n",
       "      <td>Really great product.</td>\n",
       "      <td>1389657600</td>\n",
       "      <td>01 14, 2014</td>\n",
       "    </tr>\n",
       "    <tr>\n",
       "      <th>2</th>\n",
       "      <td>A2TMXE2AFO7ONB</td>\n",
       "      <td>120401325X</td>\n",
       "      <td>Erica</td>\n",
       "      <td>[0, 0]</td>\n",
       "      <td>These are awesome and make my phone look so st...</td>\n",
       "      <td>5</td>\n",
       "      <td>LOVE LOVE LOVE</td>\n",
       "      <td>1403740800</td>\n",
       "      <td>06 26, 2014</td>\n",
       "    </tr>\n",
       "    <tr>\n",
       "      <th>3</th>\n",
       "      <td>AWJ0WZQYMYFQ4</td>\n",
       "      <td>120401325X</td>\n",
       "      <td>JM</td>\n",
       "      <td>[4, 4]</td>\n",
       "      <td>Item arrived in great time and was in perfect ...</td>\n",
       "      <td>4</td>\n",
       "      <td>Cute!</td>\n",
       "      <td>1382313600</td>\n",
       "      <td>10 21, 2013</td>\n",
       "    </tr>\n",
       "    <tr>\n",
       "      <th>4</th>\n",
       "      <td>ATX7CZYFXI1KW</td>\n",
       "      <td>120401325X</td>\n",
       "      <td>patrice m rogoza</td>\n",
       "      <td>[2, 3]</td>\n",
       "      <td>awesome! stays on, and looks great. can be use...</td>\n",
       "      <td>5</td>\n",
       "      <td>leopard home button sticker for iphone 4s</td>\n",
       "      <td>1359849600</td>\n",
       "      <td>02 3, 2013</td>\n",
       "    </tr>\n",
       "  </tbody>\n",
       "</table>\n",
       "</div>"
      ],
      "text/plain": [
       "       reviewerID        asin      reviewerName helpful  \\\n",
       "0  A30TL5EWN6DFXT  120401325X         christina  [0, 0]   \n",
       "1   ASY55RVNIL0UD  120401325X          emily l.  [0, 0]   \n",
       "2  A2TMXE2AFO7ONB  120401325X             Erica  [0, 0]   \n",
       "3   AWJ0WZQYMYFQ4  120401325X                JM  [4, 4]   \n",
       "4   ATX7CZYFXI1KW  120401325X  patrice m rogoza  [2, 3]   \n",
       "\n",
       "                                          reviewText  overall  \\\n",
       "0  They look good and stick good! I just don't li...        4   \n",
       "1  These stickers work like the review says they ...        5   \n",
       "2  These are awesome and make my phone look so st...        5   \n",
       "3  Item arrived in great time and was in perfect ...        4   \n",
       "4  awesome! stays on, and looks great. can be use...        5   \n",
       "\n",
       "                                     summary  unixReviewTime   reviewTime  \n",
       "0                                 Looks Good      1400630400  05 21, 2014  \n",
       "1                      Really great product.      1389657600  01 14, 2014  \n",
       "2                             LOVE LOVE LOVE      1403740800  06 26, 2014  \n",
       "3                                      Cute!      1382313600  10 21, 2013  \n",
       "4  leopard home button sticker for iphone 4s      1359849600   02 3, 2013  "
      ]
     },
     "execution_count": 9,
     "metadata": {},
     "output_type": "execute_result"
    }
   ],
   "source": [
    "tf.keras.utils.get_file(origin='http://snap.stanford.edu/data/amazon/productGraph/categoryFiles/reviews_Cell_Phones_and_Accessories_5.json.gz',\n",
    "                             cache_dir='.', extract=True)\n",
    "\n",
    "df=pd.read_json(\"datasets/reviews_Cell_Phones_and_Accessories_5.json\",lines=True)\n",
    "df.head()"
   ]
  },
  {
   "cell_type": "code",
   "execution_count": 12,
   "id": "12530756",
   "metadata": {},
   "outputs": [],
   "source": [
    "review_text= df.reviewText.apply(gensim.utils.simple_preprocess) # tokenize the sentense"
   ]
  },
  {
   "cell_type": "markdown",
   "id": "b86ddaa5",
   "metadata": {},
   "source": [
    "# Word2Vec gensim model on data"
   ]
  },
  {
   "cell_type": "code",
   "execution_count": 50,
   "id": "65b5e68a",
   "metadata": {},
   "outputs": [
    {
     "data": {
      "text/plain": [
       "(61510015, 83868975)"
      ]
     },
     "execution_count": 50,
     "metadata": {},
     "output_type": "execute_result"
    }
   ],
   "source": [
    "model=gensim.models.Word2Vec(\n",
    "      window=10,\n",
    "      min_count=2,\n",
    "      workers=4,\n",
    "      vector_size=100    \n",
    ")\n",
    "model.build_vocab(review_text, progress_per=500)\n",
    "model.train(review_text, total_examples=len(review_text), epochs=model.epochs)"
   ]
  },
  {
   "cell_type": "code",
   "execution_count": 49,
   "id": "0e564a1c",
   "metadata": {},
   "outputs": [
    {
     "data": {
      "text/plain": [
       "array([ 1.8204657 , -2.2501621 ,  2.3243976 ,  1.7318969 , -0.7010403 ,\n",
       "        0.2839433 ,  2.9624343 ,  1.0002843 ,  0.34557167,  0.88745636,\n",
       "       -1.886553  ,  2.7619045 , -0.01926234, -2.2938316 , -1.1018366 ,\n",
       "        2.7109637 ,  1.2904496 ,  2.3829587 ,  2.0005403 , -1.2784208 ,\n",
       "       -2.6292458 ,  2.4657032 , -0.4176733 ,  1.2948536 , -0.66294783,\n",
       "        2.244852  , -1.9904323 ,  3.2380457 , -3.4631236 , -0.9400738 ,\n",
       "        0.09391774, -1.1271873 ,  3.3769734 ,  0.20439222,  0.5587165 ,\n",
       "       -1.2676477 ,  0.9895228 ,  0.05722122, -2.9530137 , -0.2601852 ,\n",
       "       -0.9919815 ,  1.7022675 ,  2.0698514 , -0.6259207 , -2.611614  ,\n",
       "       -1.7562488 ,  3.563456  , -2.2334957 , -3.0962386 ,  0.1181924 ,\n",
       "        1.8074092 ,  3.0052838 , -3.230116  ,  3.2101202 ,  1.8468437 ,\n",
       "        0.10067616, -3.0754683 ,  4.687876  , -0.66638994, -5.9529505 ,\n",
       "        0.01685345,  0.62802   ,  2.377173  , -1.3592235 ,  0.620287  ,\n",
       "        1.7915851 , -2.2305093 , -2.8235927 , -0.15478559, -6.0089526 ,\n",
       "       -1.4802792 ,  1.9662025 , -0.74243414, -1.9220082 ,  2.019274  ,\n",
       "       -0.9199627 ,  0.5099253 , -0.28187168,  0.5687091 ,  2.1409123 ,\n",
       "        0.75270975, -2.1408217 , -3.0571392 , -0.5908925 , -2.6320932 ,\n",
       "        1.1072888 , -2.1420393 , -3.3865108 , -1.702924  , -0.32776678,\n",
       "       -4.298505  ,  1.9095312 ,  1.4108053 , -2.6871715 ,  2.2793036 ,\n",
       "       -2.177248  ,  1.2305125 , -0.9481546 , -1.0121083 ,  0.8356962 ],\n",
       "      dtype=float32)"
      ]
     },
     "execution_count": 49,
     "metadata": {},
     "output_type": "execute_result"
    }
   ],
   "source": [
    "model.wv.similarity(\"good\",\"great\")\n",
    "model.wv.most_similar(\"item\")\n",
    "model.corpus_count\n",
    "model.wv.vectors.shape\n",
    "model.wv.vectors[0].shape\n",
    "model.wv.vector_size\n",
    "model.wv.get_index('good')\n",
    "model.wv.key_to_index\n",
    "model.wv[\"good\"]"
   ]
  },
  {
   "cell_type": "code",
   "execution_count": 59,
   "id": "3cbd8a75",
   "metadata": {},
   "outputs": [
    {
     "data": {
      "text/plain": [
       "array([[1.0000001, 0.7798734],\n",
       "       [0.7798734, 1.0000002]], dtype=float32)"
      ]
     },
     "execution_count": 59,
     "metadata": {},
     "output_type": "execute_result"
    }
   ],
   "source": [
    "model.wv.get_mean_vector([\"embeddings\", \"model\"])\n",
    "cosine_similarity([model.wv[\"great\"],model.wv[\"good\"]]) # [0][1]"
   ]
  },
  {
   "cell_type": "code",
   "execution_count": 60,
   "id": "09b1787d",
   "metadata": {},
   "outputs": [],
   "source": [
    "model.save(\"Cell_Phones_review.model\")"
   ]
  },
  {
   "cell_type": "markdown",
   "id": "61adb222",
   "metadata": {},
   "source": [
    "# News classification with W2V gensim model "
   ]
  },
  {
   "cell_type": "code",
   "execution_count": 3,
   "id": "2e0de95a",
   "metadata": {},
   "outputs": [
    {
     "data": {
      "text/html": [
       "<div>\n",
       "<style scoped>\n",
       "    .dataframe tbody tr th:only-of-type {\n",
       "        vertical-align: middle;\n",
       "    }\n",
       "\n",
       "    .dataframe tbody tr th {\n",
       "        vertical-align: top;\n",
       "    }\n",
       "\n",
       "    .dataframe thead th {\n",
       "        text-align: right;\n",
       "    }\n",
       "</style>\n",
       "<table border=\"1\" class=\"dataframe\">\n",
       "  <thead>\n",
       "    <tr style=\"text-align: right;\">\n",
       "      <th></th>\n",
       "      <th>author</th>\n",
       "      <th>published</th>\n",
       "      <th>title</th>\n",
       "      <th>text</th>\n",
       "      <th>language</th>\n",
       "      <th>site_url</th>\n",
       "      <th>main_img_url</th>\n",
       "      <th>type</th>\n",
       "      <th>label</th>\n",
       "      <th>title_without_stopwords</th>\n",
       "      <th>text_without_stopwords</th>\n",
       "      <th>hasImage</th>\n",
       "      <th>label_num</th>\n",
       "    </tr>\n",
       "  </thead>\n",
       "  <tbody>\n",
       "    <tr>\n",
       "      <th>0</th>\n",
       "      <td>Barracuda Brigade</td>\n",
       "      <td>2016-10-26T21:41:00.000+03:00</td>\n",
       "      <td>muslims busted they stole millions in govt ben...</td>\n",
       "      <td>print they should pay all the back all the mon...</td>\n",
       "      <td>english</td>\n",
       "      <td>100percentfedup.com</td>\n",
       "      <td>http://bb4sp.com/wp-content/uploads/2016/10/Fu...</td>\n",
       "      <td>bias</td>\n",
       "      <td>Real</td>\n",
       "      <td>muslims busted stole millions govt benefits</td>\n",
       "      <td>print pay back money plus interest entire fami...</td>\n",
       "      <td>1.0</td>\n",
       "      <td>1</td>\n",
       "    </tr>\n",
       "    <tr>\n",
       "      <th>1</th>\n",
       "      <td>reasoning with facts</td>\n",
       "      <td>2016-10-29T08:47:11.259+03:00</td>\n",
       "      <td>re why did attorney general loretta lynch plea...</td>\n",
       "      <td>why did attorney general loretta lynch plead t...</td>\n",
       "      <td>english</td>\n",
       "      <td>100percentfedup.com</td>\n",
       "      <td>http://bb4sp.com/wp-content/uploads/2016/10/Fu...</td>\n",
       "      <td>bias</td>\n",
       "      <td>Real</td>\n",
       "      <td>attorney general loretta lynch plead fifth</td>\n",
       "      <td>attorney general loretta lynch plead fifth bar...</td>\n",
       "      <td>1.0</td>\n",
       "      <td>1</td>\n",
       "    </tr>\n",
       "    <tr>\n",
       "      <th>2</th>\n",
       "      <td>Barracuda Brigade</td>\n",
       "      <td>2016-10-31T01:41:49.479+02:00</td>\n",
       "      <td>breaking weiner cooperating with fbi on hillar...</td>\n",
       "      <td>red state  \\nfox news sunday reported this mor...</td>\n",
       "      <td>english</td>\n",
       "      <td>100percentfedup.com</td>\n",
       "      <td>http://bb4sp.com/wp-content/uploads/2016/10/Fu...</td>\n",
       "      <td>bias</td>\n",
       "      <td>Real</td>\n",
       "      <td>breaking weiner cooperating fbi hillary email ...</td>\n",
       "      <td>red state fox news sunday reported morning ant...</td>\n",
       "      <td>1.0</td>\n",
       "      <td>1</td>\n",
       "    </tr>\n",
       "    <tr>\n",
       "      <th>3</th>\n",
       "      <td>Fed Up</td>\n",
       "      <td>2016-11-01T05:22:00.000+02:00</td>\n",
       "      <td>pin drop speech by father of daughter kidnappe...</td>\n",
       "      <td>email kayla mueller was a prisoner and torture...</td>\n",
       "      <td>english</td>\n",
       "      <td>100percentfedup.com</td>\n",
       "      <td>http://100percentfedup.com/wp-content/uploads/...</td>\n",
       "      <td>bias</td>\n",
       "      <td>Real</td>\n",
       "      <td>pin drop speech father daughter kidnapped kill...</td>\n",
       "      <td>email kayla mueller prisoner tortured isis cha...</td>\n",
       "      <td>1.0</td>\n",
       "      <td>1</td>\n",
       "    </tr>\n",
       "    <tr>\n",
       "      <th>4</th>\n",
       "      <td>Fed Up</td>\n",
       "      <td>2016-11-01T21:56:00.000+02:00</td>\n",
       "      <td>fantastic trumps  point plan to reform healthc...</td>\n",
       "      <td>email healthcare reform to make america great ...</td>\n",
       "      <td>english</td>\n",
       "      <td>100percentfedup.com</td>\n",
       "      <td>http://100percentfedup.com/wp-content/uploads/...</td>\n",
       "      <td>bias</td>\n",
       "      <td>Real</td>\n",
       "      <td>fantastic trumps point plan reform healthcare ...</td>\n",
       "      <td>email healthcare reform make america great sin...</td>\n",
       "      <td>1.0</td>\n",
       "      <td>1</td>\n",
       "    </tr>\n",
       "  </tbody>\n",
       "</table>\n",
       "</div>"
      ],
      "text/plain": [
       "                 author                      published  \\\n",
       "0     Barracuda Brigade  2016-10-26T21:41:00.000+03:00   \n",
       "1  reasoning with facts  2016-10-29T08:47:11.259+03:00   \n",
       "2     Barracuda Brigade  2016-10-31T01:41:49.479+02:00   \n",
       "3                Fed Up  2016-11-01T05:22:00.000+02:00   \n",
       "4                Fed Up  2016-11-01T21:56:00.000+02:00   \n",
       "\n",
       "                                               title  \\\n",
       "0  muslims busted they stole millions in govt ben...   \n",
       "1  re why did attorney general loretta lynch plea...   \n",
       "2  breaking weiner cooperating with fbi on hillar...   \n",
       "3  pin drop speech by father of daughter kidnappe...   \n",
       "4  fantastic trumps  point plan to reform healthc...   \n",
       "\n",
       "                                                text language  \\\n",
       "0  print they should pay all the back all the mon...  english   \n",
       "1  why did attorney general loretta lynch plead t...  english   \n",
       "2  red state  \\nfox news sunday reported this mor...  english   \n",
       "3  email kayla mueller was a prisoner and torture...  english   \n",
       "4  email healthcare reform to make america great ...  english   \n",
       "\n",
       "              site_url                                       main_img_url  \\\n",
       "0  100percentfedup.com  http://bb4sp.com/wp-content/uploads/2016/10/Fu...   \n",
       "1  100percentfedup.com  http://bb4sp.com/wp-content/uploads/2016/10/Fu...   \n",
       "2  100percentfedup.com  http://bb4sp.com/wp-content/uploads/2016/10/Fu...   \n",
       "3  100percentfedup.com  http://100percentfedup.com/wp-content/uploads/...   \n",
       "4  100percentfedup.com  http://100percentfedup.com/wp-content/uploads/...   \n",
       "\n",
       "   type label                            title_without_stopwords  \\\n",
       "0  bias  Real        muslims busted stole millions govt benefits   \n",
       "1  bias  Real         attorney general loretta lynch plead fifth   \n",
       "2  bias  Real  breaking weiner cooperating fbi hillary email ...   \n",
       "3  bias  Real  pin drop speech father daughter kidnapped kill...   \n",
       "4  bias  Real  fantastic trumps point plan reform healthcare ...   \n",
       "\n",
       "                              text_without_stopwords  hasImage  label_num  \n",
       "0  print pay back money plus interest entire fami...       1.0          1  \n",
       "1  attorney general loretta lynch plead fifth bar...       1.0          1  \n",
       "2  red state fox news sunday reported morning ant...       1.0          1  \n",
       "3  email kayla mueller prisoner tortured isis cha...       1.0          1  \n",
       "4  email healthcare reform make america great sin...       1.0          1  "
      ]
     },
     "execution_count": 3,
     "metadata": {},
     "output_type": "execute_result"
    }
   ],
   "source": [
    "# fake detection news data was taken from: https://www.kaggle.com/code/sharanya02/fake-news-detection/input\n",
    "df=pd.read_csv(\"news_articles.csv\")\n",
    "df[\"label_num\"]=df[\"label\"].apply(lambda x: 1 if x==\"Real\" else 0)\n",
    "df.head()"
   ]
  },
  {
   "cell_type": "code",
   "execution_count": 69,
   "id": "8a0dfa5e",
   "metadata": {},
   "outputs": [],
   "source": [
    "nlp = spacy.load(\"en_core_web_lg\")\n",
    "def preprocess_vectorize(text):\n",
    "    filtered_token=[]\n",
    "    doc=nlp(text)\n",
    "    for token in doc:\n",
    "        if token.is_stop or token.is_punct:\n",
    "            continue\n",
    "        else:\n",
    "            filtered_token.append(token.lemma_)\n",
    "    return(model.wv.get_mean_vector(filtered_token))     "
   ]
  },
  {
   "cell_type": "code",
   "execution_count": 72,
   "id": "f75cbb06",
   "metadata": {},
   "outputs": [],
   "source": [
    "df.dropna(subset=['text'], inplace=True)\n",
    "df[\"text_new\"]=df[\"text\"].apply(preprocess_vectorize)"
   ]
  },
  {
   "cell_type": "code",
   "execution_count": 82,
   "id": "6a041376",
   "metadata": {},
   "outputs": [
    {
     "data": {
      "text/plain": [
       "(1537, 100)"
      ]
     },
     "execution_count": 82,
     "metadata": {},
     "output_type": "execute_result"
    }
   ],
   "source": [
    "x_train,x_test,y_train, y_test=train_test_split(df[\"text_new\"],df[\"label_num\"],stratify=df.label_num,random_state=120)\n",
    "x_train_2d=np.stack(x_train)\n",
    "x_test_2d=np.stack(x_test)\n",
    "x_train_2d.shape"
   ]
  },
  {
   "cell_type": "code",
   "execution_count": 83,
   "id": "cce675ef",
   "metadata": {},
   "outputs": [
    {
     "name": "stdout",
     "output_type": "stream",
     "text": [
      "              precision    recall  f1-score   support\n",
      "\n",
      "           0       0.68      0.86      0.76       323\n",
      "           1       0.57      0.31      0.40       190\n",
      "\n",
      "    accuracy                           0.66       513\n",
      "   macro avg       0.62      0.59      0.58       513\n",
      "weighted avg       0.64      0.66      0.63       513\n",
      "\n"
     ]
    }
   ],
   "source": [
    "model=GradientBoostingClassifier()\n",
    "model.fit(x_train_2d,y_train)\n",
    "ypred=model.predict(x_test_2d)\n",
    "print(classification_report(y_test, ypred))"
   ]
  },
  {
   "cell_type": "code",
   "execution_count": 87,
   "id": "ce95aebf",
   "metadata": {},
   "outputs": [
    {
     "data": {
      "text/plain": [
       "<Axes: >"
      ]
     },
     "execution_count": 87,
     "metadata": {},
     "output_type": "execute_result"
    },
    {
     "data": {
      "image/png": "[encoded data removed]",
      "text/plain": [
       "<Figure size 640x480 with 2 Axes>"
      ]
     },
     "metadata": {},
     "output_type": "display_data"
    }
   ],
   "source": [
    "cm=confusion_matrix(y_test, ypred)\n",
    "sns.heatmap(cm, annot=True, fmt='d')"
   ]
  },
  {
   "cell_type": "markdown",
   "id": "21cdc330-6739-4e2f-b81f-70f7433e4ac4",
   "metadata": {},
   "source": [
    "# Gensim word2vec model of google-news data"
   ]
  },
  {
   "cell_type": "code",
   "execution_count": 88,
   "id": "1ad64be6-166f-4043-b233-914e01dfb2d0",
   "metadata": {},
   "outputs": [],
   "source": [
    "wv = api.load('word2vec-google-news-300')  "
   ]
  },
  {
   "cell_type": "code",
   "execution_count": 89,
   "id": "5f378de0-ba4b-4de6-8dc6-8fa3fe58e597",
   "metadata": {},
   "outputs": [
    {
     "data": {
      "text/plain": [
       "'google'"
      ]
     },
     "execution_count": 89,
     "metadata": {},
     "output_type": "execute_result"
    }
   ],
   "source": [
    "wv.similarity(\"good\",\"bad\")\n",
    "wv.most_similar(\"good\", topn=5)\n",
    "wv.most_similar(positive=[\"france\",\"berlin\"], negative=[\"paris\"], topn=5)\n",
    "wv.doesnt_match([\"dog\", \"cat\", \"google\", \"mouse\"])"
   ]
  },
  {
   "cell_type": "code",
   "execution_count": 90,
   "id": "2642c253-5395-4b93-93e2-bd9be24fcee9",
   "metadata": {},
   "outputs": [
    {
     "data": {
      "text/plain": [
       "array([[1.       , 0.729151 ],\n",
       "       [0.729151 , 1.0000002]], dtype=float32)"
      ]
     },
     "execution_count": 90,
     "metadata": {},
     "output_type": "execute_result"
    }
   ],
   "source": [
    "wv.get_mean_vector([\"dog\", \"cat\"])\n",
    "cosine_similarity([wv[\"great\"],wv[\"good\"]]) # [0][1]"
   ]
  },
  {
   "cell_type": "code",
   "execution_count": 91,
   "id": "f9a4accb",
   "metadata": {},
   "outputs": [],
   "source": [
    "nlp = spacy.load(\"en_core_web_lg\")\n",
    "def preprocess_vectorize(text):\n",
    "    filtered_token=[]\n",
    "    doc=nlp(text)\n",
    "    for token in doc:\n",
    "        if token.is_stop or token.is_punct:\n",
    "            continue\n",
    "        else:\n",
    "            filtered_token.append(token.lemma_)\n",
    "    return(wv.get_mean_vector(filtered_token))     "
   ]
  },
  {
   "cell_type": "code",
   "execution_count": 92,
   "id": "047c6b4b",
   "metadata": {},
   "outputs": [],
   "source": [
    "df[\"text_new\"]=df[\"text\"].apply(preprocess_vectorize)\n",
    "x_train,x_test,y_train, y_test=train_test_split(df[\"text_new\"],df[\"label_num\"],stratify=df.label_num,random_state=120)\n",
    "x_train_2d=np.stack(x_train)\n",
    "x_test_2d=np.stack(x_test)"
   ]
  },
  {
   "cell_type": "code",
   "execution_count": 106,
   "id": "86883392",
   "metadata": {},
   "outputs": [
    {
     "name": "stdout",
     "output_type": "stream",
     "text": [
      "              precision    recall  f1-score   support\n",
      "\n",
      "           0       0.70      0.70      0.70       323\n",
      "           1       0.49      0.50      0.50       190\n",
      "\n",
      "    accuracy                           0.63       513\n",
      "   macro avg       0.60      0.60      0.60       513\n",
      "weighted avg       0.63      0.63      0.63       513\n",
      "\n"
     ]
    },
    {
     "name": "stderr",
     "output_type": "stream",
     "text": [
      "/usr/local/lib/python3.11/site-packages/threadpoolctl.py:1010: RuntimeWarning: \n",
      "Found Intel OpenMP ('libiomp') and LLVM OpenMP ('libomp') loaded at\n",
      "the same time. Both libraries are known to be incompatible and this\n",
      "can cause random crashes or deadlocks on Linux when loaded in the\n",
      "same Python program.\n",
      "Using threadpoolctl may cause crashes or deadlocks. For more\n",
      "information and possible workarounds, please see\n",
      "    https://github.com/joblib/threadpoolctl/blob/master/multiple_openmp.md\n",
      "\n",
      "  warnings.warn(msg, RuntimeWarning)\n"
     ]
    }
   ],
   "source": [
    "model = KNeighborsClassifier(n_neighbors=5)\n",
    "model.fit(x_train_2d,y_train)\n",
    "ypred=model.predict(x_test_2d)\n",
    "print(classification_report(y_test, ypred))"
   ]
  },
  {
   "cell_type": "code",
   "execution_count": 107,
   "id": "cf752ce9",
   "metadata": {},
   "outputs": [
    {
     "data": {
      "text/plain": [
       "<Axes: >"
      ]
     },
     "execution_count": 107,
     "metadata": {},
     "output_type": "execute_result"
    },
    {
     "data": {
      "image/png": "[encoded data removed]",
      "text/plain": [
       "<Figure size 640x480 with 2 Axes>"
      ]
     },
     "metadata": {},
     "output_type": "display_data"
    }
   ],
   "source": [
    "cm=confusion_matrix(y_test, ypred)\n",
    "sns.heatmap(cm, annot=True, fmt='d')"
   ]
  },
  {
   "cell_type": "markdown",
   "id": "091877bc-1318-4d60-bebb-c168f55a24b5",
   "metadata": {},
   "source": [
    "# Gensim Word2Vec model of GloVe"
   ]
  },
  {
   "cell_type": "code",
   "execution_count": 109,
   "id": "99c1ef0f-86e9-4f56-a9ab-7559fb1e1165",
   "metadata": {},
   "outputs": [],
   "source": [
    "glv = api.load(\"glove-twitter-25\")"
   ]
  },
  {
   "cell_type": "code",
   "execution_count": 110,
   "id": "ae55dce0-ac68-4e0a-a2dd-2ba6f7120941",
   "metadata": {},
   "outputs": [
    {
     "data": {
      "text/plain": [
       "'cereal'"
      ]
     },
     "execution_count": 110,
     "metadata": {},
     "output_type": "execute_result"
    }
   ],
   "source": [
    "glv.similarity(\"good\",\"bad\")\n",
    "glv.most_similar(\"good\",topn=5)\n",
    "glv.doesnt_match(\"breakfast cereal dinner lunch\".split())"
   ]
  },
  {
   "cell_type": "code",
   "execution_count": 111,
   "id": "22681c03",
   "metadata": {},
   "outputs": [],
   "source": [
    "nlp = spacy.load(\"en_core_web_lg\")\n",
    "def preprocess_vectorize(text):\n",
    "    filtered_token=[]\n",
    "    doc=nlp(text)\n",
    "    for token in doc:\n",
    "        if token.is_stop or token.is_punct:\n",
    "            continue\n",
    "        else:\n",
    "            filtered_token.append(token.lemma_)\n",
    "    return(glv.get_mean_vector(filtered_token))     "
   ]
  },
  {
   "cell_type": "code",
   "execution_count": 112,
   "id": "a3fcbe9a",
   "metadata": {},
   "outputs": [],
   "source": [
    "df[\"text_new\"]=df[\"text\"].apply(preprocess_vectorize)\n",
    "x_train,x_test,y_train, y_test=train_test_split(df[\"text_new\"],df[\"label_num\"],stratify=df.label_num,random_state=120)\n",
    "x_train_2d=np.stack(x_train)\n",
    "x_test_2d=np.stack(x_test)"
   ]
  },
  {
   "cell_type": "code",
   "execution_count": 113,
   "id": "dbb943e7",
   "metadata": {},
   "outputs": [
    {
     "name": "stdout",
     "output_type": "stream",
     "text": [
      "              precision    recall  f1-score   support\n",
      "\n",
      "           0       0.65      0.67      0.66       323\n",
      "           1       0.42      0.40      0.41       190\n",
      "\n",
      "    accuracy                           0.57       513\n",
      "   macro avg       0.53      0.53      0.53       513\n",
      "weighted avg       0.57      0.57      0.57       513\n",
      "\n"
     ]
    }
   ],
   "source": [
    "model=DecisionTreeClassifier()\n",
    "model.fit(x_train_2d,y_train)\n",
    "ypred=model.predict(x_test_2d)\n",
    "print(classification_report(y_test, ypred))"
   ]
  },
  {
   "cell_type": "code",
   "execution_count": 114,
   "id": "78b8a85a-dddc-44c4-8127-65415e8bea88",
   "metadata": {},
   "outputs": [
    {
     "data": {
      "text/plain": [
       "<Axes: >"
      ]
     },
     "execution_count": 114,
     "metadata": {},
     "output_type": "execute_result"
    },
    {
     "data": {
      "image/png": "[encoded data removed]",
      "text/plain": [
       "<Figure size 640x480 with 2 Axes>"
      ]
     },
     "metadata": {},
     "output_type": "display_data"
    }
   ],
   "source": [
    "cm=confusion_matrix(y_test, ypred)\n",
    "sns.heatmap(cm, annot=True, fmt='d')"
   ]
  },
  {
   "cell_type": "code",
   "execution_count": 115,
   "id": "432d3f6e-c948-44ef-bfb4-beecae8d2628",
   "metadata": {},
   "outputs": [],
   "source": [
    "test_news = [\n",
    "    \"Michigan governor denies misleading U.S. House on Flint water (Reuters) - Michigan Governor Rick Snyder denied Thursday that he had misled a U.S. House of Representatives committee last year over testimony on Flintâ€™s water crisis after lawmakers asked if his testimony had been contradicted by a witness in a court hearing. The House Oversight and Government Reform Committee wrote Snyder earlier Thursday asking him about published reports that one of his aides, Harvey Hollins, testified in a court hearing last week in Michigan that he had notified Snyder of an outbreak of Legionnairesâ€™ disease linked to the Flint water crisis in December 2015, rather than 2016 as Snyder had testified. â€œMy testimony was truthful and I stand by it,â€ Snyder told the committee in a letter, adding that his office has provided tens of thousands of pages of records to the committee and would continue to cooperate fully.  Last week, prosecutors in Michigan said Dr. Eden Wells, the stateâ€™s chief medical executive who already faced lesser charges, would become the sixth current or former official to face involuntary manslaughter charges in connection with the crisis. The charges stem from more than 80 cases of Legionnairesâ€™ disease and at least 12 deaths that were believed to be linked to the water in Flint after the city switched its source from Lake Huron to the Flint River in April 2014. Wells was among six current and former Michigan and Flint officials charged in June. The other five, including Michigan Health and Human Services Director Nick Lyon, were charged at the time with involuntary manslaughter\",\n",
    "    \" WATCH: Fox News Host Loses Her Sh*t, Says Investigating Russia For Hacking Our Election Is Unpatriotic This woman is insane.In an incredibly disrespectful rant against President Obama and anyone else who supports investigating Russian interference in our election, Fox News host Jeanine Pirro said that anybody who is against Donald Trump is anti-American. Look, it s time to take sides,  she began.\",\n",
    "    \" Sarah Palin Celebrates After White Man Who Pulled Gun On Black Protesters Goes Unpunished (VIDEO) Sarah Palin, one of the nigh-innumerable  deplorables  in Donald Trump s  basket,  almost outdid herself in terms of horribleness on Friday.\"\n",
    "]\n"
   ]
  },
  {
   "cell_type": "code",
   "execution_count": 116,
   "id": "088e9750-18bf-4409-90ac-91c1e4243ef5",
   "metadata": {},
   "outputs": [
    {
     "data": {
      "text/plain": [
       "array([0, 0, 0])"
      ]
     },
     "execution_count": 116,
     "metadata": {},
     "output_type": "execute_result"
    }
   ],
   "source": [
    "test_news_process=[preprocess_vectorize(i) for i in test_news]\n",
    "test_news_process_2d=np.stack(test_news_process)\n",
    "ypred_test=model.predict(test_news_process_2d)\n",
    "ypred_test"
   ]
  },
  {
   "cell_type": "markdown",
   "id": "ef444152",
   "metadata": {},
   "source": [
    "# Word2Vec embedding with SpaCy lang Model"
   ]
  },
  {
   "cell_type": "code",
   "execution_count": 4,
   "id": "50a5e510",
   "metadata": {},
   "outputs": [
    {
     "name": "stdout",
     "output_type": "stream",
     "text": [
      "dog, Vector:True , OOV:False\n",
      "cat, Vector:True , OOV:False\n",
      "banana, Vector:True , OOV:False\n",
      "kem, Vector:False , OOV:True\n"
     ]
    }
   ],
   "source": [
    "nlp=spacy.load('en_core_web_lg')\n",
    "doc = nlp(\"dog cat banana kem\")\n",
    "for token in doc:\n",
    "    print(f\"{token.text}, Vector:{token.has_vector} , OOV:{token.is_oov}\")"
   ]
  },
  {
   "cell_type": "code",
   "execution_count": 5,
   "id": "6a8c5633",
   "metadata": {},
   "outputs": [
    {
     "data": {
      "text/plain": [
       "(300,)"
      ]
     },
     "execution_count": 5,
     "metadata": {},
     "output_type": "execute_result"
    }
   ],
   "source": [
    "doc[0].vector.shape"
   ]
  },
  {
   "cell_type": "code",
   "execution_count": 6,
   "id": "98aa2927",
   "metadata": {},
   "outputs": [
    {
     "data": {
      "text/plain": [
       "array([[1.0000001 , 0.8220816 , 0.20909055, 0.        ],\n",
       "       [0.8220816 , 0.9999999 , 0.22358824, 0.        ],\n",
       "       [0.20909055, 0.22358824, 0.99999994, 0.        ],\n",
       "       [0.        , 0.        , 0.        , 0.        ]], dtype=float32)"
      ]
     },
     "execution_count": 6,
     "metadata": {},
     "output_type": "execute_result"
    }
   ],
   "source": [
    "cosine_similarity([token.vector for token in doc])"
   ]
  },
  {
   "cell_type": "code",
   "execution_count": 7,
   "id": "b988b9b0",
   "metadata": {},
   "outputs": [
    {
     "data": {
      "text/plain": [
       "array([[0.9999997, 0.739189 ],\n",
       "       [0.739189 , 0.9999996]], dtype=float32)"
      ]
     },
     "execution_count": 7,
     "metadata": {},
     "output_type": "execute_result"
    }
   ],
   "source": [
    "cosine_similarity([nlp.vocab[\"bad\"].vector, nlp.vocab[\"good\"].vector])"
   ]
  },
  {
   "cell_type": "code",
   "execution_count": 8,
   "id": "f132d36b",
   "metadata": {},
   "outputs": [],
   "source": [
    "df=pd.read_csv(\"news_articles.csv\")\n",
    "df.dropna(subset=['text'], inplace=True)\n",
    "df[\"label_num\"]=df[\"label\"].apply(lambda x: 1 if x==\"Real\" else 0)\n",
    "df[\"text_vector\"]=df[\"text\"].apply(lambda x: nlp(x).vector)"
   ]
  },
  {
   "cell_type": "code",
   "execution_count": 11,
   "id": "d8e2cf93",
   "metadata": {},
   "outputs": [],
   "source": [
    "x_train,x_test,y_train, y_test=train_test_split(df[\"text_vector\"],df[\"label_num\"],stratify=df.label_num,random_state=120)\n",
    "x_train_2d=np.stack(x_train)\n",
    "x_test_2d=np.stack(x_test)\n",
    "\n",
    "\n",
    "scaler=MinMaxScaler()\n",
    "x_train_scale=scaler.fit_transform(x_train_2d)\n",
    "x_test_scale=scaler.transform(x_test_2d)"
   ]
  },
  {
   "cell_type": "code",
   "execution_count": 14,
   "id": "d1060985",
   "metadata": {},
   "outputs": [
    {
     "name": "stdout",
     "output_type": "stream",
     "text": [
      "              precision    recall  f1-score   support\n",
      "\n",
      "           0       0.63      1.00      0.77       323\n",
      "           1       0.00      0.00      0.00       190\n",
      "\n",
      "    accuracy                           0.63       513\n",
      "   macro avg       0.31      0.50      0.39       513\n",
      "weighted avg       0.40      0.63      0.49       513\n",
      "\n"
     ]
    },
    {
     "name": "stderr",
     "output_type": "stream",
     "text": [
      "/usr/local/lib/python3.11/site-packages/sklearn/metrics/_classification.py:1469: UndefinedMetricWarning: Precision and F-score are ill-defined and being set to 0.0 in labels with no predicted samples. Use `zero_division` parameter to control this behavior.\n",
      "  _warn_prf(average, modifier, msg_start, len(result))\n",
      "/usr/local/lib/python3.11/site-packages/sklearn/metrics/_classification.py:1469: UndefinedMetricWarning: Precision and F-score are ill-defined and being set to 0.0 in labels with no predicted samples. Use `zero_division` parameter to control this behavior.\n",
      "  _warn_prf(average, modifier, msg_start, len(result))\n",
      "/usr/local/lib/python3.11/site-packages/sklearn/metrics/_classification.py:1469: UndefinedMetricWarning: Precision and F-score are ill-defined and being set to 0.0 in labels with no predicted samples. Use `zero_division` parameter to control this behavior.\n",
      "  _warn_prf(average, modifier, msg_start, len(result))\n"
     ]
    }
   ],
   "source": [
    "model= MultinomialNB()\n",
    "model.fit(x_train_scale,y_train)\n",
    "ypred=model.predict(x_test_scale)\n",
    "print(classification_report(y_test, ypred))"
   ]
  },
  {
   "cell_type": "code",
   "execution_count": 15,
   "id": "8dd2f91e",
   "metadata": {},
   "outputs": [
    {
     "name": "stdout",
     "output_type": "stream",
     "text": [
      "              precision    recall  f1-score   support\n",
      "\n",
      "           0       0.69      0.83      0.75       323\n",
      "           1       0.55      0.36      0.43       190\n",
      "\n",
      "    accuracy                           0.65       513\n",
      "   macro avg       0.62      0.59      0.59       513\n",
      "weighted avg       0.64      0.65      0.63       513\n",
      "\n"
     ]
    },
    {
     "name": "stderr",
     "output_type": "stream",
     "text": [
      "/usr/local/lib/python3.11/site-packages/threadpoolctl.py:1010: RuntimeWarning: \n",
      "Found Intel OpenMP ('libiomp') and LLVM OpenMP ('libomp') loaded at\n",
      "the same time. Both libraries are known to be incompatible and this\n",
      "can cause random crashes or deadlocks on Linux when loaded in the\n",
      "same Python program.\n",
      "Using threadpoolctl may cause crashes or deadlocks. For more\n",
      "information and possible workarounds, please see\n",
      "    https://github.com/joblib/threadpoolctl/blob/master/multiple_openmp.md\n",
      "\n",
      "  warnings.warn(msg, RuntimeWarning)\n"
     ]
    }
   ],
   "source": [
    "model= KNeighborsClassifier(n_neighbors=10)\n",
    "model.fit(x_train_scale,y_train)\n",
    "ypred=model.predict(x_test_scale)\n",
    "print(classification_report(y_test, ypred))"
   ]
  },
  {
   "cell_type": "code",
   "execution_count": 16,
   "id": "e71b1e39",
   "metadata": {},
   "outputs": [
    {
     "data": {
      "text/plain": [
       "<Axes: >"
      ]
     },
     "execution_count": 16,
     "metadata": {},
     "output_type": "execute_result"
    },
    {
     "data": {
      "image/png": "[encoded data removed]",
      "text/plain": [
       "<Figure size 640x480 with 2 Axes>"
      ]
     },
     "metadata": {},
     "output_type": "display_data"
    }
   ],
   "source": [
    "cm=confusion_matrix(y_test, ypred)\n",
    "sns.heatmap(cm, annot=True, fmt='d')"
   ]
  }
 ],
 "metadata": {
  "kernelspec": {
   "display_name": "Python 3",
   "language": "python",
   "name": "python3"
  },
  "language_info": {
   "codemirror_mode": {
    "name": "ipython",
    "version": 3
   },
   "file_extension": ".py",
   "mimetype": "text/x-python",
   "name": "python",
   "nbconvert_exporter": "python",
   "pygments_lexer": "ipython3",
   "version": "3.11.10"
  }
 },
 "nbformat": 4,
 "nbformat_minor": 5
}
