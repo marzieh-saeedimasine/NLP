{
 "cells": [
  {
   "cell_type": "code",
   "execution_count": 1,
   "id": "2404b8de-607a-451c-8d64-47cf1a6cee1f",
   "metadata": {},
   "outputs": [],
   "source": [
    "# word embedding techniques:\n",
    "# Based on CBOW and skip gram: Word2vec, GloVe, fastText\n",
    "# Based on transformer architecture: BERT, GPT\n",
    "# Based on LSTM: ELMo"
   ]
  },
  {
   "cell_type": "code",
   "execution_count": 11,
   "id": "73ae62ea-fdf5-4396-a520-7edc6377a3b6",
   "metadata": {},
   "outputs": [],
   "source": [
    "import numpy as np\n",
    "import pandas as pd\n",
    "import spacy\n",
    "import gensim\n",
    "import seaborn as sn\n",
    "from sklearn.model_selection import train_test_split\n",
    "from sklearn.preprocessing import MinMaxScaler\n",
    "from sklearn.metrics.pairwise import cosine_similarity\n",
    "from sklearn.metrics import confusion_matrix, classification_report\n",
    "from sklearn.naive_bayes import MultinomialNB\n",
    "from sklearn.neighbors import KNeighborsClassifier"
   ]
  },
  {
   "cell_type": "code",
   "execution_count": 2,
   "id": "04212e4b-3e9c-4130-a106-b6a62cf8cbd0",
   "metadata": {},
   "outputs": [],
   "source": [
    "#!python3 -m spacy download en_core_web_lg\n",
    "nlp=spacy.load('en_core_web_lg')"
   ]
  },
  {
   "cell_type": "code",
   "execution_count": 17,
   "id": "34c9847b-076a-4efa-9a6b-8fdb01b242c6",
   "metadata": {},
   "outputs": [
    {
     "name": "stdout",
     "output_type": "stream",
     "text": [
      "dog, Vector:True , OOV:False\n",
      "cat, Vector:True , OOV:False\n",
      "banana, Vector:True , OOV:False\n",
      "kem, Vector:False , OOV:True\n"
     ]
    }
   ],
   "source": [
    "doc = nlp(\"dog cat banana kem\")\n",
    "for token in doc:\n",
    "    print(f\"{token.text}, Vector:{token.has_vector} , OOV:{token.is_oov}\")"
   ]
  },
  {
   "cell_type": "code",
   "execution_count": 18,
   "id": "bdbb2cfd-9bba-42b6-a4e9-1234e623439b",
   "metadata": {},
   "outputs": [
    {
     "data": {
      "text/plain": [
       "(300,)"
      ]
     },
     "execution_count": 18,
     "metadata": {},
     "output_type": "execute_result"
    }
   ],
   "source": [
    "doc[0].vector.shape"
   ]
  },
  {
   "cell_type": "code",
   "execution_count": 19,
   "id": "943e9291-ec98-4003-80d0-f576f1a31897",
   "metadata": {},
   "outputs": [
    {
     "name": "stdout",
     "output_type": "stream",
     "text": [
      "dog-apple:0.22881005140483499\n",
      "cat-apple:0.20368060357742446\n",
      "banana-apple:0.6646700599790674\n",
      "kem-apple:0.0\n"
     ]
    },
    {
     "name": "stderr",
     "output_type": "stream",
     "text": [
      "/var/folders/6p/5mzp7fyd4mgchv364j3jy2jr0000gn/T/ipykernel_30693/709245908.py:3: UserWarning: [W008] Evaluating Token.similarity based on empty vectors.\n",
      "  print(f\"{token.text}-{base_token.text}:{token.similarity(base_token)}\")\n"
     ]
    }
   ],
   "source": [
    "base_token=nlp(\"apple\")\n",
    "for token in doc:\n",
    "    print(f\"{token.text}-{base_token.text}:{token.similarity(base_token)}\")"
   ]
  },
  {
   "cell_type": "code",
   "execution_count": 20,
   "id": "6148c339-a91a-48d5-bb54-af3b1f224123",
   "metadata": {},
   "outputs": [
    {
     "data": {
      "text/plain": [
       "array([[1.0000001 , 0.8220816 , 0.20909055, 0.        ],\n",
       "       [0.8220816 , 0.9999999 , 0.22358824, 0.        ],\n",
       "       [0.20909055, 0.22358824, 0.99999994, 0.        ],\n",
       "       [0.        , 0.        , 0.        , 0.        ]], dtype=float32)"
      ]
     },
     "execution_count": 20,
     "metadata": {},
     "output_type": "execute_result"
    }
   ],
   "source": [
    "cosine_similarity([token.vector for token in doc])"
   ]
  },
  {
   "cell_type": "code",
   "execution_count": 21,
   "id": "7e671dc3-4a8d-411d-ae5e-c22efda5699b",
   "metadata": {},
   "outputs": [],
   "source": [
    "doc_vector=[token.vector for token in doc]\n",
    "word_vector=base_token.vector"
   ]
  },
  {
   "cell_type": "code",
   "execution_count": 22,
   "id": "8ab6174b-109b-4752-bac2-ba5c6a05fd26",
   "metadata": {},
   "outputs": [
    {
     "data": {
      "text/plain": [
       "[0.22881007, 0.20368066, 0.66467005, 0.0]"
      ]
     },
     "execution_count": 22,
     "metadata": {},
     "output_type": "execute_result"
    }
   ],
   "source": [
    "cosine_similarities = [cosine_similarity([v, word_vector])[0][1] for v in doc_vector]\n",
    "cosine_similarities"
   ]
  },
  {
   "cell_type": "code",
   "execution_count": 34,
   "id": "7de56ddc-9ae5-465c-81a9-66c0264dd305",
   "metadata": {},
   "outputs": [
    {
     "data": {
      "text/plain": [
       "array([[0.9999997, 0.739189 ],\n",
       "       [0.739189 , 0.9999996]], dtype=float32)"
      ]
     },
     "execution_count": 34,
     "metadata": {},
     "output_type": "execute_result"
    }
   ],
   "source": [
    "cosine_similarity([nlp.vocab[\"bad\"].vector, nlp.vocab[\"good\"].vector])"
   ]
  },
  {
   "cell_type": "markdown",
   "id": "a76fbe99-3edd-4381-a7f7-8b7fc10319f1",
   "metadata": {},
   "source": [
    "# Text classification using spacy"
   ]
  },
  {
   "cell_type": "code",
   "execution_count": 3,
   "id": "891797e4-45fd-4df0-93fc-15da50f6294f",
   "metadata": {},
   "outputs": [],
   "source": [
    "df=pd.read_csv(\"Fake_Real_Data.txt\")\n",
    "df[\"label_num\"]=df.label.apply(lambda x:1 if x==\"Real\" else 0)\n",
    "df[\"Text_vector\"]=df[\"Text\"].apply(lambda x: nlp(x).vector)"
   ]
  },
  {
   "cell_type": "code",
   "execution_count": 5,
   "id": "4304cfe0-f3c4-4b34-8e5b-2b1129b2fa6c",
   "metadata": {},
   "outputs": [],
   "source": [
    "df.to_csv(\"Fake_Real_Data_new.txt\")"
   ]
  },
  {
   "cell_type": "code",
   "execution_count": 7,
   "id": "3113cca2-bfa8-4e0a-ad39-d947f5536d05",
   "metadata": {},
   "outputs": [],
   "source": [
    "x_train,x_test,y_train, y_test=train_test_split(df[\"Text_vector\"],df.label_num,stratify=df.label_num,random_state=120)"
   ]
  },
  {
   "cell_type": "code",
   "execution_count": 8,
   "id": "11d8fbaa-fca0-46f7-be7a-eddbd4f968b4",
   "metadata": {},
   "outputs": [],
   "source": [
    "x_train_2d=np.stack(x_train)\n",
    "x_test_2d=np.stack(x_test)\n",
    "\n",
    "scaler=MinMaxScaler()\n",
    "x_train_scale=scaler.fit_transform(x_train_2d)\n",
    "x_test_scale=scaler.transform(x_test_2d)"
   ]
  },
  {
   "cell_type": "code",
   "execution_count": 10,
   "id": "aa6cdaf6-ca46-4b33-8f21-a1045d285655",
   "metadata": {},
   "outputs": [
    {
     "name": "stdout",
     "output_type": "stream",
     "text": [
      "              precision    recall  f1-score   support\n",
      "\n",
      "           0       0.95      0.94      0.95      1250\n",
      "           1       0.94      0.95      0.95      1225\n",
      "\n",
      "    accuracy                           0.95      2475\n",
      "   macro avg       0.95      0.95      0.95      2475\n",
      "weighted avg       0.95      0.95      0.95      2475\n",
      "\n"
     ]
    }
   ],
   "source": [
    "model= MultinomialNB()\n",
    "model.fit(x_train_scale,y_train)\n",
    "ypred=model.predict(x_test_scale)\n",
    "print(classification_report(y_test, ypred))"
   ]
  },
  {
   "cell_type": "code",
   "execution_count": 12,
   "id": "2b225def-d924-4b09-b324-69c9986b8558",
   "metadata": {},
   "outputs": [
    {
     "name": "stdout",
     "output_type": "stream",
     "text": [
      "              precision    recall  f1-score   support\n",
      "\n",
      "           0       0.99      0.99      0.99      1250\n",
      "           1       0.99      0.99      0.99      1225\n",
      "\n",
      "    accuracy                           0.99      2475\n",
      "   macro avg       0.99      0.99      0.99      2475\n",
      "weighted avg       0.99      0.99      0.99      2475\n",
      "\n"
     ]
    },
    {
     "name": "stderr",
     "output_type": "stream",
     "text": [
      "/usr/local/lib/python3.11/site-packages/threadpoolctl.py:1010: RuntimeWarning: \n",
      "Found Intel OpenMP ('libiomp') and LLVM OpenMP ('libomp') loaded at\n",
      "the same time. Both libraries are known to be incompatible and this\n",
      "can cause random crashes or deadlocks on Linux when loaded in the\n",
      "same Python program.\n",
      "Using threadpoolctl may cause crashes or deadlocks. For more\n",
      "information and possible workarounds, please see\n",
      "    https://github.com/joblib/threadpoolctl/blob/master/multiple_openmp.md\n",
      "\n",
      "  warnings.warn(msg, RuntimeWarning)\n"
     ]
    }
   ],
   "source": [
    "model= KNeighborsClassifier(n_neighbors=10)\n",
    "model.fit(x_train_scale,y_train)\n",
    "ypred=model.predict(x_test_scale)\n",
    "print(classification_report(y_test, ypred))"
   ]
  },
  {
   "cell_type": "code",
   "execution_count": null,
   "id": "2dbf2c6e-d138-4872-99b2-90287a095883",
   "metadata": {},
   "outputs": [],
   "source": []
  }
 ],
 "metadata": {
  "kernelspec": {
   "display_name": "Python 3 (ipykernel)",
   "language": "python",
   "name": "python3"
  },
  "language_info": {
   "codemirror_mode": {
    "name": "ipython",
    "version": 3
   },
   "file_extension": ".py",
   "mimetype": "text/x-python",
   "name": "python",
   "nbconvert_exporter": "python",
   "pygments_lexer": "ipython3",
   "version": "3.11.5"
  }
 },
 "nbformat": 4,
 "nbformat_minor": 5
}
