{
 "cells": [
  {
   "cell_type": "markdown",
   "id": "d18ee3ee-6fd4-461a-b4a6-a5dcb1a30921",
   "metadata": {},
   "source": [
    "# tesseract OCR or GoogleOCR is used for computer vision to convert pictures to text"
   ]
  },
  {
   "cell_type": "code",
   "execution_count": 12,
   "id": "51c5fe2c-9265-4444-b52c-8cbf9b85c71b",
   "metadata": {},
   "outputs": [],
   "source": [
    "#!pip install pytesseract "
   ]
  },
  {
   "cell_type": "code",
   "execution_count": 20,
   "id": "d6d931aa-4a21-436b-a1a2-83cf7202e4db",
   "metadata": {},
   "outputs": [],
   "source": [
    "#!which tesseract"
   ]
  },
  {
   "cell_type": "code",
   "execution_count": 22,
   "id": "caef8803-13c4-48ae-9dad-3eb9b37a28be",
   "metadata": {},
   "outputs": [
    {
     "name": "stdout",
     "output_type": "stream",
     "text": [
      "al Comviqg > 13:41 100 % =)\n",
      "@ marleyspoon.se\n",
      "\n",
      "Persisk risratt med rokt\n",
      "kyckling\n",
      "\n",
      "samt vitloksdipp och farsk mynta\n",
      "\n",
      "INGET TILLSATT GLUTEN SNABB- FAGEL\n",
      "\n",
      "HALSOSAM\n",
      "\n",
      "Vad blir det for mat?\n",
      "\n",
      "Kvallens middag ar en riktig\n",
      "skattkista, fylld med atbara rikedomar\n",
      "i form av rostade pistagendtter och\n",
      "valnotter, syrliga tranbar samt\n",
      "glaserade morotter. Rokt kyckling och\n",
      "sotsur, picklad fankal ar pricken over\n",
      "\n",
      "iret. Serveras med en kramig\n",
      "\n",
      "Lagg till\n",
      "\n",
      "\n"
     ]
    }
   ],
   "source": [
    "import pytesseract\n",
    "from PIL import Image\n",
    "\n",
    "# Set the path to the Tesseract executable (replace 'path/to/tesseract' with your actual path)\n",
    "pytesseract.pytesseract.tesseract_cmd = r'/usr/local/bin/tesseract'\n",
    "\n",
    "# Open an image file\n",
    "image_path = 'OCR-figure.png'\n",
    "image = Image.open(image_path)\n",
    "\n",
    "# Use pytesseract to do OCR on the image\n",
    "text = pytesseract.image_to_string(image)\n",
    "\n",
    "print(text)"
   ]
  },
  {
   "cell_type": "code",
   "execution_count": null,
   "id": "4e444d6e-13ec-44c3-b564-818975a22786",
   "metadata": {},
   "outputs": [],
   "source": []
  }
 ],
 "metadata": {
  "kernelspec": {
   "display_name": "Python 3 (ipykernel)",
   "language": "python",
   "name": "python3"
  },
  "language_info": {
   "codemirror_mode": {
    "name": "ipython",
    "version": 3
   },
   "file_extension": ".py",
   "mimetype": "text/x-python",
   "name": "python",
   "nbconvert_exporter": "python",
   "pygments_lexer": "ipython3",
   "version": "3.11.5"
  }
 },
 "nbformat": 4,
 "nbformat_minor": 5
}
