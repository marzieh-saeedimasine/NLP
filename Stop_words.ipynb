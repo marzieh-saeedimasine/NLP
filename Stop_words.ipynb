{
 "cells": [
  {
   "cell_type": "code",
   "execution_count": 1,
   "id": "b855b3b1-5b31-498c-a1d4-a5309188274a",
   "metadata": {},
   "outputs": [],
   "source": [
    "import spacy\n",
    "from spacy.lang.en.stop_words import STOP_WORDS\n",
    "nlp=spacy.load(\"en_core_web_sm\")"
   ]
  },
  {
   "cell_type": "code",
   "execution_count": 4,
   "id": "9e6eeb33-48c9-4011-bdc7-40a283ba89e8",
   "metadata": {},
   "outputs": [
    {
     "name": "stdout",
     "output_type": "stream",
     "text": [
      "We\n",
      "just\n",
      "our\n",
      "the\n",
      "part\n",
      "is\n"
     ]
    }
   ],
   "source": [
    "nlp=spacy.load(\"en_core_web_sm\")\n",
    "\n",
    "doc = nlp(\"We just opened our wings, the flying part is coming soon\")\n",
    "for token in doc:\n",
    "    if token.is_stop:\n",
    "        print(token)\n",
    "\n",
    "lst_not_stop=[token.text for token in doc if not token.is_stop and not token.is_punct]\n",
    "final_doc=\" \".join(lst_not_stop)"
   ]
  },
  {
   "cell_type": "code",
   "execution_count": 14,
   "id": "2c57b2bf-1ffb-4b94-9978-2ac098dba4c5",
   "metadata": {},
   "outputs": [
    {
     "name": "stdout",
     "output_type": "stream",
     "text": [
      "0.25\n"
     ]
    }
   ],
   "source": [
    "text = '''\n",
    "Thor: Love and Thunder is a 2022 American superhero film based on Marvel Comics featuring the character Thor, produced by Marvel Studios and \n",
    "distributed by Walt Disney Studios Motion Pictures. It is the sequel to Thor: Ragnarok (2017) and the 29th film in the Marvel Cinematic Universe (MCU).\n",
    "The film is directed by Taika Waititi, who co-wrote the script with Jennifer Kaytin Robinson, and stars Chris Hemsworth as Thor alongside Christian Bale, Tessa Thompson,\n",
    "Jaimie Alexander, Waititi, Russell Crowe, and Natalie Portman. In the film, Thor attempts to find inner peace, but must return to action and recruit Valkyrie (Thompson),\n",
    "Korg (Waititi), and Jane Foster (Portman)—who is now the Mighty Thor—to stop Gorr the God Butcher (Bale) from eliminating all gods.\n",
    "'''\n",
    "doc=nlp(text)\n",
    "num_token=0\n",
    "num_stop=0\n",
    "for token in doc:\n",
    "    num_token +=1\n",
    "    if token.is_stop:\n",
    "        num_stop +=1\n",
    "\n",
    "print(num_stop/num_token)"
   ]
  },
  {
   "cell_type": "code",
   "execution_count": 2,
   "id": "2f03b0ae-4521-4562-8a02-1631a77b8b29",
   "metadata": {},
   "outputs": [],
   "source": [
    "len(STOP_WORDS)\n",
    "nlp.vocab['not'].is_stop = False"
   ]
  },
  {
   "cell_type": "code",
   "execution_count": 3,
   "id": "c9da075d-b9a9-4bc0-9d23-2ad42e1a0b8e",
   "metadata": {},
   "outputs": [],
   "source": [
    "sents=[\"this is a good movie\",\"this is not a good movie\"]\n",
    "final_sents=[]\n",
    "\n",
    "for sent in sents:\n",
    "    lst_sent=[]\n",
    "    doc=nlp(sent)\n",
    "    for token in doc:\n",
    "        if not token.is_stop:\n",
    "            lst_sent.append(token.text)\n",
    "    final_sents.append(\" \".join(lst_sent))        "
   ]
  },
  {
   "cell_type": "code",
   "execution_count": 4,
   "id": "4be01712-61b3-40cf-b8b2-cad30058fc5d",
   "metadata": {},
   "outputs": [
    {
     "data": {
      "text/plain": [
       "['good movie', 'not good movie']"
      ]
     },
     "execution_count": 4,
     "metadata": {},
     "output_type": "execute_result"
    }
   ],
   "source": [
    "final_sents"
   ]
  },
  {
   "cell_type": "code",
   "execution_count": 8,
   "id": "c16ab096-89c7-4bfe-b082-27ba959a9a67",
   "metadata": {},
   "outputs": [
    {
     "data": {
      "text/plain": [
       "'India men national cricket team known Team India Men Blue represents India men international cricket governed Board Control Cricket India BCCI Member International Cricket Council ICC Test Day International ODI Twenty20 International T20I status Cricket introduced India British sailors 18th century cricket club established 1792 India national cricket team played Test match 25 June 1932 Lord sixth team granted test cricket status'"
      ]
     },
     "execution_count": 8,
     "metadata": {},
     "output_type": "execute_result"
    }
   ],
   "source": [
    "text = ''' The India men's national cricket team, also known as Team India or the Men in Blue, represents India in men's international cricket.\n",
    "It is governed by the Board of Control for Cricket in India (BCCI), and is a Full Member of the International Cricket Council (ICC) with Test,\n",
    "One Day International (ODI) and Twenty20 International (T20I) status. Cricket was introduced to India by British sailors in the 18th century, and the \n",
    "first cricket club was established in 1792. India's national cricket team played its first Test match on 25 June 1932 at Lord's, becoming the sixth team to be\n",
    "granted test cricket status.\n",
    "'''\n",
    "\n",
    "doc=nlp(text)\n",
    "lst_doc=[token.text for token in doc \n",
    "         if not token.is_stop and not token.is_punct and not token.text in [\"\\n\",\" \"]]\n",
    "final_doc=\" \".join(lst_doc)\n",
    "final_doc"
   ]
  },
  {
   "cell_type": "code",
   "execution_count": null,
   "id": "9659bcec-4290-4c7f-b539-54326e23326a",
   "metadata": {},
   "outputs": [],
   "source": []
  }
 ],
 "metadata": {
  "kernelspec": {
   "display_name": "Python 3 (ipykernel)",
   "language": "python",
   "name": "python3"
  },
  "language_info": {
   "codemirror_mode": {
    "name": "ipython",
    "version": 3
   },
   "file_extension": ".py",
   "mimetype": "text/x-python",
   "name": "python",
   "nbconvert_exporter": "python",
   "pygments_lexer": "ipython3",
   "version": "3.11.5"
  }
 },
 "nbformat": 4,
 "nbformat_minor": 5
}
