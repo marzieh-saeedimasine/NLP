{
 "cells": [
  {
   "cell_type": "code",
   "execution_count": 1,
   "id": "fc4ce303-f70f-4148-b105-455f7210a1a7",
   "metadata": {},
   "outputs": [
    {
     "data": {
      "text/plain": [
       "' \\nTerm Frequency(TF) = [number of times word appeared / total no of words in a document]\\nInverse Document Frequency(IDF) = [log(Total number of documents / number of documents that contains the word)]\\nTF-IDF = Term Frequency(TF) * Inverse Document Frequency(IDF)\\n'"
      ]
     },
     "execution_count": 1,
     "metadata": {},
     "output_type": "execute_result"
    }
   ],
   "source": [
    "''' \n",
    "Term Frequency(TF) = [number of times word appeared / total no of words in a document]\n",
    "Inverse Document Frequency(IDF) = [log(Total number of documents / number of documents that contains the word)]\n",
    "TF-IDF = Term Frequency(TF) * Inverse Document Frequency(IDF)\n",
    "'''"
   ]
  },
  {
   "cell_type": "code",
   "execution_count": 2,
   "id": "3deeb929-4e81-4f45-9d3f-1736cc6200b2",
   "metadata": {},
   "outputs": [],
   "source": [
    "import pandas as pd\n",
    "import numpy as np\n",
    "import spacy \n",
    "from sklearn.feature_extraction.text import CountVectorizer, TfidfVectorizer, TfidfTransformer\n",
    "from sklearn.model_selection import train_test_split\n",
    "from sklearn.naive_bayes import MultinomialNB\n",
    "from sklearn.neighbors import KNeighborsClassifier\n",
    "from sklearn.ensemble import RandomForestClassifier\n",
    "from sklearn.pipeline import Pipeline\n",
    "from sklearn.metrics import confusion_matrix, classification_report"
   ]
  },
  {
   "cell_type": "code",
   "execution_count": 5,
   "id": "4ddaf381-f0a1-4015-83a1-a4d2bd3937bf",
   "metadata": {},
   "outputs": [],
   "source": [
    "text = [\n",
    "    \"Thor eating pizza, Loki is eating pizza, Ironman ate pizza already\",\n",
    "    \"Apple is announcing new iphone tomorrow\",\n",
    "    \"Tesla is announcing new model-3 tomorrow\",\n",
    "    \"Google is announcing new pixel-6 tomorrow\",\n",
    "    \"Microsoft is announcing new surface tomorrow\",\n",
    "    \"Amazon is announcing new eco-dot tomorrow\",\n",
    "    \"I am eating biryani and you are eating grapes\"\n",
    "]"
   ]
  },
  {
   "cell_type": "code",
   "execution_count": 24,
   "id": "dcb14f34-674f-4f1d-92ce-e202e438bd95",
   "metadata": {},
   "outputs": [
    {
     "data": {
      "text/plain": [
       "array(['already', 'am', 'amazon', 'and', 'announcing', 'apple', 'are',\n",
       "       'ate', 'biryani', 'dot', 'eating', 'eco', 'google', 'grapes',\n",
       "       'iphone', 'ironman', 'is', 'loki', 'microsoft', 'model', 'new',\n",
       "       'pixel', 'pizza', 'surface', 'tesla', 'thor', 'tomorrow', 'you'],\n",
       "      dtype=object)"
      ]
     },
     "execution_count": 24,
     "metadata": {},
     "output_type": "execute_result"
    }
   ],
   "source": [
    "vectorizer=TfidfVectorizer()\n",
    "vectorizer.fit(text)\n",
    "len(vectorizer.vocabulary_)\n",
    "features=vectorizer.get_feature_names_out()\n",
    "features"
   ]
  },
  {
   "cell_type": "code",
   "execution_count": 28,
   "id": "6bdfc0c6-6d48-4ca0-9352-5e705ec39f97",
   "metadata": {},
   "outputs": [
    {
     "name": "stdout",
     "output_type": "stream",
     "text": [
      "already 2.386\n",
      "am 2.386\n",
      "amazon 2.386\n",
      "and 2.386\n",
      "announcing 1.288\n",
      "apple 2.386\n",
      "are 2.386\n",
      "ate 2.386\n",
      "biryani 2.386\n",
      "dot 2.386\n",
      "eating 1.981\n",
      "eco 2.386\n",
      "google 2.386\n",
      "grapes 2.386\n",
      "iphone 2.386\n",
      "ironman 2.386\n",
      "is 1.134\n",
      "loki 2.386\n",
      "microsoft 2.386\n",
      "model 2.386\n",
      "new 1.288\n",
      "pixel 2.386\n",
      "pizza 2.386\n",
      "surface 2.386\n",
      "tesla 2.386\n",
      "thor 2.386\n",
      "tomorrow 1.288\n",
      "you 2.386\n"
     ]
    }
   ],
   "source": [
    "for word in features:\n",
    "    index=vectorizer.vocabulary_.get(word)\n",
    "    print(word, np.round(vectorizer.idf_[index],3)) #score for each word"
   ]
  },
  {
   "cell_type": "code",
   "execution_count": 27,
   "id": "0f2e9e2c-200d-44e8-abfe-40601b4def11",
   "metadata": {},
   "outputs": [
    {
     "data": {
      "text/plain": [
       "array([0.24266547, 0.        , 0.        , 0.        , 0.        ,\n",
       "       0.        , 0.        , 0.24266547, 0.        , 0.        ,\n",
       "       0.40286636, 0.        , 0.        , 0.        , 0.        ,\n",
       "       0.24266547, 0.11527033, 0.24266547, 0.        , 0.        ,\n",
       "       0.        , 0.        , 0.72799642, 0.        , 0.        ,\n",
       "       0.24266547, 0.        , 0.        ])"
      ]
     },
     "execution_count": 27,
     "metadata": {},
     "output_type": "execute_result"
    }
   ],
   "source": [
    "text_transform=vectorizer.transform(text)\n",
    "text_transform.toarray()[0]"
   ]
  },
  {
   "cell_type": "code",
   "execution_count": 36,
   "id": "2aab86e4-27b5-496f-9f09-de5ce7b64e88",
   "metadata": {},
   "outputs": [
    {
     "data": {
      "text/html": [
       "<div>\n",
       "<style scoped>\n",
       "    .dataframe tbody tr th:only-of-type {\n",
       "        vertical-align: middle;\n",
       "    }\n",
       "\n",
       "    .dataframe tbody tr th {\n",
       "        vertical-align: top;\n",
       "    }\n",
       "\n",
       "    .dataframe thead th {\n",
       "        text-align: right;\n",
       "    }\n",
       "</style>\n",
       "<table border=\"1\" class=\"dataframe\">\n",
       "  <thead>\n",
       "    <tr style=\"text-align: right;\">\n",
       "      <th></th>\n",
       "      <th>Text</th>\n",
       "      <th>label</th>\n",
       "    </tr>\n",
       "  </thead>\n",
       "  <tbody>\n",
       "    <tr>\n",
       "      <th>0</th>\n",
       "      <td>Urban Ladder Eisner Low Back Study-Office Comp...</td>\n",
       "      <td>Household</td>\n",
       "    </tr>\n",
       "    <tr>\n",
       "      <th>1</th>\n",
       "      <td>Contrast living Wooden Decorative Box,Painted ...</td>\n",
       "      <td>Household</td>\n",
       "    </tr>\n",
       "    <tr>\n",
       "      <th>2</th>\n",
       "      <td>IO Crest SY-PCI40010 PCI RAID Host Controller ...</td>\n",
       "      <td>Electronics</td>\n",
       "    </tr>\n",
       "    <tr>\n",
       "      <th>3</th>\n",
       "      <td>ISAKAA Baby Socks from Just Born to 8 Years- P...</td>\n",
       "      <td>Clothing &amp; Accessories</td>\n",
       "    </tr>\n",
       "    <tr>\n",
       "      <th>4</th>\n",
       "      <td>Indira Designer Women's Art Mysore Silk Saree ...</td>\n",
       "      <td>Clothing &amp; Accessories</td>\n",
       "    </tr>\n",
       "  </tbody>\n",
       "</table>\n",
       "</div>"
      ],
      "text/plain": [
       "                                                Text                   label\n",
       "0  Urban Ladder Eisner Low Back Study-Office Comp...               Household\n",
       "1  Contrast living Wooden Decorative Box,Painted ...               Household\n",
       "2  IO Crest SY-PCI40010 PCI RAID Host Controller ...             Electronics\n",
       "3  ISAKAA Baby Socks from Just Born to 8 Years- P...  Clothing & Accessories\n",
       "4  Indira Designer Women's Art Mysore Silk Saree ...  Clothing & Accessories"
      ]
     },
     "execution_count": 36,
     "metadata": {},
     "output_type": "execute_result"
    }
   ],
   "source": [
    "df.head()"
   ]
  },
  {
   "cell_type": "code",
   "execution_count": 46,
   "id": "4e8973cd-8915-41d7-a80a-8024559a1853",
   "metadata": {},
   "outputs": [],
   "source": [
    "df=pd.read_csv(\"Ecommerce.txt\")\n",
    "classes=df[\"label\"].unique()\n",
    "classes_dic={'Household':0,'Electronics':1,'Clothing & Accessories':2,'Books':3}\n",
    "df[\"label_num\"]=df[\"label\"].map(classes_dic)"
   ]
  },
  {
   "cell_type": "code",
   "execution_count": 57,
   "id": "9651df51-ba7d-46b4-8419-35bacecbfad5",
   "metadata": {},
   "outputs": [],
   "source": [
    "x_train, x_test,y_train,y_test=train_test_split(df[\"Text\"],df[\"label_num\"], random_state=123,stratify=df.label_num)"
   ]
  },
  {
   "cell_type": "code",
   "execution_count": 58,
   "id": "335c9152-5ba9-4da6-8b67-43bc997b113b",
   "metadata": {},
   "outputs": [],
   "source": [
    "model=Pipeline([\n",
    "    (\"TfidfVectorizer\",TfidfVectorizer()),\n",
    "    (\"NB\",MultinomialNB())\n",
    "])\n",
    "\n",
    "model.fit(x_train,y_train)\n",
    "y_pred=model.predict(x_test)"
   ]
  },
  {
   "cell_type": "code",
   "execution_count": 59,
   "id": "99eda271-94ab-4e5a-af4a-98964a936229",
   "metadata": {},
   "outputs": [
    {
     "name": "stdout",
     "output_type": "stream",
     "text": [
      "              precision    recall  f1-score   support\n",
      "\n",
      "           0       0.92      0.97      0.95      1500\n",
      "           1       0.96      0.97      0.97      1500\n",
      "           2       0.98      0.98      0.98      1500\n",
      "           3       0.98      0.92      0.95      1500\n",
      "\n",
      "    accuracy                           0.96      6000\n",
      "   macro avg       0.96      0.96      0.96      6000\n",
      "weighted avg       0.96      0.96      0.96      6000\n",
      "\n"
     ]
    }
   ],
   "source": [
    "print(classification_report(y_test,y_pred))"
   ]
  },
  {
   "cell_type": "markdown",
   "id": "aceac897-0ce6-4da1-b1a3-5e096c5b7f17",
   "metadata": {},
   "source": [
    "# Modelling with preprocessing of text"
   ]
  },
  {
   "cell_type": "code",
   "execution_count": 3,
   "id": "ffb8b1a5-a3e6-4d88-8b8b-f68828825b77",
   "metadata": {},
   "outputs": [],
   "source": [
    "nlp=spacy.load(\"en_core_web_sm\")\n",
    "def preprocess(text):\n",
    "    filtered_text=[]\n",
    "    doc=nlp(text)\n",
    "    for token in doc:\n",
    "        if token.is_stop or token.is_punct:\n",
    "            continue\n",
    "        else:\n",
    "            filtered_text.append(token.lemma_)\n",
    "    return(\" \".join(filtered_text))        "
   ]
  },
  {
   "cell_type": "code",
   "execution_count": 4,
   "id": "32246663-514e-4072-aaab-a96daf864a46",
   "metadata": {},
   "outputs": [],
   "source": [
    "df=pd.read_csv(\"Ecommerce.txt\")\n",
    "classes=df[\"label\"].unique()\n",
    "classes_dic={'Household':0,'Electronics':1,'Clothing & Accessories':2,'Books':3}\n",
    "df[\"label_num\"]=df[\"label\"].map(classes_dic)\n",
    "df[\"Text_new\"]=df[\"Text\"].map(preprocess)"
   ]
  },
  {
   "cell_type": "code",
   "execution_count": 15,
   "id": "0298ca55-b80c-4125-9ef7-bc899701a500",
   "metadata": {},
   "outputs": [],
   "source": [
    "df.to_csv(\"Ecommerce_pro.txt\")"
   ]
  },
  {
   "cell_type": "code",
   "execution_count": 5,
   "id": "bb9c2233-3e33-4848-a5ce-dc1a781eec2a",
   "metadata": {},
   "outputs": [],
   "source": [
    "x_train, x_test,y_train,y_test=train_test_split(df[\"Text_new\"],df[\"label_num\"], random_state=123,stratify=df.label_num)"
   ]
  },
  {
   "cell_type": "code",
   "execution_count": 6,
   "id": "a97d1247-fb83-4d3c-9a2c-9d2462f28a40",
   "metadata": {},
   "outputs": [],
   "source": [
    "model=Pipeline([\n",
    "    (\"TfidfVectorizer\",TfidfVectorizer()),\n",
    "    (\"NB\",MultinomialNB())\n",
    "])\n",
    "\n",
    "model.fit(x_train,y_train)\n",
    "y_pred=model.predict(x_test)"
   ]
  },
  {
   "cell_type": "code",
   "execution_count": 7,
   "id": "b0a79c7d-6eca-42bf-bed3-04ee3d7f4053",
   "metadata": {},
   "outputs": [
    {
     "name": "stdout",
     "output_type": "stream",
     "text": [
      "              precision    recall  f1-score   support\n",
      "\n",
      "           0       0.93      0.97      0.95      1500\n",
      "           1       0.96      0.97      0.97      1500\n",
      "           2       0.97      0.98      0.98      1500\n",
      "           3       0.99      0.92      0.95      1500\n",
      "\n",
      "    accuracy                           0.96      6000\n",
      "   macro avg       0.96      0.96      0.96      6000\n",
      "weighted avg       0.96      0.96      0.96      6000\n",
      "\n"
     ]
    }
   ],
   "source": [
    "print(classification_report(y_test,y_pred))"
   ]
  },
  {
   "cell_type": "code",
   "execution_count": null,
   "id": "b4afa4e0-a381-4e5a-8038-a23475b8381d",
   "metadata": {},
   "outputs": [],
   "source": []
  }
 ],
 "metadata": {
  "kernelspec": {
   "display_name": "Python 3 (ipykernel)",
   "language": "python",
   "name": "python3"
  },
  "language_info": {
   "codemirror_mode": {
    "name": "ipython",
    "version": 3
   },
   "file_extension": ".py",
   "mimetype": "text/x-python",
   "name": "python",
   "nbconvert_exporter": "python",
   "pygments_lexer": "ipython3",
   "version": "3.11.5"
  }
 },
 "nbformat": 4,
 "nbformat_minor": 5
}
