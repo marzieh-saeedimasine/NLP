{
 "cells": [
  {
   "cell_type": "code",
   "execution_count": 134,
   "id": "a48f82fa-8846-447e-a5c8-06ea739d3333",
   "metadata": {},
   "outputs": [],
   "source": [
    "import numpy as np\n",
    "import pandas as pd\n",
    "import seaborn as sn\n",
    "import gensim\n",
    "import spacy\n",
    "import gensim.downloader as api \n",
    "from gensim.models import Word2Vec\n",
    "# api.info() is showing all avialible gensim models\n",
    "# this is all gensim models are listed here: https://github.com/piskvorky/gensim-data\n",
    "\n",
    "from sklearn.metrics.pairwise import cosine_similarity\n",
    "from sklearn.model_selection import train_test_split\n",
    "from sklearn.metrics import confusion_matrix, classification_report\n",
    "from sklearn.ensemble import GradientBoostingClassifier"
   ]
  },
  {
   "cell_type": "markdown",
   "id": "21cdc330-6739-4e2f-b81f-70f7433e4ac4",
   "metadata": {},
   "source": [
    "# Gensim word2vec-google-news Model"
   ]
  },
  {
   "cell_type": "code",
   "execution_count": 87,
   "id": "1ad64be6-166f-4043-b233-914e01dfb2d0",
   "metadata": {},
   "outputs": [],
   "source": [
    "wv = api.load('word2vec-google-news-300')  "
   ]
  },
  {
   "cell_type": "code",
   "execution_count": 7,
   "id": "5f378de0-ba4b-4de6-8dc6-8fa3fe58e597",
   "metadata": {},
   "outputs": [
    {
     "data": {
      "text/plain": [
       "[('great', 0.7291510105133057),\n",
       " ('bad', 0.7190051078796387),\n",
       " ('terrific', 0.6889115571975708),\n",
       " ('decent', 0.6837348341941833),\n",
       " ('nice', 0.6836092472076416)]"
      ]
     },
     "execution_count": 7,
     "metadata": {},
     "output_type": "execute_result"
    }
   ],
   "source": [
    "wv.similarity(\"good\",\"bad\")\n",
    "wv.most_similar(\"good\", topn=5)"
   ]
  },
  {
   "cell_type": "code",
   "execution_count": 9,
   "id": "6f85bd88-7ae4-4540-862a-d5e5d30b680b",
   "metadata": {},
   "outputs": [
    {
     "data": {
      "text/plain": [
       "[('germany', 0.5094343423843384),\n",
       " ('european', 0.48650455474853516),\n",
       " ('german', 0.4714890420436859),\n",
       " ('austria', 0.46964022517204285),\n",
       " ('swedish', 0.4645182490348816)]"
      ]
     },
     "execution_count": 9,
     "metadata": {},
     "output_type": "execute_result"
    }
   ],
   "source": [
    "wv.most_similar(positive=[\"france\",\"berlin\"], negative=[\"paris\"], topn=5)\n",
    "#france-paris+berlin"
   ]
  },
  {
   "cell_type": "code",
   "execution_count": 11,
   "id": "2642c253-5395-4b93-93e2-bd9be24fcee9",
   "metadata": {},
   "outputs": [
    {
     "data": {
      "text/plain": [
       "'google'"
      ]
     },
     "execution_count": 11,
     "metadata": {},
     "output_type": "execute_result"
    }
   ],
   "source": [
    "wv.doesnt_match([\"dog\", \"cat\", \"google\", \"mouse\"])"
   ]
  },
  {
   "cell_type": "code",
   "execution_count": 91,
   "id": "96df0d8c-ba3f-4556-af31-d52bda6c2b76",
   "metadata": {},
   "outputs": [
    {
     "data": {
      "text/plain": [
       "0.729151"
      ]
     },
     "execution_count": 91,
     "metadata": {},
     "output_type": "execute_result"
    }
   ],
   "source": [
    "cosine_similarity([wv[\"great\"],wv[\"good\"]])[0][1]"
   ]
  },
  {
   "cell_type": "markdown",
   "id": "091877bc-1318-4d60-bebb-c168f55a24b5",
   "metadata": {},
   "source": [
    "# Gensim Glove model"
   ]
  },
  {
   "cell_type": "code",
   "execution_count": 13,
   "id": "0a2d8490-eba0-4100-a849-6f2b7dbfe687",
   "metadata": {},
   "outputs": [],
   "source": [
    "# gensim Glove model from standford University\n",
    "# https://nlp.stanford.edu/projects/glove/"
   ]
  },
  {
   "cell_type": "code",
   "execution_count": 14,
   "id": "99c1ef0f-86e9-4f56-a9ab-7559fb1e1165",
   "metadata": {},
   "outputs": [],
   "source": [
    "glv = api.load(\"glove-twitter-25\")"
   ]
  },
  {
   "cell_type": "code",
   "execution_count": 17,
   "id": "ae55dce0-ac68-4e0a-a2dd-2ba6f7120941",
   "metadata": {},
   "outputs": [
    {
     "data": {
      "text/plain": [
       "[('too', 0.9648017287254333),\n",
       " ('day', 0.9533665180206299),\n",
       " ('well', 0.9503170847892761),\n",
       " ('nice', 0.9438973665237427),\n",
       " ('better', 0.9425962567329407)]"
      ]
     },
     "execution_count": 17,
     "metadata": {},
     "output_type": "execute_result"
    }
   ],
   "source": [
    "glv.similarity(\"good\",\"bad\")\n",
    "glv.most_similar(\"good\",topn=5)"
   ]
  },
  {
   "cell_type": "code",
   "execution_count": 18,
   "id": "41c65a7c-2ffe-4d5a-bc00-f33915e724e4",
   "metadata": {},
   "outputs": [
    {
     "data": {
      "text/plain": [
       "'cereal'"
      ]
     },
     "execution_count": 18,
     "metadata": {},
     "output_type": "execute_result"
    }
   ],
   "source": [
    "glv.doesnt_match(\"breakfast cereal dinner lunch\".split())"
   ]
  },
  {
   "cell_type": "markdown",
   "id": "f3049d29-9997-4ece-804f-cccee5dd64b3",
   "metadata": {},
   "source": [
    "# Gensim Word2Vec Model based on our dataset"
   ]
  },
  {
   "cell_type": "code",
   "execution_count": 76,
   "id": "b4e338f1-78bc-4657-bfa4-644940ab075f",
   "metadata": {},
   "outputs": [],
   "source": [
    "# Sample sentences for training the Word2Vec model\n",
    "\n",
    "text = [\n",
    "    \"Gensim is a library for topic modeling.\",\n",
    "    \"Word embeddings capture semantic model relationships.\",\n",
    "    \"Machine learning models benefit from modelling word vectors.\",\n",
    "]\n",
    "\n",
    "text_processed=[gensim.utils.simple_preprocess(i) for i in text]\n",
    "\n",
    "# Create and train the Word2Vec model using Gensim API\n",
    "model = Word2Vec(sentences=text_processed, vector_size=100, window=5, min_count=1, workers=4)"
   ]
  },
  {
   "cell_type": "code",
   "execution_count": 77,
   "id": "cf0c1857-2873-475c-8b12-70653db2aadd",
   "metadata": {},
   "outputs": [
    {
     "data": {
      "text/plain": [
       "(100,)"
      ]
     },
     "execution_count": 77,
     "metadata": {},
     "output_type": "execute_result"
    }
   ],
   "source": [
    "model.wv.most_similar(\"machine\",topn=2)\n",
    "model.wv[\"library\"].shape"
   ]
  },
  {
   "cell_type": "code",
   "execution_count": 81,
   "id": "cb9ba629-9b31-418a-b497-ed44519e45ed",
   "metadata": {},
   "outputs": [
    {
     "data": {
      "text/plain": [
       "array([ 0.00520314,  0.15264887,  0.04811689,  0.12725186,  0.07096256,\n",
       "       -0.03322154,  0.07277728,  0.02004224, -0.10160024,  0.00060957,\n",
       "        0.07749701, -0.02484779,  0.06808273, -0.05734866,  0.13832521,\n",
       "       -0.04478195, -0.08495373, -0.07641201, -0.1031341 , -0.1042546 ,\n",
       "       -0.03160974,  0.00542958,  0.09465685, -0.13623786, -0.05994345,\n",
       "       -0.05481427, -0.08348947, -0.01989052,  0.04346938, -0.06820759,\n",
       "        0.02835315, -0.11843323,  0.05329701,  0.09060298,  0.00038226,\n",
       "        0.04739396, -0.00866848,  0.06378812, -0.03847633, -0.13232833,\n",
       "       -0.09736572,  0.01979873,  0.01571685,  0.05706707, -0.02712453,\n",
       "       -0.03581317,  0.09173247,  0.03717219, -0.05912133,  0.04485461,\n",
       "        0.02401954, -0.0463328 ,  0.05854814, -0.00078209, -0.02653062,\n",
       "       -0.02194951,  0.02600981,  0.05819736,  0.03658687, -0.08544386,\n",
       "       -0.04370953, -0.03145005,  0.09343471, -0.03793086, -0.13704646,\n",
       "        0.06195154,  0.03020018,  0.12809211, -0.1622059 ,  0.0490381 ,\n",
       "       -0.11340077,  0.09858917,  0.07895168,  0.10701518, -0.04495467,\n",
       "        0.00724487, -0.11216667,  0.00263907, -0.10508643, -0.06016286,\n",
       "       -0.02609269,  0.02518974, -0.0030826 , -0.01017205,  0.11479173,\n",
       "        0.01238014, -0.0504472 , -0.12272602,  0.06241082,  0.09639175,\n",
       "       -0.00100527, -0.01982623, -0.05920831,  0.02105925,  0.15215181,\n",
       "        0.02173999, -0.05052145,  0.03520195,  0.00661677, -0.06992561],\n",
       "      dtype=float32)"
      ]
     },
     "execution_count": 81,
     "metadata": {},
     "output_type": "execute_result"
    }
   ],
   "source": [
    "model.wv.get_mean_vector([\"embeddings\", \"model\"])"
   ]
  },
  {
   "cell_type": "markdown",
   "id": "a9fec8b3-2722-4985-9408-fb7d280e22a4",
   "metadata": {},
   "source": [
    "# Text classification using gensim-word2vec-google-news"
   ]
  },
  {
   "cell_type": "code",
   "execution_count": 95,
   "id": "6b51e9a1-ad6d-48b2-8c8b-2a7f3a63189e",
   "metadata": {},
   "outputs": [],
   "source": [
    "df=pd.read_csv(\"Fake_Real_Data.txt\")\n",
    "df[\"label_num\"]=df[\"label\"].apply(lambda x: 1 if x==\"Real\" else 0)"
   ]
  },
  {
   "cell_type": "code",
   "execution_count": 104,
   "id": "ef7b16c2-6355-4f28-8219-ddd904d6c57c",
   "metadata": {},
   "outputs": [],
   "source": [
    "nlp = spacy.load(\"en_core_web_lg\")\n",
    "def preprocess_vectorize(text):\n",
    "    filtered_token=[]\n",
    "    doc=nlp(text)\n",
    "    for token in doc:\n",
    "        if token.is_stop or token.is_punct:\n",
    "            continue\n",
    "        else:\n",
    "            filtered_token.append(token.lemma_)\n",
    "    return(wv.get_mean_vector(filtered_token))     "
   ]
  },
  {
   "cell_type": "code",
   "execution_count": 105,
   "id": "53e694a1-7249-44ae-b5a3-5299d22626d3",
   "metadata": {},
   "outputs": [],
   "source": [
    "df[\"Text_new\"]=df[\"Text\"].apply(preprocess_vectorize)"
   ]
  },
  {
   "cell_type": "code",
   "execution_count": 108,
   "id": "d964d5f2-d6ca-4d19-bf34-7c5ee45c72f2",
   "metadata": {},
   "outputs": [],
   "source": [
    "df.to_csv(\"Fake_Real_Data_gensim.txt\")"
   ]
  },
  {
   "cell_type": "code",
   "execution_count": 115,
   "id": "4361a285-d5a3-4d0a-812b-41cb103fd0b4",
   "metadata": {},
   "outputs": [],
   "source": [
    "x_train,x_test,y_train, y_test=train_test_split(df[\"Text_new\"],df.label_num,stratify=df.label_num,random_state=120)"
   ]
  },
  {
   "cell_type": "code",
   "execution_count": 124,
   "id": "78b8a85a-dddc-44c4-8127-65415e8bea88",
   "metadata": {},
   "outputs": [],
   "source": [
    "x_train_2d=np.stack(x_train)\n",
    "x_test_2d=np.stack(x_test)"
   ]
  },
  {
   "cell_type": "code",
   "execution_count": 125,
   "id": "325e16b4-3757-4e15-8155-824f033976ff",
   "metadata": {},
   "outputs": [
    {
     "name": "stdout",
     "output_type": "stream",
     "text": [
      "              precision    recall  f1-score   support\n",
      "\n",
      "           0       0.99      0.98      0.98      1250\n",
      "           1       0.98      0.99      0.98      1225\n",
      "\n",
      "    accuracy                           0.98      2475\n",
      "   macro avg       0.98      0.98      0.98      2475\n",
      "weighted avg       0.98      0.98      0.98      2475\n",
      "\n"
     ]
    }
   ],
   "source": [
    "model=GradientBoostingClassifier()\n",
    "model.fit(x_train_2d,y_train)\n",
    "ypred=model.predict(x_test_2d)\n",
    "print(classification_report(y_test, ypred))"
   ]
  },
  {
   "cell_type": "code",
   "execution_count": 135,
   "id": "2563f211-d3e5-45e8-850e-c41b69e68392",
   "metadata": {},
   "outputs": [
    {
     "data": {
      "text/plain": [
       "<Axes: >"
      ]
     },
     "execution_count": 135,
     "metadata": {},
     "output_type": "execute_result"
    },
    {
     "data": {
      "image/png": "[encoded data removed]",
      "text/plain": [
       "<Figure size 640x480 with 2 Axes>"
      ]
     },
     "metadata": {},
     "output_type": "display_data"
    }
   ],
   "source": [
    "cm=confusion_matrix(y_test, ypred)\n",
    "sn.heatmap(cm, annot=True, fmt='d')"
   ]
  },
  {
   "cell_type": "code",
   "execution_count": 132,
   "id": "432d3f6e-c948-44ef-bfb4-beecae8d2628",
   "metadata": {},
   "outputs": [],
   "source": [
    "test_news = [\n",
    "    \"Michigan governor denies misleading U.S. House on Flint water (Reuters) - Michigan Governor Rick Snyder denied Thursday that he had misled a U.S. House of Representatives committee last year over testimony on Flintâ€™s water crisis after lawmakers asked if his testimony had been contradicted by a witness in a court hearing. The House Oversight and Government Reform Committee wrote Snyder earlier Thursday asking him about published reports that one of his aides, Harvey Hollins, testified in a court hearing last week in Michigan that he had notified Snyder of an outbreak of Legionnairesâ€™ disease linked to the Flint water crisis in December 2015, rather than 2016 as Snyder had testified. â€œMy testimony was truthful and I stand by it,â€ Snyder told the committee in a letter, adding that his office has provided tens of thousands of pages of records to the committee and would continue to cooperate fully.  Last week, prosecutors in Michigan said Dr. Eden Wells, the stateâ€™s chief medical executive who already faced lesser charges, would become the sixth current or former official to face involuntary manslaughter charges in connection with the crisis. The charges stem from more than 80 cases of Legionnairesâ€™ disease and at least 12 deaths that were believed to be linked to the water in Flint after the city switched its source from Lake Huron to the Flint River in April 2014. Wells was among six current and former Michigan and Flint officials charged in June. The other five, including Michigan Health and Human Services Director Nick Lyon, were charged at the time with involuntary manslaughter\",\n",
    "    \" WATCH: Fox News Host Loses Her Sh*t, Says Investigating Russia For Hacking Our Election Is Unpatriotic This woman is insane.In an incredibly disrespectful rant against President Obama and anyone else who supports investigating Russian interference in our election, Fox News host Jeanine Pirro said that anybody who is against Donald Trump is anti-American. Look, it s time to take sides,  she began.\",\n",
    "    \" Sarah Palin Celebrates After White Man Who Pulled Gun On Black Protesters Goes Unpunished (VIDEO) Sarah Palin, one of the nigh-innumerable  deplorables  in Donald Trump s  basket,  almost outdid herself in terms of horribleness on Friday.\"\n",
    "]\n"
   ]
  },
  {
   "cell_type": "code",
   "execution_count": 133,
   "id": "088e9750-18bf-4409-90ac-91c1e4243ef5",
   "metadata": {},
   "outputs": [
    {
     "data": {
      "text/plain": [
       "array([1, 0, 0])"
      ]
     },
     "execution_count": 133,
     "metadata": {},
     "output_type": "execute_result"
    }
   ],
   "source": [
    "test_news_process=[preprocess_vectorize(i) for i in test_news]\n",
    "test_news_process_2d=np.stack(test_news_process)\n",
    "ypred_test=model.predict(test_news_process_2d)\n",
    "ypred_test"
   ]
  }
 ],
 "metadata": {
  "kernelspec": {
   "display_name": "Python 3 (ipykernel)",
   "language": "python",
   "name": "python3"
  },
  "language_info": {
   "codemirror_mode": {
    "name": "ipython",
    "version": 3
   },
   "file_extension": ".py",
   "mimetype": "text/x-python",
   "name": "python",
   "nbconvert_exporter": "python",
   "pygments_lexer": "ipython3",
   "version": "3.11.5"
  }
 },
 "nbformat": 4,
 "nbformat_minor": 5
}
