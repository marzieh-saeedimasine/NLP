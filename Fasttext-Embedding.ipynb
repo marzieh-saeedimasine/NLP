{
 "cells": [
  {
   "cell_type": "code",
   "execution_count": 37,
   "id": "0cf3b26e-2dcb-47e9-a82b-2b1e74c752fa",
   "metadata": {},
   "outputs": [
    {
     "data": {
      "text/plain": [
       "'\\nWord embedding techniques:\\nBased on CBOW and skip gram in which ANN trained on the text and a side result you get weights as word embeding vector \\nWord2vec: trained on words, has problem of OOV\\nFastText: trained on character n-GRAM, handel OOV nicely, train for your domain (custom)\\nIs both technique (method) as well as a Library \\nhttps://fasttext.cc is facebook library and trained on Common Crawl and Wikipedia texts\\n'"
      ]
     },
     "execution_count": 37,
     "metadata": {},
     "output_type": "execute_result"
    }
   ],
   "source": [
    "'''\n",
    "Word embedding techniques:\n",
    "Based on CBOW and skip gram in which ANN trained on the text and a side result you get weights as word embeding vector \n",
    "Word2vec: trained on words, has problem of OOV\n",
    "FastText: trained on character n-GRAM, handel OOV nicely, train for your domain (custom)\n",
    "Is both technique (method) as well as a Library \n",
    "https://fasttext.cc is facebook library and trained on Common Crawl and Wikipedia texts\n",
    "both unsupervised and supervised text training \n",
    "'''"
   ]
  },
  {
   "cell_type": "code",
   "execution_count": 8,
   "id": "72222bd3-919c-4998-a0d8-c2751ee515d5",
   "metadata": {},
   "outputs": [],
   "source": [
    "#!pip install fasttext\n",
    "# download en model from https://fasttext.cc  Multi-lingual word vectors  english(bin)"
   ]
  },
  {
   "cell_type": "code",
   "execution_count": 151,
   "id": "b4f04e18-2956-4d12-af84-baaeeb006ee5",
   "metadata": {},
   "outputs": [],
   "source": [
    "import pandas as pd\n",
    "import fasttext\n",
    "import re\n",
    "from sklearn.model_selection import train_test_split"
   ]
  },
  {
   "cell_type": "code",
   "execution_count": 39,
   "id": "5bdc75f1-fce1-40a2-b64d-237d1e6c7cbe",
   "metadata": {},
   "outputs": [
    {
     "name": "stderr",
     "output_type": "stream",
     "text": [
      "Warning : `load_model` does not return WordVectorModel or SupervisedModel any more, but a `FastText` object which is very similar.\n"
     ]
    },
    {
     "data": {
      "text/plain": [
       "(300,)"
      ]
     },
     "execution_count": 39,
     "metadata": {},
     "output_type": "execute_result"
    }
   ],
   "source": [
    "model=fasttext.load_model(\"cc.en.300.bin\")\n",
    "#dir(model)\n",
    "model.get_nearest_neighbors(\"good\")\n",
    "model.get_word_vector(\"good\").shape"
   ]
  },
  {
   "cell_type": "code",
   "execution_count": 33,
   "id": "174b9970-268a-41dd-9714-6e865a4ff56f",
   "metadata": {
    "scrolled": true
   },
   "outputs": [
    {
     "data": {
      "text/plain": [
       "[(0.5302355885505676, 'reading'),\n",
       " (0.517051637172699, 'book.I'),\n",
       " (0.5137901306152344, 'book--and'),\n",
       " (0.5090512633323669, 'book.That'),\n",
       " (0.5005884766578674, 'book--it'),\n",
       " (0.49395182728767395, 'book--I'),\n",
       " (0.49293914437294006, 're-reading'),\n",
       " (0.49156999588012695, 'book.This'),\n",
       " (0.49107635021209717, 'reading--and'),\n",
       " (0.48960915207862854, 'book--the')]"
      ]
     },
     "execution_count": 33,
     "metadata": {},
     "output_type": "execute_result"
    }
   ],
   "source": [
    "model.get_analogies(\"driving\",\"car\",\"book\")"
   ]
  },
  {
   "cell_type": "code",
   "execution_count": 97,
   "id": "6396a548-3ba7-45dc-a493-8086dcc0b6b1",
   "metadata": {},
   "outputs": [
    {
     "data": {
      "text/plain": [
       "[(0.8078702092170715, 'chutneys'),\n",
       " (0.7138292789459229, 'thokku'),\n",
       " (0.701572060585022, 'Chutney'),\n",
       " (0.6875490546226501, 'achaar'),\n",
       " (0.684525728225708, 'piccalilli'),\n",
       " (0.6737173199653625, 'raita'),\n",
       " (0.6715506911277771, 'chatni'),\n",
       " (0.6610829830169678, 'chutney.'),\n",
       " (0.6505922675132751, 'gojju'),\n",
       " (0.6398508548736572, 'kasundi')]"
      ]
     },
     "execution_count": 97,
     "metadata": {},
     "output_type": "execute_result"
    }
   ],
   "source": [
    "model.get_nearest_neighbors(\"chutney\")\n",
    "\n",
    "# Wikipedia model doesnt identify correct nearest neighbor.\n",
    "# we can modify model and customize to foods with unsupervised traning Fasttext "
   ]
  },
  {
   "cell_type": "markdown",
   "id": "5c2552ed-b3f1-42fd-a5de-c1ca048c91c6",
   "metadata": {},
   "source": [
    "# Unsupervised text training using Fasttext inorder to customize to our text"
   ]
  },
  {
   "cell_type": "code",
   "execution_count": 41,
   "id": "18a9a59f-518d-4de1-990d-fe17ac53a7cb",
   "metadata": {},
   "outputs": [
    {
     "data": {
      "text/html": [
       "<div>\n",
       "<style scoped>\n",
       "    .dataframe tbody tr th:only-of-type {\n",
       "        vertical-align: middle;\n",
       "    }\n",
       "\n",
       "    .dataframe tbody tr th {\n",
       "        vertical-align: top;\n",
       "    }\n",
       "\n",
       "    .dataframe thead th {\n",
       "        text-align: right;\n",
       "    }\n",
       "</style>\n",
       "<table border=\"1\" class=\"dataframe\">\n",
       "  <thead>\n",
       "    <tr style=\"text-align: right;\">\n",
       "      <th></th>\n",
       "      <th>TranslatedRecipeName</th>\n",
       "      <th>TranslatedIngredients</th>\n",
       "      <th>TotalTimeInMins</th>\n",
       "      <th>Cuisine</th>\n",
       "      <th>TranslatedInstructions</th>\n",
       "      <th>URL</th>\n",
       "      <th>Cleaned-Ingredients</th>\n",
       "      <th>image-url</th>\n",
       "      <th>Ingredient-count</th>\n",
       "    </tr>\n",
       "  </thead>\n",
       "  <tbody>\n",
       "    <tr>\n",
       "      <th>0</th>\n",
       "      <td>Masala Karela Recipe</td>\n",
       "      <td>1 tablespoon Red Chilli powder,3 tablespoon Gr...</td>\n",
       "      <td>45</td>\n",
       "      <td>Indian</td>\n",
       "      <td>To begin making the Masala Karela Recipe,de-se...</td>\n",
       "      <td>https://www.archanaskitchen.com/masala-karela-...</td>\n",
       "      <td>salt,amchur (dry mango powder),karela (bitter ...</td>\n",
       "      <td>https://www.archanaskitchen.com/images/archana...</td>\n",
       "      <td>10</td>\n",
       "    </tr>\n",
       "    <tr>\n",
       "      <th>1</th>\n",
       "      <td>Spicy Tomato Rice (Recipe)</td>\n",
       "      <td>2 teaspoon cashew - or peanuts, 1/2 Teaspoon ...</td>\n",
       "      <td>15</td>\n",
       "      <td>South Indian Recipes</td>\n",
       "      <td>To make tomato puliogere, first cut the tomato...</td>\n",
       "      <td>https://www.archanaskitchen.com/spicy-tomato-r...</td>\n",
       "      <td>tomato,salt,chickpea lentils,green chilli,rice...</td>\n",
       "      <td>https://www.archanaskitchen.com/images/archana...</td>\n",
       "      <td>12</td>\n",
       "    </tr>\n",
       "    <tr>\n",
       "      <th>2</th>\n",
       "      <td>Ragi Semiya Upma Recipe - Ragi Millet Vermicel...</td>\n",
       "      <td>1 Onion - sliced,1 teaspoon White Urad Dal (Sp...</td>\n",
       "      <td>50</td>\n",
       "      <td>South Indian Recipes</td>\n",
       "      <td>To begin making the Ragi Vermicelli Recipe, fi...</td>\n",
       "      <td>https://www.archanaskitchen.com/ragi-vermicell...</td>\n",
       "      <td>salt,rice vermicelli noodles (thin),asafoetida...</td>\n",
       "      <td>https://www.archanaskitchen.com/images/archana...</td>\n",
       "      <td>12</td>\n",
       "    </tr>\n",
       "    <tr>\n",
       "      <th>3</th>\n",
       "      <td>Gongura Chicken Curry Recipe - Andhra Style Go...</td>\n",
       "      <td>1/2 teaspoon Turmeric powder (Haldi),1 tablesp...</td>\n",
       "      <td>45</td>\n",
       "      <td>Andhra</td>\n",
       "      <td>To begin making Gongura Chicken Curry Recipe f...</td>\n",
       "      <td>https://www.archanaskitchen.com/gongura-chicke...</td>\n",
       "      <td>tomato,salt,ginger,sorrel leaves (gongura),fen...</td>\n",
       "      <td>https://www.archanaskitchen.com/images/archana...</td>\n",
       "      <td>15</td>\n",
       "    </tr>\n",
       "    <tr>\n",
       "      <th>4</th>\n",
       "      <td>Andhra Style Alam Pachadi Recipe - Adrak Chutn...</td>\n",
       "      <td>oil - as per use, 1 tablespoon coriander seed...</td>\n",
       "      <td>30</td>\n",
       "      <td>Andhra</td>\n",
       "      <td>To make Andhra Style Alam Pachadi, first heat ...</td>\n",
       "      <td>https://www.archanaskitchen.com/andhra-style-a...</td>\n",
       "      <td>tomato,salt,ginger,red chillies,curry,asafoeti...</td>\n",
       "      <td>https://www.archanaskitchen.com/images/archana...</td>\n",
       "      <td>12</td>\n",
       "    </tr>\n",
       "  </tbody>\n",
       "</table>\n",
       "</div>"
      ],
      "text/plain": [
       "                                TranslatedRecipeName  \\\n",
       "0                               Masala Karela Recipe   \n",
       "1                         Spicy Tomato Rice (Recipe)   \n",
       "2  Ragi Semiya Upma Recipe - Ragi Millet Vermicel...   \n",
       "3  Gongura Chicken Curry Recipe - Andhra Style Go...   \n",
       "4  Andhra Style Alam Pachadi Recipe - Adrak Chutn...   \n",
       "\n",
       "                               TranslatedIngredients  TotalTimeInMins  \\\n",
       "0  1 tablespoon Red Chilli powder,3 tablespoon Gr...               45   \n",
       "1   2 teaspoon cashew - or peanuts, 1/2 Teaspoon ...               15   \n",
       "2  1 Onion - sliced,1 teaspoon White Urad Dal (Sp...               50   \n",
       "3  1/2 teaspoon Turmeric powder (Haldi),1 tablesp...               45   \n",
       "4   oil - as per use, 1 tablespoon coriander seed...               30   \n",
       "\n",
       "                Cuisine                             TranslatedInstructions  \\\n",
       "0                Indian  To begin making the Masala Karela Recipe,de-se...   \n",
       "1  South Indian Recipes  To make tomato puliogere, first cut the tomato...   \n",
       "2  South Indian Recipes  To begin making the Ragi Vermicelli Recipe, fi...   \n",
       "3                Andhra  To begin making Gongura Chicken Curry Recipe f...   \n",
       "4                Andhra  To make Andhra Style Alam Pachadi, first heat ...   \n",
       "\n",
       "                                                 URL  \\\n",
       "0  https://www.archanaskitchen.com/masala-karela-...   \n",
       "1  https://www.archanaskitchen.com/spicy-tomato-r...   \n",
       "2  https://www.archanaskitchen.com/ragi-vermicell...   \n",
       "3  https://www.archanaskitchen.com/gongura-chicke...   \n",
       "4  https://www.archanaskitchen.com/andhra-style-a...   \n",
       "\n",
       "                                 Cleaned-Ingredients  \\\n",
       "0  salt,amchur (dry mango powder),karela (bitter ...   \n",
       "1  tomato,salt,chickpea lentils,green chilli,rice...   \n",
       "2  salt,rice vermicelli noodles (thin),asafoetida...   \n",
       "3  tomato,salt,ginger,sorrel leaves (gongura),fen...   \n",
       "4  tomato,salt,ginger,red chillies,curry,asafoeti...   \n",
       "\n",
       "                                           image-url  Ingredient-count  \n",
       "0  https://www.archanaskitchen.com/images/archana...                10  \n",
       "1  https://www.archanaskitchen.com/images/archana...                12  \n",
       "2  https://www.archanaskitchen.com/images/archana...                12  \n",
       "3  https://www.archanaskitchen.com/images/archana...                15  \n",
       "4  https://www.archanaskitchen.com/images/archana...                12  "
      ]
     },
     "execution_count": 41,
     "metadata": {},
     "output_type": "execute_result"
    }
   ],
   "source": [
    "df=pd.read_csv(\"Cleaned_Indian_Food_Dataset.txt\")\n",
    "df.head()"
   ]
  },
  {
   "cell_type": "code",
   "execution_count": 81,
   "id": "0981653c-a478-4106-95eb-607dd0973515",
   "metadata": {},
   "outputs": [
    {
     "data": {
      "text/plain": [
       "'To begin making the Masala Karela Recipe,de-seed the karela and slice.\\nDo not remove the skin as the skin has all the nutrients.\\nAdd the karela to the pressure cooker with 3 tablespoon of water, salt and turmeric powder and pressure cook for three whistles.\\nRelease the pressure immediately and open the lids.\\nKeep aside.Heat oil in a heavy bottomed pan or a kadhai.\\nAdd cumin seeds and let it sizzle.Once the cumin seeds have sizzled, add onions and saute them till it turns golden brown in color.Add the karela, red chilli powder, amchur powder, coriander powder and besan.\\nStir to combine the masalas into the karela.Drizzle a little extra oil on the top and mix again.\\nCover the pan and simmer Masala Karela stirring occasionally until everything comes together well.\\nTurn off the heat.Transfer Masala Karela into a serving bowl and serve.Serve Masala Karela along with Panchmel Dal and Phulka for a weekday meal with your family.\\n'"
      ]
     },
     "execution_count": 81,
     "metadata": {},
     "output_type": "execute_result"
    }
   ],
   "source": [
    "df.TranslatedInstructions[0]"
   ]
  },
  {
   "cell_type": "code",
   "execution_count": 87,
   "id": "fafbe8d3-0d55-4610-835a-2ceea93d1809",
   "metadata": {},
   "outputs": [],
   "source": [
    "def preprocess(text):\n",
    "    text = re.sub(r'[^\\w\\s\\']',' ', text)\n",
    "    text = re.sub(r'[ \\n]+', ' ', text)\n",
    "    return text.strip().lower() \n",
    "\n",
    "# strip() remove specific characters from both the beginning and the end of a text"
   ]
  },
  {
   "cell_type": "code",
   "execution_count": 88,
   "id": "3b77357a-5776-4add-b1d4-7ea5361f74cf",
   "metadata": {},
   "outputs": [],
   "source": [
    "df[\"TranslatedInstructions_new\"]= df.TranslatedInstructions.map(preprocess)"
   ]
  },
  {
   "cell_type": "code",
   "execution_count": 89,
   "id": "25bc02d4-3d79-4f24-973e-d69909e82cf9",
   "metadata": {},
   "outputs": [],
   "source": [
    "#save the desired text without any header or index, we just need row text\n",
    "df.to_csv(\"Cleaned_Indian_Food_Dataset_text.txt\", columns=[\"TranslatedInstructions_new\"], \n",
    "          header=None, index=False)"
   ]
  },
  {
   "cell_type": "code",
   "execution_count": 92,
   "id": "ffad0cf1-8b1c-407b-893c-8c06e0f3e75a",
   "metadata": {},
   "outputs": [
    {
     "name": "stderr",
     "output_type": "stream",
     "text": [
      "Read 1M words\n",
      "Number of words:  4599\n",
      "Number of labels: 0\n",
      "Progress: 100.0% words/sec/thread:  102285 lr:  0.000000 avg.loss:  2.180506 ETA:   0h 0m 0s\n"
     ]
    }
   ],
   "source": [
    "model_modified=fasttext.train_unsupervised(\"Cleaned_Indian_Food_Dataset_text.txt\")\n",
    "# change some parameters while training: \"cbow\", dim=300, epoch=2,lr=0.2 \n",
    "# This model has better understang of foods"
   ]
  },
  {
   "cell_type": "code",
   "execution_count": 94,
   "id": "332cb0f0-24ea-4089-a8a6-cf6916e0744c",
   "metadata": {},
   "outputs": [
    {
     "data": {
      "text/plain": [
       "[(0.9371572136878967, 'chutneys'),\n",
       " (0.735221803188324, 'dhaniya'),\n",
       " (0.7312581539154053, 'imli'),\n",
       " (0.7033554911613464, 'khajur'),\n",
       " (0.690842866897583, 'pudina'),\n",
       " (0.6881470084190369, 'mavinakayi'),\n",
       " (0.6704719662666321, 'south'),\n",
       " (0.6695611476898193, 'pudi'),\n",
       " (0.6654043197631836, 'kadale'),\n",
       " (0.6573453545570374, 'chitranna')]"
      ]
     },
     "execution_count": 94,
     "metadata": {},
     "output_type": "execute_result"
    }
   ],
   "source": [
    "model_modified.get_nearest_neighbors(\"chutney\")"
   ]
  },
  {
   "cell_type": "markdown",
   "id": "ea8d9f8c-12b6-4aba-b26a-814eac6f1465",
   "metadata": {},
   "source": [
    "# Supervised text training using Fasttext for text classification"
   ]
  },
  {
   "cell_type": "code",
   "execution_count": 164,
   "id": "33b72153-5c3b-4f9a-a0b1-d33a34384e74",
   "metadata": {},
   "outputs": [],
   "source": [
    "df=pd.read_csv(\"ecommerce_dataset.csv\", names=[\"category\",\"description\"])\n",
    "\n",
    "#df.loc[df.isna().any(axis=1)]\n",
    "df.dropna(inplace=True)\n",
    "\n",
    "df.category.replace('Clothing & Accessories','Clothing_Accessories',inplace=True)\n",
    "\n",
    "# fix label for fasttext training: This is the accepted format \n",
    "df.category=\"__label__\"+ df.category\n",
    "\n",
    "# make both category and description in one column for fasttext training\n",
    "df[\"category_description\"]=df[\"category\"]+ \" \" + df[\"description\"]"
   ]
  },
  {
   "cell_type": "code",
   "execution_count": 165,
   "id": "0deaf312-4ab9-457d-ae7f-d32891affb3e",
   "metadata": {},
   "outputs": [],
   "source": [
    "def preprocess(text):\n",
    "    text = re.sub(r'[^\\w\\s\\']',' ', text)\n",
    "    text = re.sub(r'[ \\n]+', ' ', text)\n",
    "    return text.strip().lower() \n",
    "\n",
    "# strip() remove specific characters from both the beginning and the end of a text"
   ]
  },
  {
   "cell_type": "code",
   "execution_count": 166,
   "id": "3439a63a-4cd1-4004-a7d8-549408f07a77",
   "metadata": {},
   "outputs": [],
   "source": [
    "df[\"category_description\"]=df[\"category_description\"].map(preprocess)"
   ]
  },
  {
   "cell_type": "code",
   "execution_count": 167,
   "id": "f4090d4f-b050-46d1-9585-bc4650b9e8a0",
   "metadata": {},
   "outputs": [
    {
     "data": {
      "text/html": [
       "<div>\n",
       "<style scoped>\n",
       "    .dataframe tbody tr th:only-of-type {\n",
       "        vertical-align: middle;\n",
       "    }\n",
       "\n",
       "    .dataframe tbody tr th {\n",
       "        vertical-align: top;\n",
       "    }\n",
       "\n",
       "    .dataframe thead th {\n",
       "        text-align: right;\n",
       "    }\n",
       "</style>\n",
       "<table border=\"1\" class=\"dataframe\">\n",
       "  <thead>\n",
       "    <tr style=\"text-align: right;\">\n",
       "      <th></th>\n",
       "      <th>category</th>\n",
       "      <th>description</th>\n",
       "      <th>category_description</th>\n",
       "    </tr>\n",
       "  </thead>\n",
       "  <tbody>\n",
       "    <tr>\n",
       "      <th>0</th>\n",
       "      <td>__label__Household</td>\n",
       "      <td>Paper Plane Design Framed Wall Hanging Motivat...</td>\n",
       "      <td>__label__household paper plane design framed w...</td>\n",
       "    </tr>\n",
       "    <tr>\n",
       "      <th>1</th>\n",
       "      <td>__label__Household</td>\n",
       "      <td>SAF 'Floral' Framed Painting (Wood, 30 inch x ...</td>\n",
       "      <td>__label__household saf 'floral' framed paintin...</td>\n",
       "    </tr>\n",
       "    <tr>\n",
       "      <th>2</th>\n",
       "      <td>__label__Household</td>\n",
       "      <td>SAF 'UV Textured Modern Art Print Framed' Pain...</td>\n",
       "      <td>__label__household saf 'uv textured modern art...</td>\n",
       "    </tr>\n",
       "    <tr>\n",
       "      <th>3</th>\n",
       "      <td>__label__Household</td>\n",
       "      <td>SAF Flower Print Framed Painting (Synthetic, 1...</td>\n",
       "      <td>__label__household saf flower print framed pai...</td>\n",
       "    </tr>\n",
       "    <tr>\n",
       "      <th>4</th>\n",
       "      <td>__label__Household</td>\n",
       "      <td>Incredible Gifts India Wooden Happy Birthday U...</td>\n",
       "      <td>__label__household incredible gifts india wood...</td>\n",
       "    </tr>\n",
       "  </tbody>\n",
       "</table>\n",
       "</div>"
      ],
      "text/plain": [
       "             category                                        description  \\\n",
       "0  __label__Household  Paper Plane Design Framed Wall Hanging Motivat...   \n",
       "1  __label__Household  SAF 'Floral' Framed Painting (Wood, 30 inch x ...   \n",
       "2  __label__Household  SAF 'UV Textured Modern Art Print Framed' Pain...   \n",
       "3  __label__Household  SAF Flower Print Framed Painting (Synthetic, 1...   \n",
       "4  __label__Household  Incredible Gifts India Wooden Happy Birthday U...   \n",
       "\n",
       "                                category_description  \n",
       "0  __label__household paper plane design framed w...  \n",
       "1  __label__household saf 'floral' framed paintin...  \n",
       "2  __label__household saf 'uv textured modern art...  \n",
       "3  __label__household saf flower print framed pai...  \n",
       "4  __label__household incredible gifts india wood...  "
      ]
     },
     "execution_count": 167,
     "metadata": {},
     "output_type": "execute_result"
    }
   ],
   "source": [
    "df.head()"
   ]
  },
  {
   "cell_type": "code",
   "execution_count": 168,
   "id": "9ac6c4f9-f253-4061-abac-9dea9db285dd",
   "metadata": {},
   "outputs": [],
   "source": [
    "train,test=train_test_split(df,test_size=0.2, random_state=120, stratify=df.category)"
   ]
  },
  {
   "cell_type": "code",
   "execution_count": 169,
   "id": "3cf6b4ad-66fe-47d2-8e3c-ee65f651404f",
   "metadata": {},
   "outputs": [],
   "source": [
    "train.to_csv(\"ecommerce.train\",columns=[\"category_description\"], header=None, index=None)\n",
    "test.to_csv(\"ecommerce.test\",columns=[\"category_description\"], header=None, index=None)"
   ]
  },
  {
   "cell_type": "code",
   "execution_count": 183,
   "id": "295aabe8-8c57-40b5-be28-e4d4ad18d128",
   "metadata": {},
   "outputs": [
    {
     "name": "stderr",
     "output_type": "stream",
     "text": [
      "Read 4M words\n",
      "Number of words:  79268\n",
      "Number of labels: 4\n",
      "Progress: 100.0% words/sec/thread: 3354193 lr:  0.000000 avg.loss:  0.185518 ETA:   0h 0m 0s\n"
     ]
    },
    {
     "data": {
      "text/plain": [
       "(10085, 0.9681705503222607, 0.9681705503222607)"
      ]
     },
     "execution_count": 183,
     "metadata": {},
     "output_type": "execute_result"
    }
   ],
   "source": [
    "model=fasttext.train_supervised(input=\"ecommerce.train\")\n",
    "model.test(\"ecommerce.test\")"
   ]
  },
  {
   "cell_type": "code",
   "execution_count": 184,
   "id": "220b2053-74b6-4029-8dfb-0c3c7b91c8f4",
   "metadata": {},
   "outputs": [
    {
     "data": {
      "text/plain": [
       "(('__label__electronics',), array([0.99221069]))"
      ]
     },
     "execution_count": 184,
     "metadata": {},
     "output_type": "execute_result"
    }
   ],
   "source": [
    "model.predict(\"wintech assemble desktop pc cpu 500 gb sata hdd 4 gb ram intel c2d processor 3\")"
   ]
  },
  {
   "cell_type": "code",
   "execution_count": 185,
   "id": "d3ef2824-4cd5-48bc-98ac-ff9688cba6ee",
   "metadata": {},
   "outputs": [
    {
     "data": {
      "text/plain": [
       "(('__label__books',), array([1.00000966]))"
      ]
     },
     "execution_count": 185,
     "metadata": {},
     "output_type": "execute_result"
    }
   ],
   "source": [
    "model.predict(\"think and grow rich deluxe edition\")"
   ]
  },
  {
   "cell_type": "code",
   "execution_count": 187,
   "id": "e1fd46f8-048b-49b3-9e25-844baacf8cc3",
   "metadata": {},
   "outputs": [
    {
     "data": {
      "text/plain": [
       "[(0.9993665218353271, 'twr'),\n",
       " (0.9993665218353271, '8480'),\n",
       " (0.99935382604599, 'clothingits'),\n",
       " (0.99935382604599, 'locateyoung'),\n",
       " (0.99935382604599, 'lifeyepzon'),\n",
       " (0.99935382604599, \"locator's\"),\n",
       " (0.99935382604599, 'yepzonyepzon'),\n",
       " (0.99935382604599, 'usedownload'),\n",
       " (0.9993197321891785, 'h9r'),\n",
       " (0.9993095397949219, 'bp150')]"
      ]
     },
     "execution_count": 187,
     "metadata": {},
     "output_type": "execute_result"
    }
   ],
   "source": [
    "model.get_nearest_neighbors(\"sony\")"
   ]
  }
 ],
 "metadata": {
  "kernelspec": {
   "display_name": "Python 3 (ipykernel)",
   "language": "python",
   "name": "python3"
  },
  "language_info": {
   "codemirror_mode": {
    "name": "ipython",
    "version": 3
   },
   "file_extension": ".py",
   "mimetype": "text/x-python",
   "name": "python",
   "nbconvert_exporter": "python",
   "pygments_lexer": "ipython3",
   "version": "3.11.5"
  }
 },
 "nbformat": 4,
 "nbformat_minor": 5
}
