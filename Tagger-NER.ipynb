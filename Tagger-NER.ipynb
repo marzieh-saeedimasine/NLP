{
 "cells": [
  {
   "cell_type": "code",
   "execution_count": 10,
   "id": "9c5c7ab6-cf12-4082-97a9-c3577dca3144",
   "metadata": {},
   "outputs": [],
   "source": [
    "import spacy\n",
    "from spacy import displacy\n",
    "from spacy.tokens import Span"
   ]
  },
  {
   "cell_type": "markdown",
   "id": "337c70bd-2e66-4d7c-9236-a31ae6828258",
   "metadata": {},
   "source": [
    "# POS"
   ]
  },
  {
   "cell_type": "code",
   "execution_count": 2,
   "id": "dd2cd0e3-3c64-49b1-9c3a-d115461adf6b",
   "metadata": {},
   "outputs": [
    {
     "name": "stdout",
     "output_type": "stream",
     "text": [
      "Elon  |  PROPN  |  proper noun  |  96\n",
      "flew  |  VERB  |  verb  |  100\n",
      "to  |  ADP  |  adposition  |  85\n",
      "mars  |  NOUN  |  noun  |  92\n",
      "yesterday  |  NOUN  |  noun  |  92\n",
      ".  |  PUNCT  |  punctuation  |  97\n",
      "He  |  PRON  |  pronoun  |  95\n",
      "carried  |  VERB  |  verb  |  100\n",
      "biryani  |  ADJ  |  adjective  |  84\n",
      "masala  |  NOUN  |  noun  |  92\n",
      "with  |  ADP  |  adposition  |  85\n",
      "him  |  PRON  |  pronoun  |  95\n"
     ]
    }
   ],
   "source": [
    "nlp=spacy.load('en_core_web_sm')\n",
    "\n",
    "doc = nlp(\"Elon flew to mars yesterday. He carried biryani masala with him\")\n",
    "for token in doc:\n",
    "    print(token.text, \" | \", token.pos_,\" | \",spacy.explain(token.pos_), \" | \", token.pos)"
   ]
  },
  {
   "cell_type": "markdown",
   "id": "ca340924-ab4a-4a6f-97c5-d666363131df",
   "metadata": {},
   "source": [
    "# Tag"
   ]
  },
  {
   "cell_type": "code",
   "execution_count": 14,
   "id": "3cdb49f4-9b2b-4e33-b8a5-22fb2d0d5b13",
   "metadata": {},
   "outputs": [
    {
     "name": "stdout",
     "output_type": "stream",
     "text": [
      "Elon  |  NNP  |  noun, proper singular\n",
      "flew  |  VBD  |  verb, past tense\n",
      "to  |  IN  |  conjunction, subordinating or preposition\n",
      "mars  |  NNS  |  noun, plural\n",
      "yesterday  |  NN  |  noun, singular or mass\n",
      ".  |  .  |  punctuation mark, sentence closer\n",
      "He  |  PRP  |  pronoun, personal\n",
      "carried  |  VBD  |  verb, past tense\n",
      "biryani  |  JJ  |  adjective (English), other noun-modifier (Chinese)\n",
      "masala  |  NN  |  noun, singular or mass\n",
      "with  |  IN  |  conjunction, subordinating or preposition\n",
      "him  |  PRP  |  pronoun, personal\n"
     ]
    }
   ],
   "source": [
    "doc = nlp(\"Elon flew to mars yesterday. He carried biryani masala with him\")\n",
    "for token in doc:\n",
    "    print(token.text, \" | \", token.tag_, \" | \",spacy.explain(token.tag_))"
   ]
  },
  {
   "cell_type": "code",
   "execution_count": 59,
   "id": "7c5a5c64-0298-4da2-b9e1-4384ac8f1acf",
   "metadata": {},
   "outputs": [],
   "source": [
    "text='''\n",
    "Microsoft Cloud Strength Fuels Second Quarter Results\n",
    "\n",
    "REDMOND, Wash. — January 25, 2022 — Microsoft Corp. today announced the following results for the quarter ended December 31, 2021, as compared to the corresponding period of last fiscal year:\n",
    "\n",
    "·         Revenue was $51.7 billion and increased 20%\n",
    "\n",
    "·         Operating income was $22.2 billion and increased 24%\n",
    "\n",
    "·         Net income was $18.8 billion and increased 21%\n",
    "\n",
    "·         Diluted earnings per share was $2.48 and increased 22% and etc.\n",
    "\n",
    "“Digital technology is the most malleable resource at the world’s disposal to overcome constraints and reimagine everyday work and life,” said Satya Nadella, chairman and chief executive officer of Microsoft. “As tech as a percentage of global GDP continues to increase, we are innovating and investing across diverse and growing markets, with a common underlying technology stack and an operating model that reinforces a common strategy, culture, and sense of purpose.”\n",
    "\n",
    "'''"
   ]
  },
  {
   "cell_type": "code",
   "execution_count": 60,
   "id": "69f6c623-5ad9-470f-ac78-0242128e5820",
   "metadata": {},
   "outputs": [
    {
     "data": {
      "text/plain": [
       "186"
      ]
     },
     "execution_count": 60,
     "metadata": {},
     "output_type": "execute_result"
    }
   ],
   "source": [
    "nlp=spacy.load('en_core_web_sm')\n",
    "doc=nlp(text)\n",
    "len(doc)"
   ]
  },
  {
   "cell_type": "code",
   "execution_count": 33,
   "id": "dbb72e8f-4d56-4a28-bc5a-f12dc95c07e3",
   "metadata": {},
   "outputs": [
    {
     "name": "stdout",
     "output_type": "stream",
     "text": [
      "\n",
      "  |  SPACE  |  space  |  103\n",
      "Microsoft  |  PROPN  |  proper noun  |  96\n",
      "Cloud  |  PROPN  |  proper noun  |  96\n",
      "Strength  |  PROPN  |  proper noun  |  96\n",
      "Fuels  |  PROPN  |  proper noun  |  96\n",
      "Second  |  PROPN  |  proper noun  |  96\n",
      "Quarter  |  PROPN  |  proper noun  |  96\n",
      "Results  |  PROPN  |  proper noun  |  96\n",
      "\n",
      "\n",
      "  |  SPACE  |  space  |  103\n",
      "REDMOND  |  PROPN  |  proper noun  |  96\n",
      ",  |  PUNCT  |  punctuation  |  97\n",
      "Wash.  |  PROPN  |  proper noun  |  96\n",
      "—  |  PUNCT  |  punctuation  |  97\n",
      "January  |  PROPN  |  proper noun  |  96\n",
      "25  |  NUM  |  numeral  |  93\n",
      ",  |  PUNCT  |  punctuation  |  97\n",
      "2022  |  NUM  |  numeral  |  93\n",
      "—  |  PUNCT  |  punctuation  |  97\n",
      "Microsoft  |  PROPN  |  proper noun  |  96\n",
      "Corp.  |  PROPN  |  proper noun  |  96\n",
      "today  |  NOUN  |  noun  |  92\n",
      "announced  |  VERB  |  verb  |  100\n",
      "the  |  DET  |  determiner  |  90\n",
      "following  |  VERB  |  verb  |  100\n",
      "results  |  NOUN  |  noun  |  92\n",
      "for  |  ADP  |  adposition  |  85\n",
      "the  |  DET  |  determiner  |  90\n",
      "quarter  |  NOUN  |  noun  |  92\n",
      "ended  |  VERB  |  verb  |  100\n",
      "December  |  PROPN  |  proper noun  |  96\n",
      "31  |  NUM  |  numeral  |  93\n",
      ",  |  PUNCT  |  punctuation  |  97\n",
      "2021  |  NUM  |  numeral  |  93\n",
      ",  |  PUNCT  |  punctuation  |  97\n",
      "as  |  SCONJ  |  subordinating conjunction  |  98\n",
      "compared  |  VERB  |  verb  |  100\n",
      "to  |  ADP  |  adposition  |  85\n",
      "the  |  DET  |  determiner  |  90\n",
      "corresponding  |  ADJ  |  adjective  |  84\n",
      "period  |  NOUN  |  noun  |  92\n",
      "of  |  ADP  |  adposition  |  85\n",
      "last  |  ADJ  |  adjective  |  84\n",
      "fiscal  |  ADJ  |  adjective  |  84\n",
      "year  |  NOUN  |  noun  |  92\n",
      ":  |  PUNCT  |  punctuation  |  97\n",
      "\n",
      "\n",
      "  |  SPACE  |  space  |  103\n",
      "·  |  PUNCT  |  punctuation  |  97\n",
      "          |  SPACE  |  space  |  103\n",
      "Revenue  |  NOUN  |  noun  |  92\n",
      "was  |  AUX  |  auxiliary  |  87\n",
      "$  |  SYM  |  symbol  |  99\n",
      "51.7  |  NUM  |  numeral  |  93\n",
      "billion  |  NUM  |  numeral  |  93\n",
      "and  |  CCONJ  |  coordinating conjunction  |  89\n",
      "increased  |  VERB  |  verb  |  100\n",
      "20  |  NUM  |  numeral  |  93\n",
      "%  |  NOUN  |  noun  |  92\n",
      "\n",
      "\n",
      "  |  SPACE  |  space  |  103\n",
      "·  |  PUNCT  |  punctuation  |  97\n",
      "          |  SPACE  |  space  |  103\n",
      "Operating  |  VERB  |  verb  |  100\n",
      "income  |  NOUN  |  noun  |  92\n",
      "was  |  AUX  |  auxiliary  |  87\n",
      "$  |  SYM  |  symbol  |  99\n",
      "22.2  |  NUM  |  numeral  |  93\n",
      "billion  |  NUM  |  numeral  |  93\n",
      "and  |  CCONJ  |  coordinating conjunction  |  89\n",
      "increased  |  VERB  |  verb  |  100\n",
      "24  |  NUM  |  numeral  |  93\n",
      "%  |  NOUN  |  noun  |  92\n",
      "\n",
      "\n",
      "  |  SPACE  |  space  |  103\n",
      "·  |  PUNCT  |  punctuation  |  97\n",
      "          |  SPACE  |  space  |  103\n",
      "Net  |  ADJ  |  adjective  |  84\n",
      "income  |  NOUN  |  noun  |  92\n",
      "was  |  AUX  |  auxiliary  |  87\n",
      "$  |  SYM  |  symbol  |  99\n",
      "18.8  |  NUM  |  numeral  |  93\n",
      "billion  |  NUM  |  numeral  |  93\n",
      "and  |  CCONJ  |  coordinating conjunction  |  89\n",
      "increased  |  VERB  |  verb  |  100\n",
      "21  |  NUM  |  numeral  |  93\n",
      "%  |  NOUN  |  noun  |  92\n",
      "\n",
      "\n",
      "  |  SPACE  |  space  |  103\n",
      "·  |  PUNCT  |  punctuation  |  97\n",
      "          |  SPACE  |  space  |  103\n",
      "Diluted  |  VERB  |  verb  |  100\n",
      "earnings  |  NOUN  |  noun  |  92\n",
      "per  |  ADP  |  adposition  |  85\n",
      "share  |  NOUN  |  noun  |  92\n",
      "was  |  AUX  |  auxiliary  |  87\n",
      "$  |  SYM  |  symbol  |  99\n",
      "2.48  |  NUM  |  numeral  |  93\n",
      "and  |  CCONJ  |  coordinating conjunction  |  89\n",
      "increased  |  VERB  |  verb  |  100\n",
      "22  |  NUM  |  numeral  |  93\n",
      "%  |  NOUN  |  noun  |  92\n",
      "and  |  CCONJ  |  coordinating conjunction  |  89\n",
      "etc  |  X  |  other  |  101\n",
      ".  |  X  |  other  |  101\n",
      "\n",
      "\n",
      "  |  SPACE  |  space  |  103\n",
      "“  |  PUNCT  |  punctuation  |  97\n",
      "Digital  |  ADJ  |  adjective  |  84\n",
      "technology  |  NOUN  |  noun  |  92\n",
      "is  |  AUX  |  auxiliary  |  87\n",
      "the  |  DET  |  determiner  |  90\n",
      "most  |  ADV  |  adverb  |  86\n",
      "malleable  |  ADJ  |  adjective  |  84\n",
      "resource  |  NOUN  |  noun  |  92\n",
      "at  |  ADP  |  adposition  |  85\n",
      "the  |  DET  |  determiner  |  90\n",
      "world  |  NOUN  |  noun  |  92\n",
      "’s  |  PART  |  particle  |  94\n",
      "disposal  |  NOUN  |  noun  |  92\n",
      "to  |  PART  |  particle  |  94\n",
      "overcome  |  VERB  |  verb  |  100\n",
      "constraints  |  NOUN  |  noun  |  92\n",
      "and  |  CCONJ  |  coordinating conjunction  |  89\n",
      "reimagine  |  VERB  |  verb  |  100\n",
      "everyday  |  ADJ  |  adjective  |  84\n",
      "work  |  NOUN  |  noun  |  92\n",
      "and  |  CCONJ  |  coordinating conjunction  |  89\n",
      "life  |  NOUN  |  noun  |  92\n",
      ",  |  PUNCT  |  punctuation  |  97\n",
      "”  |  PUNCT  |  punctuation  |  97\n",
      "said  |  VERB  |  verb  |  100\n",
      "Satya  |  PROPN  |  proper noun  |  96\n",
      "Nadella  |  PROPN  |  proper noun  |  96\n",
      ",  |  PUNCT  |  punctuation  |  97\n",
      "chairman  |  NOUN  |  noun  |  92\n",
      "and  |  CCONJ  |  coordinating conjunction  |  89\n",
      "chief  |  ADJ  |  adjective  |  84\n",
      "executive  |  ADJ  |  adjective  |  84\n",
      "officer  |  NOUN  |  noun  |  92\n",
      "of  |  ADP  |  adposition  |  85\n",
      "Microsoft  |  PROPN  |  proper noun  |  96\n",
      ".  |  PUNCT  |  punctuation  |  97\n",
      "“  |  PUNCT  |  punctuation  |  97\n",
      "As  |  ADV  |  adverb  |  86\n",
      "tech  |  NOUN  |  noun  |  92\n",
      "as  |  ADP  |  adposition  |  85\n",
      "a  |  DET  |  determiner  |  90\n",
      "percentage  |  NOUN  |  noun  |  92\n",
      "of  |  ADP  |  adposition  |  85\n",
      "global  |  ADJ  |  adjective  |  84\n",
      "GDP  |  PROPN  |  proper noun  |  96\n",
      "continues  |  VERB  |  verb  |  100\n",
      "to  |  PART  |  particle  |  94\n",
      "increase  |  VERB  |  verb  |  100\n",
      ",  |  PUNCT  |  punctuation  |  97\n",
      "we  |  PRON  |  pronoun  |  95\n",
      "are  |  AUX  |  auxiliary  |  87\n",
      "innovating  |  VERB  |  verb  |  100\n",
      "and  |  CCONJ  |  coordinating conjunction  |  89\n",
      "investing  |  VERB  |  verb  |  100\n",
      "across  |  ADP  |  adposition  |  85\n",
      "diverse  |  ADJ  |  adjective  |  84\n",
      "and  |  CCONJ  |  coordinating conjunction  |  89\n",
      "growing  |  VERB  |  verb  |  100\n",
      "markets  |  NOUN  |  noun  |  92\n",
      ",  |  PUNCT  |  punctuation  |  97\n",
      "with  |  ADP  |  adposition  |  85\n",
      "a  |  DET  |  determiner  |  90\n",
      "common  |  ADJ  |  adjective  |  84\n",
      "underlying  |  VERB  |  verb  |  100\n",
      "technology  |  NOUN  |  noun  |  92\n",
      "stack  |  NOUN  |  noun  |  92\n",
      "and  |  CCONJ  |  coordinating conjunction  |  89\n",
      "an  |  DET  |  determiner  |  90\n",
      "operating  |  NOUN  |  noun  |  92\n",
      "model  |  NOUN  |  noun  |  92\n",
      "that  |  PRON  |  pronoun  |  95\n",
      "reinforces  |  VERB  |  verb  |  100\n",
      "a  |  DET  |  determiner  |  90\n",
      "common  |  ADJ  |  adjective  |  84\n",
      "strategy  |  NOUN  |  noun  |  92\n",
      ",  |  PUNCT  |  punctuation  |  97\n",
      "culture  |  NOUN  |  noun  |  92\n",
      ",  |  PUNCT  |  punctuation  |  97\n",
      "and  |  CCONJ  |  coordinating conjunction  |  89\n",
      "sense  |  NOUN  |  noun  |  92\n",
      "of  |  ADP  |  adposition  |  85\n",
      "purpose  |  NOUN  |  noun  |  92\n",
      ".  |  PUNCT  |  punctuation  |  97\n",
      "”  |  PUNCT  |  punctuation  |  97\n",
      "\n",
      "\n",
      "  |  SPACE  |  space  |  103\n"
     ]
    }
   ],
   "source": [
    "doc=nlp(text)\n",
    "lst_txt=[]\n",
    "for token in doc:\n",
    "         print(token.text,\" | \", token.pos_,\" | \",spacy.explain(token.pos_), \" | \", token.pos )"
   ]
  },
  {
   "cell_type": "code",
   "execution_count": 62,
   "id": "cb9c1a28-2717-4ae4-acea-5fed992cac50",
   "metadata": {},
   "outputs": [
    {
     "data": {
      "text/plain": [
       "'VERB'"
      ]
     },
     "execution_count": 62,
     "metadata": {},
     "output_type": "execute_result"
    }
   ],
   "source": [
    "doc.vocab[100].text"
   ]
  },
  {
   "cell_type": "code",
   "execution_count": 64,
   "id": "680815b6-a12e-4004-8a3c-315d6531735a",
   "metadata": {},
   "outputs": [
    {
     "data": {
      "text/plain": [
       "{103: 12,\n",
       " 96: 17,\n",
       " 97: 23,\n",
       " 93: 15,\n",
       " 92: 34,\n",
       " 100: 20,\n",
       " 90: 9,\n",
       " 85: 11,\n",
       " 98: 1,\n",
       " 84: 13,\n",
       " 87: 6,\n",
       " 99: 4,\n",
       " 89: 12,\n",
       " 101: 2,\n",
       " 86: 2,\n",
       " 94: 3,\n",
       " 95: 2}"
      ]
     },
     "execution_count": 64,
     "metadata": {},
     "output_type": "execute_result"
    }
   ],
   "source": [
    "count= doc.count_by(spacy.attrs.POS)\n",
    "count"
   ]
  },
  {
   "cell_type": "code",
   "execution_count": 73,
   "id": "346526c3-7dfe-4028-88d3-51795bcbd7cd",
   "metadata": {},
   "outputs": [
    {
     "name": "stdout",
     "output_type": "stream",
     "text": [
      "SPACE  |  12\n",
      "PROPN  |  17\n",
      "PUNCT  |  23\n",
      "NUM  |  15\n",
      "NOUN  |  34\n",
      "VERB  |  20\n",
      "DET  |  9\n",
      "ADP  |  11\n",
      "SCONJ  |  1\n",
      "ADJ  |  13\n",
      "AUX  |  6\n",
      "SYM  |  4\n",
      "CCONJ  |  12\n",
      "X  |  2\n",
      "ADV  |  2\n",
      "PART  |  3\n",
      "PRON  |  2\n"
     ]
    }
   ],
   "source": [
    "for a,b in count.items():\n",
    "    print(doc.vocab[a].text, \" | \", b )"
   ]
  },
  {
   "cell_type": "code",
   "execution_count": 74,
   "id": "eb245613-9600-488b-9acc-eb022c669c5c",
   "metadata": {},
   "outputs": [
    {
     "data": {
      "text/plain": [
       "140"
      ]
     },
     "execution_count": 74,
     "metadata": {},
     "output_type": "execute_result"
    }
   ],
   "source": [
    "doc=nlp(text)\n",
    "lst_txt=[]\n",
    "\n",
    "for token in doc:\n",
    "    if token.pos_ not in [\"SPACE\",\"PUNCT\", \"DET\",\"X\"]:\n",
    "         lst_txt.append(token)\n",
    "\n",
    "len(lst_txt)"
   ]
  },
  {
   "cell_type": "markdown",
   "id": "708d2ec0-cd66-41c2-8456-ce21e260be26",
   "metadata": {},
   "source": [
    "# Name Entity Recognition (NER)\n",
    "# Like: Person, Company, Product, Location, Money, "
   ]
  },
  {
   "cell_type": "code",
   "execution_count": 79,
   "id": "cf3b756f-0b7b-41de-ab5a-8251aa502cd9",
   "metadata": {},
   "outputs": [
    {
     "data": {
      "text/plain": [
       "['tok2vec', 'tagger', 'parser', 'attribute_ruler', 'lemmatizer', 'ner']"
      ]
     },
     "execution_count": 79,
     "metadata": {},
     "output_type": "execute_result"
    }
   ],
   "source": [
    "nlp=spacy.load('en_core_web_sm')\n",
    "nlp.pipe_names"
   ]
  },
  {
   "cell_type": "code",
   "execution_count": 94,
   "id": "5eeba96a-3dda-4cb5-9828-3934ecdf96f1",
   "metadata": {},
   "outputs": [
    {
     "data": {
      "text/plain": [
       "['CARDINAL',\n",
       " 'DATE',\n",
       " 'EVENT',\n",
       " 'FAC',\n",
       " 'GPE',\n",
       " 'LANGUAGE',\n",
       " 'LAW',\n",
       " 'LOC',\n",
       " 'MONEY',\n",
       " 'NORP',\n",
       " 'ORDINAL',\n",
       " 'ORG',\n",
       " 'PERCENT',\n",
       " 'PERSON',\n",
       " 'PRODUCT',\n",
       " 'QUANTITY',\n",
       " 'TIME',\n",
       " 'WORK_OF_ART']"
      ]
     },
     "execution_count": 94,
     "metadata": {},
     "output_type": "execute_result"
    }
   ],
   "source": [
    "nlp.pipe_labels['ner']"
   ]
  },
  {
   "cell_type": "code",
   "execution_count": 96,
   "id": "d302afd4-25a1-42b4-8149-3bb806736223",
   "metadata": {},
   "outputs": [
    {
     "name": "stdout",
     "output_type": "stream",
     "text": [
      "Tesla Inc  |  ORG  |  Companies, agencies, institutions, etc.\n",
      "Twitter  |  PRODUCT  |  Objects, vehicles, foods, etc. (not services)\n",
      "$45 billion  |  MONEY  |  Monetary values, including unit\n"
     ]
    }
   ],
   "source": [
    "doc = nlp(\"Tesla Inc is going to acquire Twitter for $45 billion\")\n",
    "for ent in doc.ents:\n",
    "    print(ent.text, \" | \", ent.label_, \" | \", spacy.explain(ent.label_))"
   ]
  },
  {
   "cell_type": "code",
   "execution_count": 97,
   "id": "f8f751de-bca5-4f1a-94e2-004e88e18a7c",
   "metadata": {},
   "outputs": [
    {
     "data": {
      "text/html": [
       "<span class=\"tex2jax_ignore\"><div class=\"entities\" style=\"line-height: 2.5; direction: ltr\">\n",
       "<mark class=\"entity\" style=\"background: #7aecec; padding: 0.45em 0.6em; margin: 0 0.25em; line-height: 1; border-radius: 0.35em;\">\n",
       "    Tesla Inc\n",
       "    <span style=\"font-size: 0.8em; font-weight: bold; line-height: 1; border-radius: 0.35em; vertical-align: middle; margin-left: 0.5rem\">ORG</span>\n",
       "</mark>\n",
       " is going to acquire \n",
       "<mark class=\"entity\" style=\"background: #bfeeb7; padding: 0.45em 0.6em; margin: 0 0.25em; line-height: 1; border-radius: 0.35em;\">\n",
       "    Twitter\n",
       "    <span style=\"font-size: 0.8em; font-weight: bold; line-height: 1; border-radius: 0.35em; vertical-align: middle; margin-left: 0.5rem\">PRODUCT</span>\n",
       "</mark>\n",
       " for \n",
       "<mark class=\"entity\" style=\"background: #e4e7d2; padding: 0.45em 0.6em; margin: 0 0.25em; line-height: 1; border-radius: 0.35em;\">\n",
       "    $45 billion\n",
       "    <span style=\"font-size: 0.8em; font-weight: bold; line-height: 1; border-radius: 0.35em; vertical-align: middle; margin-left: 0.5rem\">MONEY</span>\n",
       "</mark>\n",
       "</div></span>"
      ],
      "text/plain": [
       "<IPython.core.display.HTML object>"
      ]
     },
     "metadata": {},
     "output_type": "display_data"
    }
   ],
   "source": [
    "displacy.render(doc,style=\"ent\")"
   ]
  },
  {
   "cell_type": "code",
   "execution_count": 95,
   "id": "9a04e8ef-a62b-4a7f-ab64-d78c8030f35b",
   "metadata": {},
   "outputs": [
    {
     "name": "stdout",
     "output_type": "stream",
     "text": [
      "Michael Bloomberg  |  PERSON  |  People, including fictional\n",
      "Bloomberg  |  PERSON  |  People, including fictional\n",
      "1982  |  DATE  |  Absolute or relative dates or periods\n"
     ]
    }
   ],
   "source": [
    "doc = nlp(\"Michael Bloomberg founded Bloomberg in 1982\")\n",
    "for ent in doc.ents:\n",
    "    print(ent.text, \" | \", ent.label_, \" | \", spacy.explain(ent.label_))"
   ]
  },
  {
   "cell_type": "markdown",
   "id": "83ab1a08-dada-41ca-aecf-847f0e2358b4",
   "metadata": {},
   "source": [
    "# Customize entities"
   ]
  },
  {
   "cell_type": "code",
   "execution_count": 17,
   "id": "f1128e9d-1620-489c-9af5-c16b218024e0",
   "metadata": {},
   "outputs": [
    {
     "name": "stdout",
     "output_type": "stream",
     "text": [
      "Tesla  |  ORG\n",
      "Twitter  |  PRODUCT\n",
      "$45 billion  |  MONEY\n"
     ]
    }
   ],
   "source": [
    "doc = nlp(\"Tesla is going to acquire Twitter for $45 billion\")\n",
    "for ent in doc.ents:\n",
    "    print(ent.text, \" | \", ent.label_)"
   ]
  },
  {
   "cell_type": "code",
   "execution_count": 18,
   "id": "f3c6a095-fc8e-4cbb-acfe-7f0460e070d2",
   "metadata": {},
   "outputs": [],
   "source": [
    "s1=Span(doc,0,1,label=\"ORG\")\n",
    "s2=Span(doc,5,6,label=\"ORG\")\n",
    "\n",
    "doc.set_ents([s1,s2],default=\"unmodified\")"
   ]
  },
  {
   "cell_type": "code",
   "execution_count": 19,
   "id": "74f100d4-f308-4a25-bdcd-58d3945043a7",
   "metadata": {},
   "outputs": [
    {
     "name": "stdout",
     "output_type": "stream",
     "text": [
      "Tesla  |  ORG\n",
      "Twitter  |  ORG\n",
      "$45 billion  |  MONEY\n"
     ]
    }
   ],
   "source": [
    "for ent in doc.ents:\n",
    "    print(ent.text, \" | \", ent.label_)"
   ]
  },
  {
   "cell_type": "code",
   "execution_count": 20,
   "id": "0a1450fa-426c-41f3-a222-542b93a4ae99",
   "metadata": {},
   "outputs": [
    {
     "data": {
      "text/plain": [
       "['tok2vec', 'tagger', 'parser', 'attribute_ruler', 'lemmatizer', 'ner']"
      ]
     },
     "execution_count": 20,
     "metadata": {},
     "output_type": "execute_result"
    }
   ],
   "source": [
    "nlp=spacy.load('en_core_web_sm')\n",
    "nlp.pipe_names"
   ]
  },
  {
   "cell_type": "markdown",
   "id": "4226c812-5d54-457f-b715-1d2d43396777",
   "metadata": {},
   "source": [
    "# EntityRuler for adding NER to blank nlp model \n",
    "# https://spacy.io/api/entityruler"
   ]
  },
  {
   "cell_type": "code",
   "execution_count": 30,
   "id": "27aea687-b928-49ef-98cd-421880b6cb2a",
   "metadata": {},
   "outputs": [
    {
     "data": {
      "text/plain": [
       "[('Apple', 'ORG')]"
      ]
     },
     "execution_count": 30,
     "metadata": {},
     "output_type": "execute_result"
    }
   ],
   "source": [
    "nlp=spacy.blank(\"en\")\n",
    "ruler = nlp.add_pipe(\"entity_ruler\")\n",
    "ruler.add_patterns([{\"label\": \"ORG\", \"pattern\": \"Apple\"}])\n",
    "\n",
    "doc = nlp(\"I like my Apple makbook.\")\n",
    "ents = [(ent.text, ent.label_) for ent in doc.ents]\n",
    "ents"
   ]
  }
 ],
 "metadata": {
  "kernelspec": {
   "display_name": "Python 3 (ipykernel)",
   "language": "python",
   "name": "python3"
  },
  "language_info": {
   "codemirror_mode": {
    "name": "ipython",
    "version": 3
   },
   "file_extension": ".py",
   "mimetype": "text/x-python",
   "name": "python",
   "nbconvert_exporter": "python",
   "pygments_lexer": "ipython3",
   "version": "3.11.5"
  }
 },
 "nbformat": 4,
 "nbformat_minor": 5
}
