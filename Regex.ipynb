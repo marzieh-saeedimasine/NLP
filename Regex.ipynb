{
 "cells": [
  {
   "cell_type": "code",
   "execution_count": null,
   "id": "7fbaa793",
   "metadata": {},
   "outputs": [],
   "source": [
    "'''\n",
    "Regular Expression and Information Extraction, Take a look on this page: https://regex101.com/\n",
    "'''"
   ]
  },
  {
   "cell_type": "code",
   "execution_count": null,
   "id": "fe413cf2-b5b8-4a4e-a094-d88087cd7a06",
   "metadata": {},
   "outputs": [],
   "source": [
    "import re\n",
    "import numpy as np\n",
    "import tensorflow as tf"
   ]
  },
  {
   "cell_type": "code",
   "execution_count": 3,
   "id": "e884adc5-e600-48e8-86a3-a76266247984",
   "metadata": {},
   "outputs": [
    {
     "data": {
      "text/plain": [
       "['9991116666', '(999)-333-7777']"
      ]
     },
     "execution_count": 3,
     "metadata": {},
     "output_type": "execute_result"
    }
   ],
   "source": [
    "text='''\n",
    "Elon musk's phone number is 9991116666, call him if you have any questions on dodgecoin. Tesla's revenue is 40 billion\n",
    "Tesla's CFO number (999)-333-7777\n",
    "'''\n",
    "\n",
    "patterns=\"\\d{10}|\\(\\d{3}\\)-\\d{3}-\\d{4}\"\n",
    "re.findall(patterns,text)"
   ]
  },
  {
   "cell_type": "code",
   "execution_count": 4,
   "id": "2db3a6c6-c2ee-4853-bbbb-f57f39a1578e",
   "metadata": {},
   "outputs": [
    {
     "data": {
      "text/plain": [
       "[' Overview', ' Summary of Significant Accounting Policies']"
      ]
     },
     "execution_count": 4,
     "metadata": {},
     "output_type": "execute_result"
    }
   ],
   "source": [
    "text = '''\n",
    "Note 1 - Overview\n",
    "Tesla, Inc. (“Tesla”, the “Company”, “we”, “us” or “our”) was incorporated in the State of Delaware on July 1, 2003. We design, develop, manufacture and sell high-performance fully electric vehicles and design, manufacture, install and sell solar energy generation and energy storage\n",
    "products. Our Chief Executive Officer, as the chief operating decision maker (“CODM”), organizes our company, manages resource allocations and measures performance among two operating and reportable segments: (i) automotive and (ii) energy generation and storage.\n",
    "Beginning in the first quarter of 2021, there has been a trend in many parts of the world of increasing availability and administration of vaccines\n",
    "against COVID-19, as well as an easing of restrictions on social, business, travel and government activities and functions. On the other hand, infection\n",
    "rates and regulations continue to fluctuate in various regions and there are ongoing global impacts resulting from the pandemic, including challenges\n",
    "and increases in costs for logistics and supply chains, such as increased port congestion, intermittent supplier delays and a shortfall of semiconductor\n",
    "supply. We have also previously been affected by temporary manufacturing closures, employment and compensation adjustments and impediments to\n",
    "administrative activities supporting our product deliveries and deployments.\n",
    "Note 2 - Summary of Significant Accounting Policies\n",
    "Unaudited Interim Financial Statements\n",
    "The consolidated balance sheet as of September 30, 2021, the consolidated statements of operations, the consolidated statements of\n",
    "comprehensive income, the consolidated statements of redeemable noncontrolling interests and equity for the three and nine months ended September\n",
    "30, 2021 and 2020 and the consolidated statements of cash flows for the nine months ended September 30, 2021 and 2020, as well as other information\n",
    "disclosed in the accompanying notes, are unaudited. The consolidated balance sheet as of December 31, 2020 was derived from the audited\n",
    "consolidated financial statements as of that date. The interim consolidated financial statements and the accompanying notes should be read in\n",
    "conjunction with the annual consolidated financial statements and the accompanying notes contained in our Annual Report on Form 10-K for the year\n",
    "ended December 31, 2020.\n",
    "'''\n",
    "patterns=\"Note \\d -([^\\n]*)\"\n",
    "re.findall(patterns,text)"
   ]
  },
  {
   "cell_type": "code",
   "execution_count": 5,
   "id": "a6933a5c-fa2d-479f-aa3b-0475c5ff1e64",
   "metadata": {},
   "outputs": [
    {
     "data": {
      "text/plain": [
       "['2021 Q1', '2020 Q4', '2020 Q4']"
      ]
     },
     "execution_count": 5,
     "metadata": {},
     "output_type": "execute_result"
    }
   ],
   "source": [
    "text = '''\n",
    "The gross cost of operating lease vehicles in FY2021 Q1 was $4.85 billion.\n",
    "In previous quarter i.e. FY2020 Q4 it was $3 billion and fY2020 Q4. \n",
    "'''\n",
    "\n",
    "patterns=\"FY(\\d{4} Q[1-4])\"\n",
    "re.findall(patterns,text,flags=re.IGNORECASE)   "
   ]
  },
  {
   "cell_type": "code",
   "execution_count": 6,
   "id": "409b2be6-4056-49cf-92f8-d52e94c9ea6a",
   "metadata": {},
   "outputs": [
    {
     "data": {
      "text/plain": [
       "['4.85', '3']"
      ]
     },
     "execution_count": 6,
     "metadata": {},
     "output_type": "execute_result"
    }
   ],
   "source": [
    "text = '''\n",
    "The gross cost of operating lease vehicles in FY2021 Q1 was $4.85 billion.\n",
    "In previous quarter i.e. FY2020 Q4 it was $3 billion and fY2020 Q4. \n",
    "'''\n",
    "\n",
    "patterns=\"\\$([0-9\\.]*)\"\n",
    "re.findall(patterns,text,flags=re.IGNORECASE)   "
   ]
  },
  {
   "cell_type": "code",
   "execution_count": 7,
   "id": "4a4e7038-c1c3-4cb7-9f70-23b702059e3e",
   "metadata": {},
   "outputs": [
    {
     "data": {
      "text/plain": [
       "[('2021 Q1', '4.85'), ('2020 Q4', '3')]"
      ]
     },
     "execution_count": 7,
     "metadata": {},
     "output_type": "execute_result"
    }
   ],
   "source": [
    "text = '''\n",
    "The gross cost of operating lease vehicles in FY2021 Q1 was $4.85 billion.\n",
    "In previous quarter i.e. FY2020 Q4 it was $3 billion and fY2020 Q4. \n",
    "'''\n",
    "\n",
    "patterns=\"FY(\\d{4} Q[1-4]) [^\\$]+ \\$([0-9\\.]*)\"\n",
    "re.findall(patterns,text,flags=re.IGNORECASE)   "
   ]
  },
  {
   "cell_type": "code",
   "execution_count": 8,
   "id": "84b2b425-20fc-4860-85da-73cf80deb148",
   "metadata": {},
   "outputs": [
    {
     "data": {
      "text/plain": [
       "['elonmusk', 'teslarati', 'dummy_tesla', 'dummy_2_tesla']"
      ]
     },
     "execution_count": 8,
     "metadata": {},
     "output_type": "execute_result"
    }
   ],
   "source": [
    "text = '''\n",
    "Follow our leader Elon musk on twitter here: https://twitter.com/elonmusk, more information \n",
    "on Tesla's products can be found at https://www.tesla.com/. Also here are leading influencers \n",
    "for tesla related news,\n",
    "https://twitter.com/teslarati\n",
    "https://twitter.com/dummy_tesla\n",
    "https://twitter.com/dummy_2_tesla\n",
    "'''\n",
    "pattern = 'https:\\/\\/twitter\\.com\\/([a-zA-Z0-9_]+)' # todo: type your regex here\n",
    "\n",
    "re.findall(pattern, text)"
   ]
  },
  {
   "cell_type": "code",
   "execution_count": 9,
   "id": "b5731727-b820-4aef-bef8-179bf04465d6",
   "metadata": {},
   "outputs": [
    {
     "data": {
      "text/plain": [
       "['Credit Risk', 'Supply Risk']"
      ]
     },
     "execution_count": 9,
     "metadata": {},
     "output_type": "execute_result"
    }
   ],
   "source": [
    "text = '''\n",
    "Concentration of Risk: Credit Risk\n",
    "Financial instruments that potentially subject us to a concentration of credit risk consist of cash, cash equivalents, marketable securities,\n",
    "restricted cash, accounts receivable, convertible note hedges, and interest rate swaps. Our cash balances are primarily invested in money market funds\n",
    "or on deposit at high credit quality financial institutions in the U.S. These deposits are typically in excess of insured limits. As of September 30, 2021\n",
    "and December 31, 2020, no entity represented 10% or more of our total accounts receivable balance. The risk of concentration for our convertible note\n",
    "hedges and interest rate swaps is mitigated by transacting with several highly-rated multinational banks.\n",
    "Concentration of Risk: Supply Risk\n",
    "We are dependent on our suppliers, including single source suppliers, and the inability of these suppliers to deliver necessary components of our\n",
    "products in a timely manner at prices, quality levels and volumes acceptable to us, or our inability to efficiently manage these components from these\n",
    "suppliers, could have a material adverse effect on our business, prospects, financial condition and operating results.\n",
    "'''\n",
    "pattern = 'Concentration of Risk: ([^\\n]*)'\n",
    "\n",
    "re.findall(pattern, text)"
   ]
  },
  {
   "cell_type": "code",
   "execution_count": 46,
   "id": "e41035e3-c532-4005-a90a-2144314b655f",
   "metadata": {},
   "outputs": [
    {
     "data": {
      "text/plain": [
       "['2021 Q1', '2021 S1']"
      ]
     },
     "execution_count": 46,
     "metadata": {},
     "output_type": "execute_result"
    }
   ],
   "source": [
    "text = '''\n",
    "Tesla's gross cost of operating lease vehicles in FY2021 Q1 was $4.85 billion.\n",
    "BMW's gross cost of operating vehicles in FY2021 S1 was $8 billion.\n",
    "'''\n",
    "pattern = 'FY(\\d{4} (?:Q[1-4]|S[1-2]))'  ##pattern = 'FY(\\d{4} [QS]\\d)'\n",
    "matches = re.findall(pattern, text)\n",
    "matches"
   ]
  },
  {
   "cell_type": "code",
   "execution_count": 33,
   "id": "20635097-fe8d-4292-a019-e768b2397f87",
   "metadata": {},
   "outputs": [
    {
     "data": {
      "text/plain": [
       "['(123)-567-8912']"
      ]
     },
     "execution_count": 33,
     "metadata": {},
     "output_type": "execute_result"
    }
   ],
   "source": [
    "chat1 = 'codebasics: you ask lot of questions 😠  1235678912, abc@xyz.com'\n",
    "chat2 = 'codebasics: here it is: (123)-567-8912, abc@xyz.com'\n",
    "chat3 = 'codebasics: yes, phone: 1235678912 email: abc@xyz.com'\n",
    "\n",
    "pattern = '\\d{10}|\\(\\d{3}\\)-\\d{3}-\\d{4}'\n",
    "re.findall(pattern, chat2)"
   ]
  },
  {
   "cell_type": "code",
   "execution_count": 37,
   "id": "9ccd68ea-fe39-4401-bd04-61ad7dbef51a",
   "metadata": {},
   "outputs": [
    {
     "data": {
      "text/plain": [
       "'abc@xyz.com'"
      ]
     },
     "execution_count": 37,
     "metadata": {},
     "output_type": "execute_result"
    }
   ],
   "source": [
    "pattern = '[a-zA-Z0-9_.]*@[a-zA-Z0-9]*\\.[a-zA-Z]*'\n",
    "email=re.findall(pattern, chat3)\n",
    "email[0]"
   ]
  },
  {
   "cell_type": "code",
   "execution_count": 38,
   "id": "b87be34d-59a5-47b2-a9e7-3a0c3aefaee6",
   "metadata": {},
   "outputs": [],
   "source": [
    "chat1='codebasics: Hello, I am having an issue with my order # 412889912'\n",
    "chat2='codebasics: I have a problem with my order number 412889912'\n",
    "chat3='codebasics: My order 412889912 is having an issue, I was charged 300$ when online it says 280$'"
   ]
  },
  {
   "cell_type": "code",
   "execution_count": 47,
   "id": "5ee52791-8a7c-4888-be8d-a43707e57c12",
   "metadata": {},
   "outputs": [
    {
     "data": {
      "text/plain": [
       "['412889912']"
      ]
     },
     "execution_count": 47,
     "metadata": {},
     "output_type": "execute_result"
    }
   ],
   "source": [
    "pattern = 'order[^0-9]*(\\d*)'\n",
    "re.findall(pattern, chat2)"
   ]
  },
  {
   "cell_type": "code",
   "execution_count": 48,
   "id": "aa1d4075-eb1e-4ef0-b696-ab169f24ea34",
   "metadata": {},
   "outputs": [],
   "source": [
    "text='''\n",
    "Born\tElon Reeve Musk\n",
    "June 28, 1971 (age 50)\n",
    "Pretoria, Transvaal, South Africa\n",
    "Citizenship\t\n",
    "South Africa (1971–present)\n",
    "Canada (1971–present)\n",
    "United States (2002–present)\n",
    "Education\tUniversity of Pennsylvania (BS, BA)\n",
    "Title\t\n",
    "Founder, CEO and Chief Engineer of SpaceX\n",
    "CEO and product architect of Tesla, Inc.\n",
    "Founder of The Boring Company and X.com (now part of PayPal)\n",
    "Co-founder of Neuralink, OpenAI, and Zip2\n",
    "Spouse(s)\t\n",
    "Justine Wilson\n",
    "​\n",
    "​(m. 2000; div. 2008)​\n",
    "Talulah Riley\n",
    "​\n",
    "​(m. 2010; div. 2012)​\n",
    "​\n",
    "​(m. 2013; div. 2016)\n",
    "'''"
   ]
  },
  {
   "cell_type": "code",
   "execution_count": 68,
   "id": "fa76b15d-8808-47c9-b0ac-c929a5dbec35",
   "metadata": {},
   "outputs": [
    {
     "data": {
      "text/plain": [
       "['50']"
      ]
     },
     "execution_count": 68,
     "metadata": {},
     "output_type": "execute_result"
    }
   ],
   "source": [
    "age = 'age (\\d*)'\n",
    "re.findall(age, text)"
   ]
  },
  {
   "cell_type": "code",
   "execution_count": 62,
   "id": "ffab5a9b-4764-4c5e-baef-47df7a5b3c12",
   "metadata": {},
   "outputs": [
    {
     "data": {
      "text/plain": [
       "'Elon Reeve Musk'"
      ]
     },
     "execution_count": 62,
     "metadata": {},
     "output_type": "execute_result"
    }
   ],
   "source": [
    "name = 'Born([^\\n]*)'\n",
    "matches=re.findall(name, text)\n",
    "matches[0].strip()   #.strip() remove the whitespace "
   ]
  },
  {
   "cell_type": "code",
   "execution_count": 60,
   "id": "882625b2-d671-426a-a563-e9234bd84184",
   "metadata": {},
   "outputs": [
    {
     "data": {
      "text/plain": [
       "'June 28, 1971'"
      ]
     },
     "execution_count": 60,
     "metadata": {},
     "output_type": "execute_result"
    }
   ],
   "source": [
    "date = 'Born[^\\n]*([^\\(]*)'\n",
    "matches=re.findall(date, text)\n",
    "matches[0].strip()   #.strip() remove the whitespace "
   ]
  },
  {
   "cell_type": "code",
   "execution_count": 61,
   "id": "aeb815b8-f348-4e9c-8d6c-8bf50d5f427a",
   "metadata": {},
   "outputs": [
    {
     "data": {
      "text/plain": [
       "'Pretoria, Transvaal, South Africa'"
      ]
     },
     "execution_count": 61,
     "metadata": {},
     "output_type": "execute_result"
    }
   ],
   "source": [
    "place = 'age.*\\n(.*)'\n",
    "matches=re.findall(place, text)\n",
    "matches[0].strip()   #.strip() remove the whitespace "
   ]
  },
  {
   "cell_type": "code",
   "execution_count": 84,
   "id": "cc5dc799-e010-4eb3-ac76-f57e8f2b5bcc",
   "metadata": {},
   "outputs": [],
   "source": [
    "def get_information(text):\n",
    "    name = re.findall('Born([^\\n]*)', text)  \n",
    "    age = re.findall('age (\\d*)', text)\n",
    "    date = re.findall('Born[^\\n]*([^\\(]*)', text)\n",
    "    place = re.findall('age.*\\n(.*)', text)\n",
    "    \n",
    "    return {'name': name[0].strip(),\n",
    "            'age': int(age[0]),\n",
    "            'date': date[0].strip(),\n",
    "            'place': place[0].strip()\n",
    "           }"
   ]
  },
  {
   "cell_type": "code",
   "execution_count": 85,
   "id": "1517b9a6-1c59-4b00-8e19-34ef71943980",
   "metadata": {},
   "outputs": [
    {
     "data": {
      "text/plain": [
       "{'name': 'Elon Reeve Musk',\n",
       " 'age': 50,\n",
       " 'date': 'June 28, 1971',\n",
       " 'place': 'Pretoria, Transvaal, South Africa'}"
      ]
     },
     "execution_count": 85,
     "metadata": {},
     "output_type": "execute_result"
    }
   ],
   "source": [
    "get_information(text)"
   ]
  },
  {
   "cell_type": "code",
   "execution_count": 86,
   "id": "bde8742c-7386-4c8e-b245-6a0e0a92b033",
   "metadata": {},
   "outputs": [],
   "source": [
    "text2 = '''\n",
    "Born\tMukesh Dhirubhai Ambani\n",
    "19 April 1957 (age 64)\n",
    "Aden, Colony of Aden\n",
    "(present-day Yemen)[1][2]\n",
    "Nationality\tIndian\n",
    "Alma mater\t\n",
    "St. Xavier's College, Mumbai\n",
    "Institute of Chemical Technology (B.E.)\n",
    "Stanford University (drop-out)\n",
    "Occupation\tChairman and MD, Reliance Industries\n",
    "Spouse(s)\tNita Ambani ​(m. 1985)​[3]\n",
    "Children\t3\n",
    "Parent(s)\t\n",
    "Dhirubhai Ambani (father)\n",
    "Kokilaben Ambani (mother)\n",
    "Relatives\tAnil Ambani (brother)\n",
    "Tina Ambani (sister-in-law)\n",
    "'''"
   ]
  },
  {
   "cell_type": "code",
   "execution_count": 87,
   "id": "36ea70b3-4729-4c88-9914-9d973436b63a",
   "metadata": {},
   "outputs": [
    {
     "data": {
      "text/plain": [
       "{'name': 'Mukesh Dhirubhai Ambani',\n",
       " 'age': 64,\n",
       " 'date': '19 April 1957',\n",
       " 'place': 'Aden, Colony of Aden'}"
      ]
     },
     "execution_count": 87,
     "metadata": {},
     "output_type": "execute_result"
    }
   ],
   "source": [
    "get_information(text2)"
   ]
  }
 ],
 "metadata": {
  "kernelspec": {
   "display_name": "Python 3",
   "language": "python",
   "name": "python3"
  },
  "language_info": {
   "codemirror_mode": {
    "name": "ipython",
    "version": 3
   },
   "file_extension": ".py",
   "mimetype": "text/x-python",
   "name": "python",
   "nbconvert_exporter": "python",
   "pygments_lexer": "ipython3",
   "version": "3.11.10"
  }
 },
 "nbformat": 4,
 "nbformat_minor": 5
}
