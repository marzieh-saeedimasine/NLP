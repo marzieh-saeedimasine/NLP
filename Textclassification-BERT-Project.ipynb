{
 "cells": [
  {
   "cell_type": "code",
   "execution_count": null,
   "id": "eb3526ca",
   "metadata": {},
   "outputs": [],
   "source": [
    "'''\n",
    "Text embedding with BERT model which is transformer based lang model\n",
    "-- BERT model was downloaded from TensorFlow hub: bert_preprocess and bert_model\n",
    "-- GPT model for Text Embedding  \n",
    "'''"
   ]
  },
  {
   "cell_type": "code",
   "execution_count": 2,
   "id": "c4552882-507a-4f88-8372-fc801b768151",
   "metadata": {
    "scrolled": true
   },
   "outputs": [],
   "source": [
    "import pandas as pd\n",
    "import matplotlib.pyplot as plt\n",
    "import seaborn as sns\n",
    "import tensorflow as tf\n",
    "from tensorflow import keras\n",
    "import tensorflow_hub as hub\n",
    "import tensorflow_text as text\n",
    "from sklearn.model_selection import train_test_split\n",
    "from sklearn.metrics.pairwise import cosine_similarity\n",
    "from sklearn.metrics import confusion_matrix, classification_report\n",
    "from transformers import GPT2Tokenizer, GPT2Model\n",
    "import torch"
   ]
  },
  {
   "cell_type": "code",
   "execution_count": 3,
   "id": "09eeef6a-8b76-47a8-a3a8-a7f538e439c0",
   "metadata": {},
   "outputs": [],
   "source": [
    "#BERT model from TensorFlow hub\n",
    "preprocess_url = \"https://tfhub.dev/tensorflow/bert_en_uncased_preprocess/3\"\n",
    "encoder_url = \"https://tfhub.dev/tensorflow/bert_en_uncased_L-12_H-768_A-12/4\"\n",
    "bert_preprocess_model = hub.KerasLayer(preprocess_url)\n",
    "bert_model = hub.KerasLayer(encoder_url)"
   ]
  },
  {
   "cell_type": "code",
   "execution_count": 31,
   "id": "fa2fa7ba-270d-4473-8a72-d4fc6fff666f",
   "metadata": {},
   "outputs": [
    {
     "data": {
      "text/plain": [
       "dict_keys(['input_type_ids', 'input_mask', 'input_word_ids'])"
      ]
     },
     "execution_count": 31,
     "metadata": {},
     "output_type": "execute_result"
    }
   ],
   "source": [
    "text_test = ['I am in the library','I get sick']\n",
    "bert_preprocess_result=bert_preprocess_model(text_test)\n",
    "bert_preprocess_result.keys()"
   ]
  },
  {
   "cell_type": "code",
   "execution_count": 32,
   "id": "21db5769-ca2b-4317-a16d-f67ecd5bc66c",
   "metadata": {},
   "outputs": [
    {
     "data": {
      "text/plain": [
       "<tf.Tensor: shape=(2, 128), dtype=int32, numpy=\n",
       "array([[ 101, 1045, 2572, 1999, 1996, 3075,  102,    0,    0,    0,    0,\n",
       "           0,    0,    0,    0,    0,    0,    0,    0,    0,    0,    0,\n",
       "           0,    0,    0,    0,    0,    0,    0,    0,    0,    0,    0,\n",
       "           0,    0,    0,    0,    0,    0,    0,    0,    0,    0,    0,\n",
       "           0,    0,    0,    0,    0,    0,    0,    0,    0,    0,    0,\n",
       "           0,    0,    0,    0,    0,    0,    0,    0,    0,    0,    0,\n",
       "           0,    0,    0,    0,    0,    0,    0,    0,    0,    0,    0,\n",
       "           0,    0,    0,    0,    0,    0,    0,    0,    0,    0,    0,\n",
       "           0,    0,    0,    0,    0,    0,    0,    0,    0,    0,    0,\n",
       "           0,    0,    0,    0,    0,    0,    0,    0,    0,    0,    0,\n",
       "           0,    0,    0,    0,    0,    0,    0,    0,    0,    0,    0,\n",
       "           0,    0,    0,    0,    0,    0,    0],\n",
       "       [ 101, 1045, 2131, 5305,  102,    0,    0,    0,    0,    0,    0,\n",
       "           0,    0,    0,    0,    0,    0,    0,    0,    0,    0,    0,\n",
       "           0,    0,    0,    0,    0,    0,    0,    0,    0,    0,    0,\n",
       "           0,    0,    0,    0,    0,    0,    0,    0,    0,    0,    0,\n",
       "           0,    0,    0,    0,    0,    0,    0,    0,    0,    0,    0,\n",
       "           0,    0,    0,    0,    0,    0,    0,    0,    0,    0,    0,\n",
       "           0,    0,    0,    0,    0,    0,    0,    0,    0,    0,    0,\n",
       "           0,    0,    0,    0,    0,    0,    0,    0,    0,    0,    0,\n",
       "           0,    0,    0,    0,    0,    0,    0,    0,    0,    0,    0,\n",
       "           0,    0,    0,    0,    0,    0,    0,    0,    0,    0,    0,\n",
       "           0,    0,    0,    0,    0,    0,    0,    0,    0,    0,    0,\n",
       "           0,    0,    0,    0,    0,    0,    0]], dtype=int32)>"
      ]
     },
     "execution_count": 32,
     "metadata": {},
     "output_type": "execute_result"
    }
   ],
   "source": [
    "bert_preprocess_result['input_word_ids'] # I get sick represents as: CLS I get sick SEP"
   ]
  },
  {
   "cell_type": "code",
   "execution_count": 34,
   "id": "066a033b-3780-444e-a977-222c929d9755",
   "metadata": {},
   "outputs": [
    {
     "data": {
      "text/plain": [
       "dict_keys(['pooled_output', 'sequence_output', 'encoder_outputs', 'default'])"
      ]
     },
     "execution_count": 34,
     "metadata": {},
     "output_type": "execute_result"
    }
   ],
   "source": [
    "bert_model_result=bert_model(bert_preprocess_result)\n",
    "bert_model_result.keys()"
   ]
  },
  {
   "cell_type": "code",
   "execution_count": 39,
   "id": "6d8c77f6-26dc-40ca-832f-a6649ca648cb",
   "metadata": {},
   "outputs": [
    {
     "data": {
      "text/plain": [
       "<tf.Tensor: shape=(2, 128, 768), dtype=bool, numpy=\n",
       "array([[[ True,  True,  True, ...,  True,  True,  True],\n",
       "        [ True,  True,  True, ...,  True,  True,  True],\n",
       "        [ True,  True,  True, ...,  True,  True,  True],\n",
       "        ...,\n",
       "        [ True,  True,  True, ...,  True,  True,  True],\n",
       "        [ True,  True,  True, ...,  True,  True,  True],\n",
       "        [ True,  True,  True, ...,  True,  True,  True]],\n",
       "\n",
       "       [[ True,  True,  True, ...,  True,  True,  True],\n",
       "        [ True,  True,  True, ...,  True,  True,  True],\n",
       "        [ True,  True,  True, ...,  True,  True,  True],\n",
       "        ...,\n",
       "        [ True,  True,  True, ...,  True,  True,  True],\n",
       "        [ True,  True,  True, ...,  True,  True,  True],\n",
       "        [ True,  True,  True, ...,  True,  True,  True]]])>"
      ]
     },
     "execution_count": 39,
     "metadata": {},
     "output_type": "execute_result"
    }
   ],
   "source": [
    "bert_model_result['encoder_outputs'][-1]==bert_model_result['sequence_output']"
   ]
  },
  {
   "cell_type": "code",
   "execution_count": 40,
   "id": "7736d9ed-d0c1-4908-9d7a-3eaa0a126424",
   "metadata": {},
   "outputs": [
    {
     "data": {
      "text/plain": [
       "<tf.Tensor: shape=(2, 768), dtype=float32, numpy=\n",
       "array([[-0.8810733 , -0.30647543, -0.3067159 , ...,  0.34875298,\n",
       "        -0.6965154 ,  0.945937  ],\n",
       "       [-0.9031191 , -0.37948215,  0.10816693, ...,  0.12191948,\n",
       "        -0.71289766,  0.95354706]], dtype=float32)>"
      ]
     },
     "execution_count": 40,
     "metadata": {},
     "output_type": "execute_result"
    }
   ],
   "source": [
    "bert_model_result['pooled_output']"
   ]
  },
  {
   "cell_type": "markdown",
   "id": "f0cb449c-0aba-4289-afbe-f3ac232c9f07",
   "metadata": {},
   "source": [
    "# Text Classification using BERT model"
   ]
  },
  {
   "cell_type": "code",
   "execution_count": 3,
   "id": "b83f4c8a-9335-4ceb-9fbc-80b3adbddab3",
   "metadata": {},
   "outputs": [
    {
     "data": {
      "text/html": [
       "<div>\n",
       "<style scoped>\n",
       "    .dataframe tbody tr th:only-of-type {\n",
       "        vertical-align: middle;\n",
       "    }\n",
       "\n",
       "    .dataframe tbody tr th {\n",
       "        vertical-align: top;\n",
       "    }\n",
       "\n",
       "    .dataframe thead th {\n",
       "        text-align: right;\n",
       "    }\n",
       "</style>\n",
       "<table border=\"1\" class=\"dataframe\">\n",
       "  <thead>\n",
       "    <tr style=\"text-align: right;\">\n",
       "      <th></th>\n",
       "      <th>Category</th>\n",
       "      <th>Message</th>\n",
       "    </tr>\n",
       "  </thead>\n",
       "  <tbody>\n",
       "    <tr>\n",
       "      <th>0</th>\n",
       "      <td>ham</td>\n",
       "      <td>Go until jurong point, crazy.. Available only ...</td>\n",
       "    </tr>\n",
       "    <tr>\n",
       "      <th>1</th>\n",
       "      <td>ham</td>\n",
       "      <td>Ok lar... Joking wif u oni...</td>\n",
       "    </tr>\n",
       "    <tr>\n",
       "      <th>2</th>\n",
       "      <td>spam</td>\n",
       "      <td>Free entry in 2 a wkly comp to win FA Cup fina...</td>\n",
       "    </tr>\n",
       "    <tr>\n",
       "      <th>3</th>\n",
       "      <td>ham</td>\n",
       "      <td>U dun say so early hor... U c already then say...</td>\n",
       "    </tr>\n",
       "    <tr>\n",
       "      <th>4</th>\n",
       "      <td>ham</td>\n",
       "      <td>Nah I don't think he goes to usf, he lives aro...</td>\n",
       "    </tr>\n",
       "  </tbody>\n",
       "</table>\n",
       "</div>"
      ],
      "text/plain": [
       "  Category                                            Message\n",
       "0      ham  Go until jurong point, crazy.. Available only ...\n",
       "1      ham                      Ok lar... Joking wif u oni...\n",
       "2     spam  Free entry in 2 a wkly comp to win FA Cup fina...\n",
       "3      ham  U dun say so early hor... U c already then say...\n",
       "4      ham  Nah I don't think he goes to usf, he lives aro..."
      ]
     },
     "execution_count": 3,
     "metadata": {},
     "output_type": "execute_result"
    }
   ],
   "source": [
    "## Spam email data set was taken from: https://www.kaggle.com/datasets/mfaisalqureshi/spam-email?resource=download\n",
    "df=pd.read_csv('spam.csv')\n",
    "df.head()"
   ]
  },
  {
   "cell_type": "code",
   "execution_count": 4,
   "id": "b1c470b2-7b68-43f1-9922-7f32eecd22ba",
   "metadata": {},
   "outputs": [],
   "source": [
    "df['Category'].value_counts()\n",
    "df['spam']=df['Category'].apply(lambda x: 1 if x=='spam' else 0)\n",
    "df_spam=df[df.spam==1]\n",
    "df_ham=df[df.spam==0]\n",
    "df_ham_blance=df_ham.sample(df_spam.shape[0])\n",
    "df_blance=pd.concat([df_spam,df_ham_blance])\n",
    "df_blance['spam'].value_counts()\n",
    "x_train, x_test, y_train, y_text= train_test_split(df_blance.Message,df_blance.spam, stratify=df_blance['spam'])"
   ]
  },
  {
   "cell_type": "code",
   "execution_count": 12,
   "id": "1d55ccc7-9aff-46ca-bbda-469311ee8f04",
   "metadata": {},
   "outputs": [
    {
     "name": "stdout",
     "output_type": "stream",
     "text": [
      "Model: \"model\"\n",
      "__________________________________________________________________________________________________\n",
      " Layer (type)                Output Shape                 Param #   Connected to                  \n",
      "==================================================================================================\n",
      " text (InputLayer)           [(None,)]                    0         []                            \n",
      "                                                                                                  \n",
      " keras_layer (KerasLayer)    {'input_type_ids': (None,    0         ['text[0][0]']                \n",
      "                             128),                                                                \n",
      "                              'input_mask': (None, 128)                                           \n",
      "                             , 'input_word_ids': (None,                                           \n",
      "                              128)}                                                               \n",
      "                                                                                                  \n",
      " keras_layer_1 (KerasLayer)  {'pooled_output': (None, 7   1094822   ['keras_layer[0][0]',         \n",
      "                             68),                         41         'keras_layer[0][1]',         \n",
      "                              'sequence_output': (None,              'keras_layer[0][2]']         \n",
      "                              128, 768),                                                          \n",
      "                              'encoder_outputs': [(None                                           \n",
      "                             , 128, 768),                                                         \n",
      "                              (None, 128, 768),                                                   \n",
      "                              (None, 128, 768),                                                   \n",
      "                              (None, 128, 768),                                                   \n",
      "                              (None, 128, 768),                                                   \n",
      "                              (None, 128, 768),                                                   \n",
      "                              (None, 128, 768),                                                   \n",
      "                              (None, 128, 768),                                                   \n",
      "                              (None, 128, 768),                                                   \n",
      "                              (None, 128, 768),                                                   \n",
      "                              (None, 128, 768),                                                   \n",
      "                              (None, 128, 768)],                                                  \n",
      "                              'default': (None, 768)}                                             \n",
      "                                                                                                  \n",
      " dropout (Dropout)           (None, 768)                  0         ['keras_layer_1[0][13]']      \n",
      "                                                                                                  \n",
      " dense (Dense)               (None, 1)                    769       ['dropout[0][0]']             \n",
      "                                                                                                  \n",
      "==================================================================================================\n",
      "Total params: 109483010 (417.64 MB)\n",
      "Trainable params: 769 (3.00 KB)\n",
      "Non-trainable params: 109482241 (417.64 MB)\n",
      "__________________________________________________________________________________________________\n"
     ]
    }
   ],
   "source": [
    "input_text=tf.keras.layers.Input(shape=(), dtype=tf.string, name='text')\n",
    "preprocess_text=bert_preprocess_model(input_text)\n",
    "output_text=bert_model(preprocess_text)\n",
    "\n",
    "layer=tf.keras.layers.Dropout(0.1,name=\"dropout\")(output_text['pooled_output'])\n",
    "dense=tf.keras.layers.Dense(1, activation='sigmoid',name=\"dense\")(layer)\n",
    "\n",
    "model=tf.keras.Model(inputs=[input_text],outputs=[dense])\n",
    "model.summary()"
   ]
  },
  {
   "cell_type": "code",
   "execution_count": 13,
   "id": "9bd1e54a-2f62-4b4f-990d-770c5a3d3018",
   "metadata": {},
   "outputs": [],
   "source": [
    "METRICS=[\n",
    "    tf.keras.metrics.BinaryAccuracy(name='accuracy'),\n",
    "    tf.keras.metrics.Precision(name='precision'),\n",
    "    tf.keras.metrics.Recall(name='recall')\n",
    "]\n",
    "\n",
    "\n",
    "model.compile(optimizer='adam',\n",
    "              loss='binary_crossentropy',\n",
    "              metrics=METRICS)"
   ]
  },
  {
   "cell_type": "code",
   "execution_count": 14,
   "id": "ab464e2f-87e7-477b-ad76-3ef45f8d3a5c",
   "metadata": {},
   "outputs": [
    {
     "name": "stdout",
     "output_type": "stream",
     "text": [
      "Epoch 1/3\n",
      "35/35 [==============================] - 187s 5s/step - loss: 0.6064 - accuracy: 0.7295 - precision: 0.7299 - recall: 0.7286\n",
      "Epoch 2/3\n",
      "35/35 [==============================] - 175s 5s/step - loss: 0.4886 - accuracy: 0.8259 - precision: 0.8219 - recall: 0.8321\n",
      "Epoch 3/3\n",
      "35/35 [==============================] - 176s 5s/step - loss: 0.4145 - accuracy: 0.8705 - precision: 0.8535 - recall: 0.8946\n"
     ]
    },
    {
     "data": {
      "text/plain": [
       "<keras.src.callbacks.History at 0x13ff48150>"
      ]
     },
     "execution_count": 14,
     "metadata": {},
     "output_type": "execute_result"
    }
   ],
   "source": [
    "model.fit(x_train,y_train, epochs=3)"
   ]
  },
  {
   "cell_type": "code",
   "execution_count": 15,
   "id": "91802fca-dcd3-463e-afa9-ad9b53b71ed8",
   "metadata": {},
   "outputs": [
    {
     "name": "stdout",
     "output_type": "stream",
     "text": [
      "12/12 [==============================] - 63s 5s/step - loss: 0.3897 - accuracy: 0.8636 - precision: 0.8238 - recall: 0.9251\n"
     ]
    },
    {
     "data": {
      "text/plain": [
       "[0.38970690965652466,\n",
       " 0.8636363744735718,\n",
       " 0.8238095045089722,\n",
       " 0.9251337051391602]"
      ]
     },
     "execution_count": 15,
     "metadata": {},
     "output_type": "execute_result"
    }
   ],
   "source": [
    "model.evaluate(x_test, y_text)"
   ]
  },
  {
   "cell_type": "code",
   "execution_count": 21,
   "id": "c6405119-b97f-416d-9f4e-fc93e6ac71d9",
   "metadata": {},
   "outputs": [
    {
     "name": "stdout",
     "output_type": "stream",
     "text": [
      "12/12 [==============================] - 61s 5s/step\n"
     ]
    }
   ],
   "source": [
    "y_pred=model.predict(x_test)\n",
    "y_pred=y_pred.flatten()"
   ]
  },
  {
   "cell_type": "code",
   "execution_count": 23,
   "id": "257799c2-cfb4-4e4c-a660-5b3b2f87a171",
   "metadata": {},
   "outputs": [],
   "source": [
    "y_pred=[(lambda x:1 if x>0.5 else 0)(i) for i in y_pred]"
   ]
  },
  {
   "cell_type": "code",
   "execution_count": 36,
   "id": "d8b2a09b-5dca-4454-bfc0-0951fe108877",
   "metadata": {},
   "outputs": [
    {
     "data": {
      "text/plain": [
       "Text(50.722222222222214, 0.5, 'Truth')"
      ]
     },
     "execution_count": 36,
     "metadata": {},
     "output_type": "execute_result"
    },
    {
     "data": {
      "image/png": "[encoded data removed]",
      "text/plain": [
       "<Figure size 640x480 with 2 Axes>"
      ]
     },
     "metadata": {},
     "output_type": "display_data"
    }
   ],
   "source": [
    "cm=confusion_matrix(y_text, y_pred)\n",
    "sns.heatmap(cm, annot=True)\n",
    "plt.xlabel(\"Predicted\")\n",
    "plt.ylabel(\"Truth\")"
   ]
  },
  {
   "cell_type": "code",
   "execution_count": 37,
   "id": "ab110871-af94-42bd-af3d-ff8e40e26d6c",
   "metadata": {},
   "outputs": [
    {
     "name": "stdout",
     "output_type": "stream",
     "text": [
      "              precision    recall  f1-score   support\n",
      "\n",
      "           0       0.91      0.80      0.85       187\n",
      "           1       0.82      0.93      0.87       187\n",
      "\n",
      "    accuracy                           0.86       374\n",
      "   macro avg       0.87      0.86      0.86       374\n",
      "weighted avg       0.87      0.86      0.86       374\n",
      "\n"
     ]
    }
   ],
   "source": [
    "print(classification_report(y_text, y_pred))"
   ]
  },
  {
   "cell_type": "code",
   "execution_count": 40,
   "id": "48780068-d5c5-4061-b1a0-5a0c9ae86f7a",
   "metadata": {},
   "outputs": [
    {
     "name": "stdout",
     "output_type": "stream",
     "text": [
      "1/1 [==============================] - 1s 1s/step\n"
     ]
    }
   ],
   "source": [
    "reviews = [\n",
    "    'Enter a chance to win $5000, hurry up, offer valid until march 31, 2021',\n",
    "    'You are awarded a SiPix Digital Camera! call 09061221061 from landline. Delivery within 28days. T Cs Box177. M221BP. 2yr warranty. 150ppm. 16 . p pÂ£3.99',\n",
    "    'it to 80488. Your 500 free text messages are valid until 31 December 2005.',\n",
    "    'Hey Sam, Are you coming for a cricket game tomorrow',\n",
    "    \"Why don't you wait 'til at least wednesday to see if you get your .\"\n",
    "]\n",
    "reviews_pred=model.predict(reviews)"
   ]
  },
  {
   "cell_type": "code",
   "execution_count": 41,
   "id": "8d3e6286-0a77-4544-820f-f6320de74b30",
   "metadata": {},
   "outputs": [],
   "source": [
    "reviews_pred=[(lambda x:1 if x>0.5 else 0)(i) for i in reviews_pred]"
   ]
  },
  {
   "cell_type": "code",
   "execution_count": 42,
   "id": "04ceb2af-857c-4d07-9dd1-338ff6a4f969",
   "metadata": {},
   "outputs": [
    {
     "data": {
      "text/plain": [
       "[1, 1, 1, 0, 0]"
      ]
     },
     "execution_count": 42,
     "metadata": {},
     "output_type": "execute_result"
    }
   ],
   "source": [
    "reviews_pred"
   ]
  },
  {
   "cell_type": "markdown",
   "id": "e0d9a102",
   "metadata": {},
   "source": [
    "# Text Embedding using GPT model"
   ]
  },
  {
   "cell_type": "code",
   "execution_count": null,
   "id": "f45342cb",
   "metadata": {},
   "outputs": [],
   "source": [
    "# Load pre-trained GPT-2 model and tokenizer\n",
    "tokenizer = GPT2Tokenizer.from_pretrained(\"gpt2\")\n",
    "model = GPT2Model.from_pretrained(\"gpt2\")\n",
    "\n",
    "# Example text to convert to word embeddings\n",
    "text_to_embed = \"Your input text goes here.\"\n",
    "\n",
    "# Tokenize the text\n",
    "tokens = tokenizer(text_to_embed, return_tensors=\"pt\")\n",
    "\n",
    "# Forward pass through the model to obtain embeddings\n",
    "outputs = model(**tokens)\n",
    "\n",
    "# Extract the embeddings from the last layer\n",
    "last_hidden_states = outputs.last_hidden_state\n",
    "\n",
    "# Take the mean of embeddings to obtain a single vector for the entire text\n",
    "mean_embeddings = torch.mean(last_hidden_states, dim=1).squeeze()\n",
    "\n",
    "# Print the resulting embedding vector\n",
    "print(\"Word Embedding Vector:\", mean_embeddings)\n"
   ]
  },
  {
   "cell_type": "code",
   "execution_count": null,
   "id": "9503c36b",
   "metadata": {},
   "outputs": [],
   "source": [
    "mean_embeddings.tolist()"
   ]
  }
 ],
 "metadata": {
  "kernelspec": {
   "display_name": "Python 3",
   "language": "python",
   "name": "python3"
  },
  "language_info": {
   "codemirror_mode": {
    "name": "ipython",
    "version": 3
   },
   "file_extension": ".py",
   "mimetype": "text/x-python",
   "name": "python",
   "nbconvert_exporter": "python",
   "pygments_lexer": "ipython3",
   "version": "3.11.10"
  }
 },
 "nbformat": 4,
 "nbformat_minor": 5
}
