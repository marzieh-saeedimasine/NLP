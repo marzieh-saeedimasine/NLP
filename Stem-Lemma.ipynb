{
 "cells": [
  {
   "cell_type": "markdown",
   "id": "50186e6b-14d6-48f2-8675-ccdf627c3672",
   "metadata": {},
   "source": [
    "# Stemming uses simple rules to drive base word\n",
    "# Lemmatization uses knowledge of language to drive the base word\n",
    "# spacy doesnt has stemming, NLTK has both stemming and lemma"
   ]
  },
  {
   "cell_type": "code",
   "execution_count": 22,
   "id": "1096828e-ff88-4ee3-a7d0-e78192832b31",
   "metadata": {},
   "outputs": [],
   "source": [
    "import numpy as np\n",
    "import pandas as pd\n",
    "import spacy\n",
    "import nltk\n",
    "from nltk.stem import PorterStemmer, SnowballStemmer "
   ]
  },
  {
   "cell_type": "code",
   "execution_count": 23,
   "id": "66c18f49-c892-49c9-b7c5-95a56bbb115c",
   "metadata": {},
   "outputs": [
    {
     "name": "stdout",
     "output_type": "stream",
     "text": [
      "eating  |  eat\n",
      "eats  |  eat\n",
      "eat  |  eat\n",
      "ate  |  ate\n",
      "adjustable  |  adjust\n",
      "rafting  |  raft\n",
      "ability  |  abil\n",
      "meeting  |  meet\n"
     ]
    }
   ],
   "source": [
    "stemmer=PorterStemmer()\n",
    "\n",
    "words = [\"eating\", \"eats\", \"eat\", \"ate\", \"adjustable\", \"rafting\", \"ability\", \"meeting\"]\n",
    "for word in words:\n",
    "    print(word, \" | \", stemmer.stem(word))"
   ]
  },
  {
   "cell_type": "code",
   "execution_count": 32,
   "id": "798fbf8e-a7f8-4132-9ae3-b117d809ce3c",
   "metadata": {},
   "outputs": [
    {
     "name": "stdout",
     "output_type": "stream",
     "text": [
      "eating  |  eat\n",
      "eats  |  eat\n",
      "eat  |  eat\n",
      "ate  |  ate\n",
      "adjustable  |  adjust\n",
      "rafting  |  raft\n",
      "ability  |  abil\n",
      "meeting  |  meet\n"
     ]
    }
   ],
   "source": [
    "language = 'english'\n",
    "stemmer = SnowballStemmer(language)\n",
    "\n",
    "words = [\"eating\", \"eats\", \"eat\", \"ate\", \"adjustable\", \"rafting\", \"ability\", \"meeting\"]\n",
    "for word in words:\n",
    "    print(word, \" | \", stemmer.stem(word))"
   ]
  },
  {
   "cell_type": "code",
   "execution_count": 34,
   "id": "ee56f436-e0f4-4083-8a1f-1a3476fe3a4e",
   "metadata": {},
   "outputs": [
    {
     "name": "stdout",
     "output_type": "stream",
     "text": [
      "eating  |  eat\n",
      "eats  |  eat\n",
      "eat  |  eat\n",
      "ate  |  ate\n",
      "adjustable  |  adjust\n",
      "rafting  |  raft\n",
      "ability  |  abil\n",
      "meeting  |  meet\n"
     ]
    }
   ],
   "source": [
    "doc = nltk.word_tokenize(\"eating eats eat ate adjustable rafting ability meeting better\")\n",
    "for word in words:\n",
    "    print(word, \" | \", stemmer.stem(word))"
   ]
  },
  {
   "cell_type": "code",
   "execution_count": 38,
   "id": "86495ff4-1d58-46c4-9266-0cdc58a8cbcd",
   "metadata": {},
   "outputs": [
    {
     "name": "stdout",
     "output_type": "stream",
     "text": [
      "eating  |  eat 9837207709914848172\n",
      "eats  |  eat 9837207709914848172\n",
      "eat  |  eat 9837207709914848172\n",
      "ate  |  eat 9837207709914848172\n",
      "adjustable  |  adjustable 6033511944150694480\n",
      "rafting  |  raft 7154368781129989833\n",
      "ability  |  ability 11565809527369121409\n",
      "meeting  |  meeting 14798207169164081740\n",
      "better  |  well 4525988469032889948\n"
     ]
    }
   ],
   "source": [
    "nlp=spacy.load(\"en_core_web_sm\")\n",
    "\n",
    "doc = nlp(\"eating eats eat ate adjustable rafting ability meeting better\")\n",
    "for token in doc:\n",
    "    print(token, \" | \", token.lemma_, token.lemma)"
   ]
  },
  {
   "cell_type": "markdown",
   "id": "1cdcebf0-bf82-441c-b14f-301a0c13b8e7",
   "metadata": {},
   "source": [
    "# Customize Lemma for slang and special words"
   ]
  },
  {
   "cell_type": "code",
   "execution_count": 60,
   "id": "afc01f02-c501-4f56-9055-efe0e0e67d5a",
   "metadata": {},
   "outputs": [
    {
     "name": "stdout",
     "output_type": "stream",
     "text": [
      "Bro  |  bro  |  3493238095688267532\n",
      ",  |  ,  |  2593208677638477497\n",
      "you  |  you  |  7624161793554793053\n",
      "wanna  |  wanna  |  13000462173222681081\n",
      "go  |  go  |  8004577259940138793\n",
      "?  |  ?  |  8205403955989537350\n",
      "Brah  |  Brah  |  5645766505577852541\n",
      ",  |  ,  |  2593208677638477497\n",
      "do  |  do  |  2158845516055552166\n",
      "n't  |  not  |  447765159362469301\n",
      "say  |  say  |  8685289367999165211\n",
      "no  |  no  |  13055779130471031426\n",
      "to  |  to  |  3791531372978436496\n",
      "Brother  |  Brother  |  4347558510128575363\n",
      "!  |  !  |  17494803046312582752\n",
      "I  |  I  |  4690420944186131903\n",
      "am  |  be  |  10382539506755952630\n",
      "exhausted  |  exhaust  |  5738807065439247694\n"
     ]
    }
   ],
   "source": [
    "nlp=spacy.load(\"en_core_web_sm\")\n",
    "\n",
    "doc = nlp(\"Bro, you wanna go? Brah, don't say no to Brother! I am exhausted\")\n",
    "for token in doc:\n",
    "    print(token, \" | \", token.lemma_, \" | \", token.lemma)"
   ]
  },
  {
   "cell_type": "code",
   "execution_count": 61,
   "id": "450f11c4-b86e-4ab8-b9da-9f976f41cb3a",
   "metadata": {},
   "outputs": [],
   "source": [
    "ar=nlp.get_pipe('attribute_ruler')\n",
    "ar.add([[{\"TEXT\":\"Bro\"}],[{\"TEXT\":\"Brah\"}]],{\"LEMMA\":\"Brother\"})"
   ]
  },
  {
   "cell_type": "code",
   "execution_count": 63,
   "id": "86ecd506-9243-4a33-9b4b-87360705fe58",
   "metadata": {},
   "outputs": [
    {
     "name": "stdout",
     "output_type": "stream",
     "text": [
      "Bro  |  Brother  |  4347558510128575363\n",
      ",  |  ,  |  2593208677638477497\n",
      "you  |  you  |  7624161793554793053\n",
      "wanna  |  wanna  |  13000462173222681081\n",
      "go  |  go  |  8004577259940138793\n",
      "?  |  ?  |  8205403955989537350\n",
      "Brah  |  Brother  |  4347558510128575363\n",
      ",  |  ,  |  2593208677638477497\n",
      "do  |  do  |  2158845516055552166\n",
      "n't  |  not  |  447765159362469301\n",
      "say  |  say  |  8685289367999165211\n",
      "no  |  no  |  13055779130471031426\n",
      "to  |  to  |  3791531372978436496\n",
      "Brother  |  Brother  |  4347558510128575363\n",
      "!  |  !  |  17494803046312582752\n",
      "I  |  I  |  4690420944186131903\n",
      "am  |  be  |  10382539506755952630\n",
      "exhausted  |  exhaust  |  5738807065439247694\n"
     ]
    }
   ],
   "source": [
    "doc = nlp(\"Bro, you wanna go? Brah, don't say no to Brother! I am exhausted\")\n",
    "for token in doc:\n",
    "    print(token, \" | \", token.lemma_, \" | \", token.lemma)"
   ]
  },
  {
   "cell_type": "code",
   "execution_count": null,
   "id": "bec79f7b-b705-44bd-a0cf-3c53b82497f7",
   "metadata": {},
   "outputs": [],
   "source": []
  }
 ],
 "metadata": {
  "kernelspec": {
   "display_name": "Python 3 (ipykernel)",
   "language": "python",
   "name": "python3"
  },
  "language_info": {
   "codemirror_mode": {
    "name": "ipython",
    "version": 3
   },
   "file_extension": ".py",
   "mimetype": "text/x-python",
   "name": "python",
   "nbconvert_exporter": "python",
   "pygments_lexer": "ipython3",
   "version": "3.11.5"
  }
 },
 "nbformat": 4,
 "nbformat_minor": 5
}
